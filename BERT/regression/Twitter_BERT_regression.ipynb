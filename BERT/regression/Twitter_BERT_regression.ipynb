{
  "nbformat": 4,
  "nbformat_minor": 0,
  "metadata": {
    "kernelspec": {
      "display_name": "Python 3",
      "language": "python",
      "name": "python3"
    },
    "language_info": {
      "codemirror_mode": {
        "name": "ipython",
        "version": 3
      },
      "file_extension": ".py",
      "mimetype": "text/x-python",
      "name": "python",
      "nbconvert_exporter": "python",
      "pygments_lexer": "ipython3",
      "version": "3.7.1"
    },
    "colab": {
      "name": "Twitter_BERT_regression.ipynb",
      "provenance": [],
      "collapsed_sections": []
    }
  },
  "cells": [
    {
      "cell_type": "markdown",
      "metadata": {
        "id": "-7O4RWWYWwjI",
        "colab_type": "text"
      },
      "source": [
        "# Prepare data for Colab"
      ]
    },
    {
      "cell_type": "code",
      "metadata": {
        "id": "DM6mbqd8WwjL",
        "colab_type": "code",
        "colab": {}
      },
      "source": [
        "# prepare data as a string to be used by colab\n",
        "\n",
        "import pandas as pd\n",
        "abc = pd.read_excel(\"test_400_P1.xlsx\")\n",
        "\n",
        "import numpy as np\n",
        "arr = np.array(abc)\n",
        "\n",
        "content = abc.columns[0] + '\\t' + abc.columns[1]\n",
        "for i in range(len(arr)):\n",
        "    content += '\\n' + str(arr[i, 0]) + '\\t' + str(arr[i, 1])\n",
        "    \n",
        "content"
      ],
      "execution_count": 0,
      "outputs": []
    },
    {
      "cell_type": "code",
      "metadata": {
        "id": "X5QXzwL-WwjP",
        "colab_type": "code",
        "colab": {}
      },
      "source": [
        "# run this in colab to prepare data !!!\n",
        "\n",
        "content = 'Contents\\tOpinion\\n\"Alright guys, juul break!\" Thanks, Mom!!\\t0\\nDoing hookah alone makes me a crackhead?\\t0\\n@bootyfinesserv3 Hookah is legit banned in this country I don’t even know how they do it lol\\t1\\nI need to go get coals for my hookah. 😩 I ran out!\\t0\\nCastro exempted vaping from the HUD smoking ban, for which I am grateful.\\t1\\nLuschek stops in to talk to Gloria and sneak a few hits from his vape. She reminds him that his selfishness and apathy directly added to her sentence and cost Doggett her life. #OrangeIsTheNewBlack #OrangeForever\\t0\\nI haven’t consumed alcohol or hookah in almost 3 days 🙄🙄🙄🙄 this ain’t it\\t1\\nMom and pop vape shop: Family Juuls.\\t0\\n@mikemcgowow Yeah having a partner in that shit is wicked helpful. I’ll just keep rage throwing my juul into a dumpster until it works\\t0\\nI need my own hookah.\\t1\\n@dannycarlson02 protect my right to juul\\t1\\ngoing have me a drink and puff me some hookah\\t0\\nHe put Essentia in the hookah 😂 is that’s not love I don’t know what is\\t0\\nnew vape 😁😍😋\\t1\\nyang better hit a fuckin vape on stage I swear to got\\t0\\n@_paigesmith13 you act like im not gonna pass my juul down through the generations...\\t0\\n@chasssjanine I haven’t bought my vape yet though :/\\t0\\nVape rig that looks like an AirPod case™\\t0\\nQT @BFBIV: update: I found it outside, cleaned her up now shes good as new. 👍🏼 ; cant find my juul, panic attack ahead\\t0\\nCan somebody send a juul to Mexico please\\t0\\nBroke my phone so I have to go get a new one, popped my tire, lost my vape in a field, lost my charger, cut my body all up because I fell on a rock, called many people I shouldn’t have, lost my clothes.. all last night. Don’t drink\\t0\\n@AlanciaLynette Dawghouse I bet, some at the hookah lounge too?\\t0\\n@mattPFV Vape Nation Man\\t1\\nQT @Sizzilin_Stew: This is what they’ve been waiting for ; Boys Daddy is OFF the JuuL and onto the cigarettes\\t0\\nsome of you have never experienced getting anxiety ab asking if u can hit ur friends juul and its SHOWS.\\t0\\n@BretWeinstein You mean vaping Roundup is bad for me? Thanks California!\\t0\\n@jordaanblok I\\'m the discreet juul (What top are you wearing?)\\t0\\nQT @CDCTobaccoFree: Totally get the campaign against combustible and chewable tobacco but vape has been a good middle ground for recovering smokers. That kids use them is an issue of poor parenting. ; E-cigarettes contain nicotine, which can impact learning and memory. Learn the health risks for your young patients.\\t1\\nForever losing my juul wow\\t0\\nimagine not being able to go 5 min without ripping a juul and spending mad money on pods ,,,, couldn’t be me sis 🤧\\t0\\nI can’t tell if I’m still in Brooklyn ... I’m walking up franklin and niggas smoking hookah on the corner\\t0\\nQT @elfishh: 1. Vape 2. World of Rocks punch card 3. Perfume/cologne samples 4. Aveeno unscented lotion 5. OG Hot Topic “friends with benefit” card ; new personality quiz: describe yourself using 5 things that are probably in your purse/backpack/whatever at any given moment\\t0\\nwent to hit my vape but instead it was my water bottle so now i’m drowning and stupid\\t1\\n@philterlabs @WeedFeed @TheWeedTube1 A lot of effort to hide the Smell . Vape pens almost no Oder\\t0\\n@NewsBreaking \\'The woman’s boyfriend told investigators she used a marijuana vaping pen and had been to the ER three weeks before she died because of a chest infection.\\' So really it was a combo of tainted GMO type vape juice/or pen and her chest infection.\\t0\\n@castello2 @SuckMyMod @featherbear15 Before vaping was banned in my building though, I thought the ban was silly. I started reading because of that and changed my mind. Still willing to read, but it\\'s hard for me to dismiss the sources I already mentioned.\\t-1\\ni lost my fucking juul, my nail is messed up, its hot, AND im broke as fuck now so happy friday to me lol\\t0\\nI think I lost my juul and i’m upset\\t0\\n@Simonee_99 ian never smokin on hookah again\\t-1\\n@tripndie me every time i juul\\t0\\nguys im coming at u with very sad news. i lost my jesus juul yesterday and i wanted everyone to know i will be mourning for a while. would appreciate some time to heal. thank u have a blessed day\\t0\\nWhen are they gonna come out with a juul emoji tho\\t0\\nupdate: I figured out how to get my vape mixture 2:1 cbd to juice ratio, now I’m exxxtra chill\\t1\\nI wanna b as passionate about something like people that stay up to date on the latest vape tech and shit\\t0\\nFuck a juul Im purchasing a vape lol\\t1\\nSex is great and all but have y’all ever hit a juul pod when you’re not used to high nicotine 👀\\t1\\nI want to go to the hookah bar\\t0\\nQT @_kissmycass: We destroyed the planet with cigs and now we’re going to do it with juuls? Y’all are trash ; Idk who needs to hear this but... STOP THROWING YOUR EMPTY JUUL PODS ON THE FLOOR It is littering. They are thick hard plastic w chemicals and are the perfect size for animals to eat\\t-1\\nAll she do is smoke hookah 😩😩\\t0\\nYou ever hit the hookah so hard you choke\\t0\\ni need mcdonald’s and garlic bread and juul pods fuck\\t0\\nVaping outside the Olive Garden like true American white trash\\t0\\n@SwaggerSouls Swags your gonna died with the next 2 weeks an kill everyone in that house for your juul In other words.. You fucking weak cunt give up now before its too late\\t-1\\nI’m going to ask again do people inhale hookah?\\t0\\n@TimRunsHisMouth And harbor criminals, legalize marijuana and hand out hypodermic needles but don’t you dare Juul.\\t1\\nImagine being an adult using a juul to quit smoking, and you really like mango pods, but a bunch of nicotine addicted 16 year old got your shit taken.\\t1\\nQT @CoachCookCHS: #Preach. ; It blows my mind the amount of young student athletes that are vaping. That stuff ruins an athlete’s hard work. It destroys their stamina. Athletes, you do it because it’s cool? You know what else is cool? Being able to play 4 quarters of a game and lead your team to a win.\\t-1\\n@PKBohan Coffee and my vape\\t0\\nQT @CAVBERNAH: 🤣🤣🤣🤣🤣 ; Y’all not tired of blowing hookah smoke into your phone via snap!? Jeez I’m tiiiiiiide of seeing it\\t-1\\nI’ve been cleaning/doing chores, listening to music all day and keep taking breaks to tweet and vape my cbd lmaooo\\t0\\ncan i hit someone’s juul\\t0\\n@twentyfourzz I bought a juul charger today ($10.95)\\t0\\n@AW_YouMad Cuz I can’t do the hookah fr\\t0\\n“Does anyone have a fucking juul?’” @THEnolanhenly Also “bust down thotiana” in the stockyards @Carson_Reed10\\t0\\n@VapinSquirrel @jsummers71 #vape #vapingsaveslives #vapefam Well put Ivanna 👈👏👏\\t1\\n@glorianna21 Not anymore :/ now it’s bubba vape\\t0\\n@kittypurrzog I think the headline should be \"SF becomes the first US city to create a e-cig black market\"\\t0\\nI need to be completely naked , stomach on E , and sleep for like 6 hours straight and then wake up to being held and cuddled. And then make some lasagna or Meatballs. A little vape 💨 wouldn’t be bad either lmfao .\\t0\\nQT @SwiftOnSecurity: i was *not* on this call.... ; On a 40-person call and it sounded like someone forgot mute and took a monster bong hit. We’ll just go with hookah enthusiast...\\t0\\nif i had all the money back that i’ve spent on juul pods i’d be papered up 😶\\t0\\n@thisisbrookeb we’re literally vape hot boxing your car\\t0\\nFor every gift giving holiday I get asked if I’d like Juul Pods.. is this a problem?!\\t0\\n@lilfryh Didn’t say mango juul pods\\t0\\n@TweetsbyMontyy Hookah smoke\\t0\\nIf you juul, I will think lesser of you and make no apologies\\t-1\\n*charges my vape pen in the school library computers*\\t0\\nThey should replace Chuck Todd on Meet the Press with a sweating mason jar of hot dog-flavored vape juice\\t0\\nI brought a vape today. It was the most impulsive of impulse buys\\t0\\nReal friends let you borrow their juul charger @sav_hartmann\\t0\\n@yessiebabyyy Juul’s are horrible, go to a vape shop and get a real mod\\t1\\nIon smoke vapes that aint come from a dispensary\\t0\\nOoooo them post shower juul rips, shit hits diffffferentttt\\t0\\ni’m in naperville with no juul charger .. who got me /:\\t0\\n@antihannaszn Them shits r like craxk tho fr they hit better than most Vapes\\t1\\nFinally 21‼️🔥🤯 Now I can finally go to a Queens hookah lounge 🌶🙇🏽\\u200d♂️ I hope it’s fun 😳🙏🏽\\t0\\nJust so everyones up to date, my juul fell 38 floors and still works\\t1\\nhad juul and a bang for breakfast 🤪✌🏼\\t1\\nme a year ago: we GET IT you VAPE me now: *buys a vape pen*\\t1\\nToday I bought juul pods good big\\t0\\nIn Canada they call creme brulee juul pods just \"vanilla.\" Truly the land time forgot.\\t0\\nmy friend told me they were going to buy me a juul for my birthday😳\\t0\\nIm wylin if I propose to the school that I want to do a presentation about Hookah Negligence ?\\t-1\\n@johnaarellano I found your juul\\t0\\nQT @donnicholass: 🗣🗣🗣🗣🗣 ; • DAY PARTY AT ZONA • NO COVER | $100 REG BOTTLES | $15 HOOKAH | $5 REFILLS | OUTSIDE PATIO | KITCHEN AVAILABLE ALL DAY! FMI CONTACT ME! Sounds by @DJDymand x @Deeejaybebo 🙌🏾\\t0\\n@JenaLuckman Probably have all the juul pods but no chargers... it is hell after all\\t0\\nNo one: Me holding out a vape pen: Moon prism power, make up! 💖🌙✨\\t0\\nhey guys whats a way to stop cravings instead of using juul\\t0\\n@afairyhoe Legit just switch to the gum or a vape already. Why? Because it\\'s healthier. Your literally sucking up tar smoke ontop of what your body is craving.\\t1\\nAnyone need some vape juice? I got a Fizzy Lemonade that I only used once. Not a big fan of it. 50 mg for $20.\\t0\\nme: *doesn’t eat a meal until 5pm* also me: *chain smokes juul and black iced coffees* also also me: *is slut* also also also me: “why do i keep getting sick??”\\t0\\nWhy can’t I ping my JUUL\\t0\\nWash your hands before touching your face and drink plenty of water. And lay off that hookah\\t-1\\nI just got ID’d for a juul charger like ?? Make sure I’m 18 years old so I can buy a charger plz\\t0\\n@DrThomasWhite @Mathews_Archery Glad you clarified what that pipe was. Originally thought you accidentaly left your vape stick in the picture 😂\\t0\\nQT @Mhern23: Why are you me lmao ; My phone feels so much skinnier without my juul holder.\\t0\\ncan someone explain what hookah is for me\\t0\\n50% off hookah @ Adolfo’s tonight word around town\\t0\\n@XanderSX14 “They be smacking tho” DANK VAPES (Fuck that foo juice) fucken dollar tree as beaners lmao\\t0\\nSo it is now illegal to vape in San Francisco. It\\'s still 100% legal to shit on the street in San Francisco though.\\t1\\nIt’s funny cause the predominantly black high schools in Staten Island have metal detectors and all that cause they’re “dangerous” meanwhile my cousin is 12 in a “good” public school and there’s a white boy in his class that’s been trying to sell him juul pods. 12 YEARS OLD.\\t-1\\nim finna buy a hookah\\t0\\n@thedrunkpenguin I know a few that have quit using vaping they say the trick is to reduce the nicotine over time. I just never really enjoyed it that much, could never seem to find one that replicated actual cigarettes.\\t-1\\nNigga said “the port taste better that the hookah “ 😭😭😭\\t0\\nYour mcm thinks Juul is a beautiful baby name for his next daughter\\t0\\nStill can’t believe my grandma threwmy vape away😂\\t0\\n@bad_bitchski I honestly love my juul. The thought of having a cig now makes me feel gross\\t1\\nQT @KaylaaaasWorld: It made sense 😂💀 ; @teyanapryor_ : I think I need to stand up, so the hookah can flow this way *points from head to toe* 😂😭\\t0\\nQT @oxymme: Omggg I felt this ; ima still smoke the hookah if it’s not mint, I’m just gonna say “you should’ve got mint” the whole time\\t0\\nPSA YET AGAIN ON THE CARTS. Not only are the DANK VAPES being copied but now KING PENS are too! Know wtf you are buying and be safe ❤️\\t0\\nAnyone at #Bugcon2019 have a vape pen charger?! @bugmanetv\\t0\\n@axios It\\'s all those damn vapes and juuls. LOL\\t0\\nJust got my suegra to try my vape. She doesn’t know it but she’s about to get plastered.\\t0\\nsome 6’5” dude with a juul and a glass of beer is standing next to me and i’m already annoyed. he’s come so close to elbowing my face\\t0\\ntalkin bout ‘iLl nEvEr sMoKe a CiG’ but use a juul. whole ass FOOL 🤣\\t-1\\n@idkimemotional Wow me too coffee and vape lol\\t0\\nWhere can I get a dope hookah Machine ?\\t0\\nthis guy just snapped me a video of dank vapes saying “let me take you on a date and i’ll give you a cart” LOL “pesticides and dinner? 🙈”\\t-1\\nWOW! I just found out about juul! 🤣🤣\\t1\\n@chelseacomics You could always try vaping? I know they make pure CBD oil for that stuff, so you’d cut down on additives. I know it’s got a douche bag rep, but honestly vaping product helps me a lot.\\t1\\nWasn\\'t paying attention while filling my top-fill vape tank and squirted an entire tanks worth of juice down the chimney.\\t0\\nMy vape isn’t charging and my juul is out. What ever did I do to deserve this shit\\t0\\nIf you see me vaping it\\'s for a solid cause, I\\'m trying hard to completely eliminate cigars cigarettes and tobacco out of my life. I hate vape but it\\'s honestly better for me than the 4 blacks I\\'d smoke a day.\\t1\\nmy little brother: you know what my favorite thing about this place is, we’re the only two people without a vape or a crop top here, except you\\t0\\nI hope y’all know that smoking hookah for even an hour is the equivalent to smoking 100+ cigarettes, but keep flexing for social media 😂\\t-1\\nHaving no juul pods makes me deceased\\t1\\n@thattxkid @cheatham_cody “stormy do your have your juul on you?” “can i hit your juul?” 💀💀💀💀💀\\t0\\nI need a JuuL pod. Just one single pod.\\t0\\nHookah on the balcony\\t0\\njuul pods are 21 dollars in Tampa they’re 17 in Cleveland this is sum bullshit\\t0\\nQT @BigCripnAce: Felt this ; we need more weed friendly bars i’m tryna smoke Tooka not no Hookah\\t0\\nsmoking juul at work cuz ima baaaddd person\\t0\\nAll this talk about banning Juul while cigarettes are still legal😷\\t1\\nIf u wanna become the next millionaire plz make a find my juul app throw me like 20% cause i gave u the idea\\t0\\ni FT my mom and we both doing the same thing.. she was smoking a cig 🤢 ( me hookah ) and sippin\\t0\\nIt works good but I hate that it doesn’t match 🙄 I swear I’m never letting anyone borrow my vape again\\t0\\ni cannot go anywhere without losing my juul\\t0\\nYo real quick does anyone know if my FitBit can track juul rips?\\t0\\nMy kid is eleven. At his dad\\'s house, he has had weed laced chocolate chips, and he\\'s been vaping.. my ex is such a fucking tool. He thinks I\\'m the fucking dead beat when he can\\'t even pay a-fucking-ttention! I\\'ll take legal steps if it doesn\\'t stop 😡\\t-1\\n@ManguPena And a hookah installed with a long as hose and and bucket full of ice with henny\\t0\\n@MakinnPlays Well I mean it is a vape pen just with thc oil so it’s like any other vape that can cause respiratory issues.... but I need more research on “marijuana overdose” is what I’m saying lmao\\t-1\\nQT @scottbudman: This is great and all but like... regular tobacco still kills people and has been around for muuuuch longer. And real talk, still got addicted to that without fruit loops flavoring 🤷🏼\\u200d♀️ ; The first major city in the country to ban the sale of electronic cigarettes, San Francisco, is the home of Juul. SF also recently approved a ban on the sale of flavored tobacco and a tax on sugar-sweetened drinks.\\t1\\n@sadsagsun Nicotine at least in their posts. I don’t like the idea of tobacco or vape (or even alcohol) companies advertising AT ALL. But I know that’s unrealistic and just my own opinion and can’t really be enforced\\t-1\\n@kahlia_miller I lose my juul literally like every day\\t0\\nI’ve had the same juul pod for two days you can tell @Crow_boi hasn’t been around much 🤷🏼\\u200d♀️😂\\t0\\nSo I took my blazer off. The Mom that claims to of worked w #JasonBateman asks me what I had for dinner. I said some zucchini & a sliver of lemon cake 🍰 The rest was meat based I believe. Idk 😐 But I may be the only one on set that misses my vape 💨😁🎥\\t0\\nQT @rustygunter: 😆 ; Guys that vape, do y’all shave your pussy completely or leave a landing strip?\\t0\\n@BriannaMonetB What kind of hookah Hoe are you 🤦🏻\\u200d♀️\\t0\\n@BearlyFit @MercanthonyTV @FaZeClan @ChampionUSA @Banks @enolagayepyro damn bro what vape you got\\t0\\nTexass vape xbox 2 #rapenotgood\\t0\\n@Sylvesssterr She threw up Vape Life for the Gang. 🤣🤣🤣🤣🤣, they gonna box the whip and have sex 🤣😂\\t0\\nill quit hitting my juul when people stop aggravating the FUCK out me.\\t0\\nComing up next on CCTV\\'s public channel (Comcast8/Verizon43) 6/24/2019 3:10:04 AM: Norfolk County Prevention Coalition on Vaping May2019\\t0\\n@GroverNorquist Banning baking shoots not kill those jobs. Those jobs do not require vaping.\\t0\\n@BRWN_EYEGURL It really looks nice . I love it down there too!!!! Lmaooo at hookah\\t0\\nUGHHH if ur gonA HAVE OFFbrand juul FREAKING pods WARN A BITCH be4 I order it on FREAKING Postmates\\t0\\nMy car is full of juul pods and Taco Bell sauces\\t0\\nI Love Hookah but that shit be a bitch to clean.\\t0\\n@Hiiiiii74 @projectxpatriot @greshstart @CDCTobaccoFree Please name the “chemicals.” Vaping 10 years and making my own eliquid for 9 of those, I’d like to compare my ingredients with what you have down\\t1\\nIf underage Juul use is such a big problem in America, why dont they just lower the legal maximum nicotine content for all E-Juices like they have in the EU? 🤦🏽\\u200d♂️ Not even a 20 year cigarette smoker needs 40+ mg to make the switch to E-cigs... @JUULvapor @Surgeon_General\\t-1\\nIf cigarette companies can\\'t advertise on TV I truly believe Vape companies should be barred as well... Just because you added a battery doesn\\'t make it any less dangerous....\\t-1\\nmy cousins dad got me a vape\\t0\\n@C0urtneyg0rd0n2 bout to do the same with my juul smh\\t0\\nIn the middle of a first degree murder sentencing (yes I lost) and my mother is texting me about the dangers of vaping and friggin popcorn lung. Need to work on boundaries.\\t0\\n@isitastranger sending u virtual vape clouds\\t0\\n@_jhezze @ExchangeLA Be careful tho. Because one time I was allowed in with my hat and vape. Next time no hat and no vape was allowed.\\t0\\nMy friend couldn’t bring his vape in so now I’m alone at the dayclub who’s ready for some social anxiety tweets\\t0\\nQT @_anettt_: Anet after taking 5 hits ; I think I’ve had enough hookah for the rest of my life\\t0\\nStart your week off right with 10% off all Vape Cartridges and Batteries.\\t0\\nJust saw ray walking to St. Thomas holding and smoking a whole hookah. Man it’s good to be back in Waterford\\t0\\n@InsidePMI @BBCNews @sfgov What percentage of former cigarette smokers who become e-cigarette smokers eventually quit smoking entirely? What percentage revert back or become dual users?\\t0\\n@JayPizzle88 @officialmcafee @money_alotta That’s fucking awesome. I have trouble drawing stick people and artwork I’ve tried to produce on a computer involves several hours, f bombs, exhausted JUUL cartridges, and booze back when I drank and that is doing something as simple as photo shopping Johns head into a meme\\t0\\nI’ve been using some version of #ecig since 2011... we’ve owned a juice and boxmod company, sold it to a bigger co. I’m #burnedout with the #coils and #cotton and making or buying juice.\\t0\\nAnywhere you work theres always one vaping coworker that dyes their hair\\t0\\nI’ll be at La Hookah Town on Vernor in SW Detroit tomorrow hosting my first event 🤟 Vlogging the entire night. If your free come out and support 💨⚡️🖤\\t1\\nI feel so much better since I’ve been on Herbalife. & I quit smoking my Mod , I haven’t smoked in like 3 weeks, & I was vaping 3 yrs\\t-1\\n@anulikesstars LE VAPE SHOP!!!!!! I AM OBSESSED. Is it a \"le juul\"? pls say yes/ pls inquire for me\\t1\\nQT @destinnybrownn: Same 🥴 ; I literally need to start taping my juul to my forehead bc this little hoe be hiding😡\\t0\\nQT @_malyxo: he do be cappin for the bird ; I promise you guys kylers the sweetest little ting IN PERSON online he’s an asshole but at meets he just smiles and smokes hookah\\t0\\n@Saint_Grobian beef jerky flavored vape cartridges\\t0\\nThis hookah hitting so coo It’s crazy\\t1\\nYou ever just hit your juul upside down? Cuz same\\t0\\nCan you bring a vape pen on the plane?\\t0\\n@asvpxpatrick @faithyangelz Just vape lmao no nicotine\\t0\\n2019 is so fucked. The earth is dying, im in kuwait, OJ is on twitter, my mom owns a juul, whataburger gettin pimped out, schlitterbahn gone, can the simulation cut me a fucKING BREAK PLEASE\\t-1\\nReally wanna go smoke some hookah\\t0\\nSomeone buy this damn juul since i can’t use it anymore ☹️\\t0\\nQT @ZoeyHertz: i dont have a juul but does this apply to thc pens as well? 😩 ; I have been juuling for 2 years and now I have pre oral cancer. So stop juuling kids lol\\t-1\\nBold of you to assume I wanna smell your vape cloud\\t0\\nQT @truthorange: Your ads make me wanna start vaping out of spite ; Let\\'s just say it\\'s a lot harder to keep that inside stuff inside of you when you vape.\\t0\\nAustin just walked in and traded the dap pen for the juul and just dipped w out a word😂😂😂 clutch\\t0\\n@DREWWESS @KHOU They are or they’re They are still breaking the law Vaping is also a health hazard.\\t-1\\nWhere y’all buy them hookah pens? I’m tryna but my bestie one.\\t0\\nQT @EwdatsGROSS: please stop i’m calling the police ; A juul My pussy 🤝 You can hit it\\t0\\n@StefanDidak That\\'s just sad. I knew that SF had a drug problem, but that\\'s just straight up absurd. All the more so that they decided a vaping ban would be beneficial, rather than tackling that!\\t1\\nQT @DylDuplechain: This right here !!! ; why you gonna waste you money on juul pods of you cant even inhale the juul?\\t1\\nQT @bshj__: Making throat cancer a social experience ; What’s the purpose of hookah??\\t-1\\n2016-18 hookah was always a motive 🤦🏽\\u200d♂️\\t0\\nIt’s always the ones with the big butts that can’t dance in the club. Para que tienen 🍑, just to show off and smoke hookah. Smh 🤦🏽\\u200d♂️\\t0\\nholy shit I left my juul in my jeans when I was washing them but I saved it just in time half way through the wash. God really does exsist. SHEEEESH\\t0\\nDriving a challenger and smoking strawberry jelly donut vape juice.. hide ya girl 👀\\t0\\n“ i don’t Juul, I don’t do cocaine but I use straws OK”\\t0\\natl done turned me to hookah thot 😂\\t0\\nWoke up today, drank some coffee, hit my juul, figured out that pigeon racing is a huge thing in China.. regular old Saturday..\\t0\\nI’m gonna have to stick up on Juul pods before I go back to California I’m 20 but the smoking age is 21 oof\\t1\\nI need a new data plan on my juul\\t0\\n@BLUNTxBurner420 🙌🙌🙌🙌 FuCk DrInKiNg AlChoHol WhEn We CaN vApE iT!!!\\t0\\nThe family that vapes together stays together, clearly.\\t1\\n10 min into cleaning my room and I found my juul charger 💅\\t0\\nnothing like a post-coital juul\\t1\\nMOM DID YOU TAKE MY JUUL\\t0\\n@amberbloedel Juul has been 21 and up for quite some time now.... it’s their policy if a shoo is caught selling to minors they won’t distribute to them anymore. Sept. All of Texas will be Tobacco 21+, but vapes will be 18+ unless the company policy is different\\t-1\\nhookah >>>>\\t0\\n@Sun_Daze_11 I wish someone backed me up when I tried to call someone out about vaping in my section last season. The usher said they didn’t see it.\\t-1\\nQT @katebyrnepower: That’s just chicago, baby ; Currently browsing the Logan square monument for my friend’s juul that she lost while making out with a stranger that she met at the owl........Easy could never\\t0\\nnobody: my brain: hit ur juul\\t0\\n@NewYorker @jiatolentino Can’t vape, but you can poop anywhere at your leisure.\\t0\\nanyone else who doesn\\'t care about spending time with their father wanna go to hookah tonight!\\t0\\nforbidden lovers: lip gloss, my vape\\t0\\nsimply due to my CBGa allergy. No one will have fun if I swell up like a puffer fish and have to go to the ER. Vape blends/oils without are perfectly fine provided you share 😘 also while there will be alcohol present, I will only allow one drink/flight at the brewery. SSC is key\\t0\\n@LivinginWhy Gotta go what ever creature you are, like me all trump supporters have businesses jobs etc , So it\\'s time to go to bed and get up and work now go vape take some money out of your mom\\'s wallet and go buy a pop good night loser\\t0\\n@HillaryClinton Anyone here into guns? Vaping?\\t0\\nYOOOO I JUS CAUGHT MY BROTHER WIT A JUUL IM FINNA BEAT THE SHIT OUTTA HIS ASS\\t-1\\nI think I just heard my husband ask “what is your favorite vape” in the other room so I guess I don’t know who he is anymore.\\t-1\\n@MarlenaRodrigz I have 3 half empty cartridges and nothing to help me heat them up and suck smoke out of it. I ordered a nice big vape pen so I won’t keep losing them but I’m sober and irritable. Arg.\\t0\\ni completely HATE when people try to one up you on a shitty home life or bad situations. I’ve SEEN bad home lives and I’ve witnessed the conscious and subconscious trauma and pain a child goes through and trust me your mom taking away your juul isn’t the same\\t-1\\nQT @MeGustaJoshua: I feel attacked. ; My stomach is killing me this morning Its almost as if Iced Coffee and Juul is not a meal replacement\\t0\\n@_Simbasworld I can\\'t believe in this day and age people are still smoking cancer sticks when they could be smoking or vaping trees 🤷\\u200d♀️\\t1\\nMy juul friends.. where’s the cheapest place to buy a juul. I lost mine and I’m not trying to be dumb and spend $75 on one again from a vape shop.\\t1\\n@IamBroony Don’t vape live longer\\t-1\\nQT @MsMeowkinz: Lmfaaaoooooooo yoooo I remember the days🥴🥴🥴 ; smoked mad hookah this weekend, I sound like Tracy Morgan today 🥴\\t0\\n“I go to the bathroom every 2 hours so I can hit my juul”\\t0\\ni made fun of people who vape for so long until they made a usb stick that curbs my desire to eat toothpaste\\t-1\\n@ItsAllAboutDe #VapeLyfe\\t0\\n@lachlan hate/rape/vape is Akin\\'s version of \"wake/bake/skate,\" perhaps\\t0\\nHey Wind Vapes thanks for the follow!\\t0\\nremember kids next month is no juul july. can you go the whole month without hitting your juul 😳\\t-1\\n@neamhrialta If you own a juul this birthday should probably be your last\\t-1\\nTime to vibe to some music and have a good vape session 👌🏾😌\\t0\\nLol I think about vaping again all the time but I know I’m not financially stable enough to be addicted to nicotine.🤦🏾\\u200d♂️😭\\t0\\nQT @ayyebabygirl_: On God fr fr ; A paint and sip class, poetry slams, picnics in the park, cooking classes, wine tasting, hookah lounges, hiking, camping, road trips... ALL DATE IDEAS ID LOVE TO EXPERIENCE ❤️\\t1\\nSo my vape keeps saying \"check batteries\" everytime I try to hit it Like I haven\\'t had a cigarette in over 2 months don\\'t do this to me now :/\\t0\\n“Keeley you got $30 I can borrow?” “No, why?” “oh someone’s selling their JUUL & I thought about buying it”-@KendalQuillen\\t0\\nQT @ZoeyHertz: v happy that i lost my juul for 6 months and it doesn’t work now ; I have been juuling for 2 years and now I have pre oral cancer. So stop juuling kids lol\\t-1\\n@ISDM27 Me after a cbd vape hit\\t0\\nme and aspen have matching vapes..\\t0\\n@MenlionD U so fucking dirty for that lmao. Vaping is nasty and the loads of nicotine in it. You should try a wax pen next time . The stuff is weed rolled up in a pen.\\t-1\\nThe city of San Francisco has become the first city to BAN e-cigarettes. And the market leader, “Juul” is based in San Francisco...I like where this is going 😊\\t0\\nQT @ItsSnowBeatz: 😂😭 ; This nigga Karlous said girls who smoke hookah pussy taste like volcano dust..DAWG😂😂\\t0\\nQT @ScottGottliebMD: What did you do as FDA Commissioner to encourage this option? You could\\'ve called Mitch Zeller during any day of your tenure and told him to get working on this option. ; Vapes should seek to separate from products like JUUL to establish potential to help adults. Also, e-cig makers who don’t suffer JUULs youth affliction should consider OTC pathway as option to secure market approval. There are options for small vape stores that target only adults\\t1\\n@PatriotMichaelO Hey Michael, Yes we’re so sorry for the delay we should have these kinks worked out very soon. Thanks so so much for your support. What MG do you vape?\\t0\\n@randall__hill I have a vape so it makes it even worse🤣\\t0\\nWhat is the point of hookah fr ?\\t0\\n@DENlM_DADDY get a fucking vape loser\\t-1\\nAlex literally lost his juul last night... we went to Qt rn and they had it. 💯\\t0\\ni wish i had friends, to smoke hookah with😢🙄.\\t0\\nMy bed is calling me... this rain not it lol I wanted hookah or a drink but fuck it\\t0\\n@TREESVlNYL *blows vape smoke trying to be cool* *brother ruins it by blowing it away* “ADAM”\\t0\\nsome juul pods be like snap crackle pop\\t0\\nQT @FreshOj24: LMFAOOOOOOOOOO Im glad you know ; Dominican niggas from DR don’t know how to pass the hookah.\\t0\\n@aptly_engineerd first there was juul now there is pussay, the only vape stick made with authentic vaginal mucus it will get you On\\t1\\nIf you had a dollar for everytime you open a snap theres a fat bitch twerking or hella hookah smoke how much money would you have\\t0\\n@baha100 They can lie. So they do. Meanwhile, vape companies are not allowed to tell the truth - that vaping is vastly safer than smoking...\\t1\\nRandom cute girl approached me but saw me vaping so she asked someone else for a lighter. This isn’t the first time this happened to me... I shall carry a lighter at all times 🤔\\t0\\nLmfaoooooo 20$ dollar Hookah ????? How much for a re-fill? 5 DOLLARSSS ?? Lmfaooo 😂😂😂😂😂😂😂😂😂\\t0\\n@BleacherReport @Sportsnet Someone should teach No 2 how to smoke a cigar @RealSkipBayless @Zico31700472 @RPZADO @YvesGWM @fanintoronto guess they didn’t expect the win so they didn’t practice this part - he is smoking a cigar like he is smoking a Hookah @nabilabouhabib\\t0\\nI love my vape pen. Baked like a potato. Totally a stoner yo! 🌬🌿🍃\\t0\\nQT @demithacreator: Shisha ; What do smoke? Weed, SK, Arizona or Loud?\\t0\\ni once saw 8-9 girls join in union over one juul pod no cap\\t0\\nAnybody ever use coconut water in they hookah ?\\t0\\nI might be stupid but I’m not stupid enough to own a juul\\t-1\\nMe smoking a juul and drinking tequila in the bathroom of the jitney-the young Bitch ride clean don’t it!\\t0\\nQT @JoshDuckBurton: I think Yang should rock a Hawaiian shirt and rip a Juul during the next segment #DemDebate #YangGang2020 ; I’m surprised Yang hasn’t leaned backed and ripped a fat Juul while not wearing a tie and says “yeah, bro.” #DemDebate2 #DemocraticDebate\\t0\\nQT @amoeffner19: i took it home today 🥴 ; there’s a juul sitting in the office at work and i’m the only manager that smokes them so it must be mine right??? should i grab it???\\t0\\n@JaiTheGuy3 My school smells like vape and marijuana all the time LOL\\t0\\nQT @ARPdidTHAT: @RachelKathryn__ 🙄🙄 clocked ; White Claw is just Juul water.\\t0\\n@brandonco4 Juul idc but people who smoke cigarettes in traffic are assholes. Forcing me to put my AC on the button that makes it recycle the inside air? Die screaming motherfucker.\\t0\\nif you smoke virginia tobacco flavored juul pods i’m just gonna go ahead and assume you smoke crack also\\t-1\\nFemale bathroom attendants generally don’t seem to yell at you for vaping so based on that I believe we need more women in office\\t0\\ni still can’t believe they took my full pack of cigs, lighter, AND my goddamn juul going through security...i’m honestly more mad about that than anything else wtf\\t0\\ngood hookah lounges in atlanta?\\t0\\nQT @sardashhhhhhhhh: I don\\'t juul but love the optimism ; if the juul doth crackle...big problems we tackle\\t-1\\n@DrBobBullard Ugh! Juul does more then just rhyme with KOOL. (SMH)\\t0\\n@zookepermusic @DillonFrancis Now u can’t be vaping enough😤\\t0\\nSo tonight at work a coworker stole my vape mod. That thing was over $100... I’m so disappointed in humans.\\t0\\nhookah and drinks errday\\t0\\nCarts/vapes are trash. I’d rather just roll up\\t-1\\nHampton beach and Hookah, i’m w it😛\\t0\\nI have saved a shit ton of money already switching to a Juul and also I don’t reek of cigarettes. I’ve had 2 cigarettes in the past 4 days and the week before it took me an entire week to smoke one pack. daddy is living.\\t1\\nQT @ARPdidTHAT: I feel attacked ; White Claw is just Juul water.\\t0\\n“Is your teenager irrational and moody, like every teenager in the entire history of the human species? It must be that newfangled vaping!”\\t0\\nStarting July 1, all Walmart and Sam\\'s Club locations will increase the minimum age for tobacco purchases to 21. The retailers will also stop selling the fruit-flavored vaping systems popular with teenagers. Will other companies follow suit? Read more via @USAToday.\\t0\\nPeople are fucking fiends now days, i could put a hit on someone for a Juul pod\\t0\\nQT @NessaTabasco: 🤢🤢 ; Son how did i lose my juul last night\\t0\\n@meetdosist @ShopMedMen I tried the Calm first as I have some lung damage from lupus and wasn\\'t sure I\\'d be able to vape successfully. Now that I know I can, I plan to go back for the relief one for bedtime use. The MedMen rep was really helpful. PS: my cat LOVES the smell. LOL\\t1\\nQT @massisays_: Same but I’m also the hookah hogger ; I hate hookah hoggers\\t0\\nQT @johngraycpa: Dumbest tweet of the day? ; Wait a minute. Muslims in NE who own “Hookah” bars are NOT required to sell alcohol because alcohol is against their religious beliefs but Christian bakers in NE must bake cakes for LGBTQ even though it’s against THEIR religious beliefs? No dbl standard or discrimination there?\\t0\\n@kyli_schmitt11 Someone literally stopped me yesterday to ask me for a hit of a vape, it was kinda sad tbh. I don’t drink coffee or soda so when I have caffeine I’m wired\\t0\\nWoke up, looking for my vape pen. Found a cigarette instead with a hole in it. I fixed it with a piece of a Zig Zag paper. Just to let you all know how resourceful/borderline I really am.\\t0\\n“Are you vaping in the house?” “No it’s just fabreeze!!”\\t0\\n‘Guy who smokes his juul and asks you if you’ve ever had white claw’ is the new ‘girl with a teal Hydroflask telling you she still has ice in there since the day before’\\t0\\n@PrettyNu1021 See u would know more about hookah than me didn’t know that’s making ppl gain weight lol\\t0\\nDropped my juul in the toilet... bought a new one. Two days later did the same thing... fml\\t0\\ni laugh hard af when vape is life lol\\t0\\n@347Gabe im throwing ur juul out\\t0\\nI want a margarita and some hookah\\t0\\nQT @LeedyLauren: Everyone should know this by now ; PSA My friend was roofied last night at the Hookah Lounge in College Station. Thank god I was there to save her but PLEASE ladies don’t take drinks from anyone!!! And keep an eye on your drink!!\\t0\\nme: just a pack of mint juul pods pls cashier: wow..show off me: cashier: me: cashier: ...$16.95\\t0\\nCrocs on my feet packin’ that heat juul between my teeth thank you\\t0\\n@ShaalanBeg @PatelOncology @JackWestMD I think that ship has sailed and it’s too late to make vaping a regulated and safe smoking cessation tool, too worked into the culture of teens (as the makers planned). I think banning is the only way to head this off now.\\t-1\\nwhy any of y\\'all vape when it\\'s probably killing you is beyond me. I\\'ll only fill my lungs with what god intended me to: latex paint and oxygen 👋👋👋\\t-1\\n@afrozekbeshir really @‘ing everyone with a juul bro😂\\t0\\nthat juul buzz be hittin my feet more than anything no cap\\t0\\nrick ross voice sound like he been smoking hookah since birth.\\t0\\nIf my grandma buys me juul pods to join the air force should i do it?\\t0\\nPlatinum vapes really out here w a whole ass billboard 🥴\\t0\\n@curlymamaw @CDCTobaccoFree Only chemical in vaping is the nicotine. And you can get it without it.\\t1\\nfor someone who only hits the occasional social vape, I listen to steamroller TOO much\\t0\\nQT @cheydandelion: refillable pods / bigger pods would be cool too ; the juul company should start making their juuls to just have a usb charger on the bottom of the device itself. So u could just plug your juul straight into any USB port like in the car and never have to worry about losing that tiny little charging thing anymore.\\t0\\n@ARBryant4 Vape smells are gross\\t-1\\nA 13 year old girl smoking a juul just asked me where the after party is It’s 1PM clout kids are built DIFFERENT\\t-1\\nIG live is weird as hell to me. Imagine being at the club with your friends and instead of enjoying your time w your friends, u decide to broadcast tyourself sitting down smoking hookah saying “hi wassup” every minute to random people who pop up.\\t0\\nQT @rustygunter: That\\'s great!😁😁😂🤣 ; Guys that vape, do y’all shave your pussy completely or leave a landing strip?\\t0\\ngunna setup outside my old high school and sell juul pods to students out of my 2004 VW Jetta like the entrepreneur I am\\t0\\n@warmdamn Wait which is it the vaping or the 2 consecutive dates...\\t0\\nQT @AddieMarieP: Me tries to hangout with someone... Skinny girl with a nice smile: I’ve got my juul Me: ; Fucking cunt\\t0\\nBroke my vape pen at work ... but it’s still hitting 😭😭😭😭😭\\t0\\nI hit the juul and i cant feel my feet rn 😂\\t0\\nThat hookah shit lame afff\\t-1\\nthere’s nothing better than taking a crisp hit of my vape early in the morning 🤣\\t0\\n@aspirecigs #HappyFathersDay @oddworld911 ,@philbh77 ,@Alien_Semen ,@axelbeam ,@dr_amp815 ,@irwansyah_vape ,@ShadeyVapes\\t0\\nI wanna go to the hookah lounge but I got no friends lmao\\t0\\n@CNN @AngelusMerula There was a young man in NJ who was found slumped over in his car. His vape apparatus exploded and a small sliver of metal went through is carotid artery and he died before he could open the car door.\\t-1\\n@trippingpossum Sorry for the spam lol. I was taking it orally before, under the tongue and it just..wasn\\'t really lasting all that long. Now I have this vape pod thingy, and I can just take a few drags off of it when I start feeling anxious or tense and I feel a wave of calm flush over me pfft\\t1\\nDM me if you can sell me a vape cart in the estates\\t0\\n@SMOKTECHLOGY I’ve never had a vape because I’ve never thought to switch\\t-1\\n@B_Real Flowers for home. Vapes if traveling.\\t0\\n@geekyJustinLee Top 5 is pretty generous. Though I\\'m definitely above the dude whose emails I keep getting. He orders SO MUCH VAPE JUICE. When he\\'s not in court-ordered drug therapy.\\t0\\n@Marruccaaa On g after I used the vape my lungs big asf 😂 I was smoking that hoe for 5 min before I did that\\t0\\n@wendyvapes @enbflavor @ijoyglobal @Mike_Vapes @Winnie_hellvape That sounds amazing my friend Wendy...I actually am for once in the last 6 months going to be able to vape on my top ever favorite liquid put on this planet....MBYC Fried by SicBoy...I will be bringing it with me as I get admitted into the hospital today...I\\'m scared.. :-(\\t1\\nI’m in Paris in the bathroom and my flight is boarding so I ran to the bathroom. I’m now on the toilet chugging the rest of my champagne and getting my vape hits in. I’m ashamed of myself\\t0\\nThe California Democratic Convention is sponsored by Uber, Visa, Juul, Fox, and AirBnB. WTAF? #CADem2019\\t-1\\nJust like in the movies, sitting up with a pillow against the headboard after incredible sex, smoking a Juul\\t1\\n@xowenm tell me why i thought he had a juul in his hand\\t0\\n@lethargicwaldo @cincynancy If you put your ear up to the can and are really silent, you can hear the Juul hit Kreygasm\\t0\\nIn fairness I was prob the 2010 equivalent of that kid that vapes in class\\t0\\n@tbformayor I fw hookah now 🤣 at first thought it was useless\\t0\\nthis is “no juul july” bitch\\t-1\\n@aaron_WALDRUP I hate it I hate all of it Also bring me a juul charger to work.....mine died n i’m sad\\t0\\nThey putting round up in dank vapes 😂\\t0\\nGushers vape got me fried\\t0\\nSan Francisco has become the first US city to ban e-cigarette sales until their health effects are clearer. #Sirius XM 115\\t-1\\n@kkillah_x nobody goes outside so even if you did try to go to a bar or a hookah lounge they’re EMPTY so it’s still not fun 😂😂😂😂\\t0\\n@stelIhudg you have a juul addiction & i am glad i don’t have a juul addiction 😀\\t-1\\n@AmericanRose8 @Montchelle66 @charzdesigns @KassMiass @TexasChick1968 @khenry657 @ms_kux @PhoebeDRobinson @LJT_is_me @ElizabethQE20 @Elaines2cents @almostjingo @michael_szumega @surfagogo @multitasker333 @mizdonna @jskielb3 @JenniferKashani @DrLaura2th @CyndeVita @Natashasjam In Colorado you can buy the CBD oil, under tongue. No high, just the pain relief. You can buy at vape stores, don’t even have to go to MMJ store. My neighbor has cancer and he says it helps!\\t1\\nWent to get coffee with my dad this morning. I talked him into buying a juul\\t0\\nno cops at pride just a guy named Travis in a deadpool snapback and his torrential vape clouds\\t0\\nSmoking a juul is not better than smoking cigarettes if you’re pregnant you shouldn’t be smoking. Not sorry. Your child being healthy should mean more than feeding a habit 🤷🏼\\u200d♀️.\\t-1\\nboy dem vapes sumn serious i almost died\\t-1\\nTheoretically, you can put lean in a Juul.\\t0\\n@StoneHamlin If I ever compliment vaping, call the police because I’ve been kidnapped\\t-1\\nQT @addvsen: This is exactly why I stopped going and why the city of Austin decided to cut BOTG short with less concerts during summer. The new wave of ppl going/moving here are trash af people. ; last night after blues on the green, zilker was fucking TRASHED. i’m talking juul pods, beer, to go boxes, bags...a lot of it within 100 feet of a trash can. a lot of you guys pretend to care about the earth for twitter points. only about 5 of us stayed to clean. fuck y’all\\t-1\\nHeelys on, juul charged, hat backwards. Watch out world.\\t0\\n@jordan_gravelin @jbarro The percentage of teenagers vaping is growing by 50% a year...25% in 2017, 38% in 2018, and signs pointing towards 50-60% this year. Draconian measures worth considering to reverse this quickly.\\t-1\\n69 dollars for a hookah by the beach?! Shit better come with some oysters and henny.\\t0\\n@PPonsetto @FitzTheReporter @GreatDismal @truthorange Can\\'t fault them for trying, vaping is an epidemic with teens\\t-1\\nafter this last coil burns i’m officially giving up vaping\\t-1\\nYou, a peasant: Vape Mod My girlfriend’s mother, a god: Wireless Hookah 😈😈\\t0\\nthis @buyIegaImeds vape i got is the shit i\\'m never buying any other CBD vape ever again\\t-1\\nQT @AmericanLungPA: Agreed! ; @RepRabb The U.S. Surgeon General recently declared youth e-cigarette use an epidemic. Now more than 1 in 4 high school students use e-cigarettes regularly. Now is not the time to defund Pennsylvania’s tobacco prevention programs when they are needed most #SaveMSAinPA\\t-1\\nSeriously though, for a city with a retail vacancy crisis, and where small businesses are already struggling to survive, this is a death knell for a whole category of businesses—vape stores—and a huge hit to the city\\'s beloved corner stores\\t0\\n@BuddyGoodlet I’m thinking you mean Juul and I don’t do that crap buddy.\\t-1\\nBefore hand I gave her a sweet smile but I got a b- itch face & google eyes in return. I kept smiling & brushed it off. Afterwards she comes army marching after me as I was vaping outside. Human behavior # 101 “army march” walking is a form of aggression.\\t0\\nNeed a hookah at home 😩\\t1\\nLeft my damn juul in the rain and this must be what a real heartbreak feels like 😣\\t0\\nit has been 24 hours since my lungs have had precious juul vapor in them. keep me in your thots & prayers\\t0\\n@lovemyman_ San Francisco outlaws vaping and plastic straws however permits heroin use, public defecation , and public sex displays. Taxes up 40% and highest gas tax in NATION. Wow..someone still lives there?\\t0\\nQT @MC_Cash75: .@KillEFFY but with a juul ; Just saw a wrestler do the HHH water bottle gimmick but with a vape pen.\\t0\\nQT @scottbudman: WTF San Francisco? You fascist demagogues just might wanna do bans on feces, urine, hypodermic needles & typhus in the streets. ; The first major city in the country to ban the sale of electronic cigarettes, San Francisco, is the home of Juul. SF also recently approved a ban on the sale of flavored tobacco and a tax on sugar-sweetened drinks.\\t0\\nWow only harlem would have hookah in a hair salon\\t0\\nTo be honest, I\\'m still #AgainstSmoking cigarettes and yet, I just started #vaping. Does this make me a hypocrite? 💨\\t1\\nQT @tobaccodad: Mood ; Thinking about a vape cloud so massive that it blocks the sun for an hour\\t0\\nQT @BIGSANT: 😂😂😂 ; Your MCM smokes hookah.\\t0\\nSomeone just asked if anyone has a juul charger in our company-wide Slack.. millennials have officially taken over the workforce\\t0\\nQT @Alexlovesbooty1: bitch fuck you i texted you back 😂 ; Since you don\\'t wanna text me back bitch I left my juul pods in your car @xobabykaylee\\t0\\nQT @arimcneary: people are really out here addicted to a flash drive ; I knew I was more superior to my peers when they became juul addicts and I didn’t\\t-1\\nQT @adam22: All of the above 🤷🏾\\u200d♂️ ; 2015 = molly 2016 = lean 2017 = xans 2018 = mango juul pods\\t0\\nwhat the hell kind of vapes in 2019\\t-1\\nMy grandparents geeneration used to smoke a cigarette after sex. Now we just hit the juul. 😂 #juul #facts\\t1\\n@MatthewWSmith2 What about juul pods and tide pods though\\t0\\nI feel like my juul is more addicting than cigarettes ever were. But idgaf cuz it’s under half the cost of smoking and doesn’t kill me!!!\\t1'\n",
        "\n",
        "file = open(\"input_data.txt\",\"w\") \n",
        " \n",
        "file.write(content)\n",
        " \n",
        "file.close() "
      ],
      "execution_count": 0,
      "outputs": []
    },
    {
      "cell_type": "markdown",
      "metadata": {
        "id": "oHHEHqHHWwjS",
        "colab_type": "text"
      },
      "source": [
        "# Program begins"
      ]
    },
    {
      "cell_type": "code",
      "metadata": {
        "id": "7ukbB8-6WwjT",
        "colab_type": "code",
        "outputId": "3fb310cd-bdbe-4149-fe56-66ff67b8bc33",
        "colab": {
          "base_uri": "https://localhost:8080/",
          "height": 17
        }
      },
      "source": [
        "%%javascript\n",
        "IPython.notebook.clear_all_output();"
      ],
      "execution_count": 2,
      "outputs": [
        {
          "output_type": "display_data",
          "data": {
            "application/javascript": [
              "IPython.notebook.clear_all_output();"
            ],
            "text/plain": [
              "<IPython.core.display.Javascript object>"
            ]
          },
          "metadata": {
            "tags": []
          }
        }
      ]
    },
    {
      "cell_type": "code",
      "metadata": {
        "id": "HW9I512kWwjW",
        "colab_type": "code",
        "outputId": "7810b731-29de-4fa4-f5eb-fbcd93e8bc5d",
        "colab": {
          "base_uri": "https://localhost:8080/",
          "height": 51
        }
      },
      "source": [
        "#Installing BERT module\n",
        "!pip install bert-tensorflow"
      ],
      "execution_count": 3,
      "outputs": [
        {
          "output_type": "stream",
          "text": [
            "Requirement already satisfied: bert-tensorflow in /usr/local/lib/python3.6/dist-packages (1.0.1)\n",
            "Requirement already satisfied: six in /usr/local/lib/python3.6/dist-packages (from bert-tensorflow) (1.12.0)\n"
          ],
          "name": "stdout"
        }
      ]
    },
    {
      "cell_type": "code",
      "metadata": {
        "id": "CofSdbnsWwjZ",
        "colab_type": "code",
        "outputId": "88e57984-55fd-4179-d075-97b8a2c3a22c",
        "colab": {
          "base_uri": "https://localhost:8080/",
          "height": 374
        }
      },
      "source": [
        "!pip install tensorflow"
      ],
      "execution_count": 4,
      "outputs": [
        {
          "output_type": "stream",
          "text": [
            "Requirement already satisfied: tensorflow in /usr/local/lib/python3.6/dist-packages (1.15.0)\n",
            "Requirement already satisfied: tensorflow-estimator==1.15.1 in /usr/local/lib/python3.6/dist-packages (from tensorflow) (1.15.1)\n",
            "Requirement already satisfied: protobuf>=3.6.1 in /usr/local/lib/python3.6/dist-packages (from tensorflow) (3.10.0)\n",
            "Requirement already satisfied: termcolor>=1.1.0 in /usr/local/lib/python3.6/dist-packages (from tensorflow) (1.1.0)\n",
            "Requirement already satisfied: keras-applications>=1.0.8 in /usr/local/lib/python3.6/dist-packages (from tensorflow) (1.0.8)\n",
            "Requirement already satisfied: opt-einsum>=2.3.2 in /usr/local/lib/python3.6/dist-packages (from tensorflow) (3.1.0)\n",
            "Requirement already satisfied: six>=1.10.0 in /usr/local/lib/python3.6/dist-packages (from tensorflow) (1.12.0)\n",
            "Requirement already satisfied: wrapt>=1.11.1 in /usr/local/lib/python3.6/dist-packages (from tensorflow) (1.11.2)\n",
            "Requirement already satisfied: wheel>=0.26 in /usr/local/lib/python3.6/dist-packages (from tensorflow) (0.34.2)\n",
            "Requirement already satisfied: numpy<2.0,>=1.16.0 in /usr/local/lib/python3.6/dist-packages (from tensorflow) (1.17.5)\n",
            "Requirement already satisfied: tensorboard<1.16.0,>=1.15.0 in /usr/local/lib/python3.6/dist-packages (from tensorflow) (1.15.0)\n",
            "Requirement already satisfied: absl-py>=0.7.0 in /usr/local/lib/python3.6/dist-packages (from tensorflow) (0.9.0)\n",
            "Requirement already satisfied: google-pasta>=0.1.6 in /usr/local/lib/python3.6/dist-packages (from tensorflow) (0.1.8)\n",
            "Requirement already satisfied: astor>=0.6.0 in /usr/local/lib/python3.6/dist-packages (from tensorflow) (0.8.1)\n",
            "Requirement already satisfied: gast==0.2.2 in /usr/local/lib/python3.6/dist-packages (from tensorflow) (0.2.2)\n",
            "Requirement already satisfied: keras-preprocessing>=1.0.5 in /usr/local/lib/python3.6/dist-packages (from tensorflow) (1.1.0)\n",
            "Requirement already satisfied: grpcio>=1.8.6 in /usr/local/lib/python3.6/dist-packages (from tensorflow) (1.27.1)\n",
            "Requirement already satisfied: setuptools in /usr/local/lib/python3.6/dist-packages (from protobuf>=3.6.1->tensorflow) (45.2.0)\n",
            "Requirement already satisfied: h5py in /usr/local/lib/python3.6/dist-packages (from keras-applications>=1.0.8->tensorflow) (2.8.0)\n",
            "Requirement already satisfied: werkzeug>=0.11.15 in /usr/local/lib/python3.6/dist-packages (from tensorboard<1.16.0,>=1.15.0->tensorflow) (1.0.0)\n",
            "Requirement already satisfied: markdown>=2.6.8 in /usr/local/lib/python3.6/dist-packages (from tensorboard<1.16.0,>=1.15.0->tensorflow) (3.2.1)\n"
          ],
          "name": "stdout"
        }
      ]
    },
    {
      "cell_type": "code",
      "metadata": {
        "id": "GBf3XpDOWwjb",
        "colab_type": "code",
        "outputId": "ebe38cb4-c37b-481f-e7fa-e9406ff28b9a",
        "colab": {
          "base_uri": "https://localhost:8080/",
          "height": 102
        }
      },
      "source": [
        "!pip install tensorflow_hub"
      ],
      "execution_count": 5,
      "outputs": [
        {
          "output_type": "stream",
          "text": [
            "Requirement already satisfied: tensorflow_hub in /usr/local/lib/python3.6/dist-packages (0.7.0)\n",
            "Requirement already satisfied: six>=1.10.0 in /usr/local/lib/python3.6/dist-packages (from tensorflow_hub) (1.12.0)\n",
            "Requirement already satisfied: numpy>=1.12.0 in /usr/local/lib/python3.6/dist-packages (from tensorflow_hub) (1.17.5)\n",
            "Requirement already satisfied: protobuf>=3.4.0 in /usr/local/lib/python3.6/dist-packages (from tensorflow_hub) (3.10.0)\n",
            "Requirement already satisfied: setuptools in /usr/local/lib/python3.6/dist-packages (from protobuf>=3.4.0->tensorflow_hub) (45.2.0)\n"
          ],
          "name": "stdout"
        }
      ]
    },
    {
      "cell_type": "code",
      "metadata": {
        "id": "7CPZD9HgWwjf",
        "colab_type": "code",
        "outputId": "89d188ff-d962-46ba-d45c-b5cf50accd80",
        "colab": {
          "base_uri": "https://localhost:8080/",
          "height": 97
        }
      },
      "source": [
        "import pandas as pd\n",
        "import tensorflow as tf\n",
        "import tensorflow_hub as hub\n",
        "from datetime import datetime\n",
        "from sklearn.model_selection import train_test_split\n",
        "import os\n",
        "\n",
        "print(\"tensorflow version : \", tf.__version__)\n",
        "print(\"tensorflow_hub version : \", hub.__version__)"
      ],
      "execution_count": 6,
      "outputs": [
        {
          "output_type": "display_data",
          "data": {
            "text/html": [
              "<p style=\"color: red;\">\n",
              "The default version of TensorFlow in Colab will soon switch to TensorFlow 2.x.<br>\n",
              "We recommend you <a href=\"https://www.tensorflow.org/guide/migrate\" target=\"_blank\">upgrade</a> now \n",
              "or ensure your notebook will continue to use TensorFlow 1.x via the <code>%tensorflow_version 1.x</code> magic:\n",
              "<a href=\"https://colab.research.google.com/notebooks/tensorflow_version.ipynb\" target=\"_blank\">more info</a>.</p>\n"
            ],
            "text/plain": [
              "<IPython.core.display.HTML object>"
            ]
          },
          "metadata": {
            "tags": []
          }
        },
        {
          "output_type": "stream",
          "text": [
            "tensorflow version :  1.15.0\n",
            "tensorflow_hub version :  0.7.0\n"
          ],
          "name": "stdout"
        }
      ]
    },
    {
      "cell_type": "code",
      "metadata": {
        "id": "O-KITqPbWwjj",
        "colab_type": "code",
        "outputId": "5a386227-dbe3-42f6-d8f8-c2e14ec96a8c",
        "colab": {
          "base_uri": "https://localhost:8080/",
          "height": 71
        }
      },
      "source": [
        "#Importing BERT modules\n",
        "import bert\n",
        "from bert import run_classifier\n",
        "from bert import optimization\n",
        "from bert import tokenization"
      ],
      "execution_count": 7,
      "outputs": [
        {
          "output_type": "stream",
          "text": [
            "WARNING:tensorflow:From /usr/local/lib/python3.6/dist-packages/bert/optimization.py:87: The name tf.train.Optimizer is deprecated. Please use tf.compat.v1.train.Optimizer instead.\n",
            "\n"
          ],
          "name": "stdout"
        }
      ]
    },
    {
      "cell_type": "code",
      "metadata": {
        "id": "lDwBvht0Wwjm",
        "colab_type": "code",
        "outputId": "22f78ddc-72f9-4235-d91f-bbc08715c72f",
        "colab": {
          "base_uri": "https://localhost:8080/",
          "height": 34
        }
      },
      "source": [
        "# Set the output directory for saving model file\n",
        "OUTPUT_DIR = 'model'\n",
        "\n",
        "#@markdown Whether or not to clear/delete the directory and create a new one\n",
        "DO_DELETE = False #@param {type:\"boolean\"}\n",
        "\n",
        "if DO_DELETE:\n",
        "  try:\n",
        "    tf.gfile.DeleteRecursively(OUTPUT_DIR)\n",
        "  except:\n",
        "    pass\n",
        "\n",
        "tf.gfile.MakeDirs(OUTPUT_DIR)\n",
        "print('***** Model output directory: {} *****'.format(OUTPUT_DIR))"
      ],
      "execution_count": 8,
      "outputs": [
        {
          "output_type": "stream",
          "text": [
            "***** Model output directory: model *****\n"
          ],
          "name": "stdout"
        }
      ]
    },
    {
      "cell_type": "code",
      "metadata": {
        "id": "aDQCgyXqWwjq",
        "colab_type": "code",
        "outputId": "d36cdfbd-7386-478d-8439-67e9c38bad84",
        "colab": {
          "base_uri": "https://localhost:8080/",
          "height": 85
        }
      },
      "source": [
        "# train = pd.read_excel(\"test_400_P1.xlsx\")\n",
        "train = pd.read_table(\"input_data.txt\")\n",
        "train['Opinion'].value_counts()"
      ],
      "execution_count": 9,
      "outputs": [
        {
          "output_type": "execute_result",
          "data": {
            "text/plain": [
              " 0    282\n",
              "-1     63\n",
              " 1     55\n",
              "Name: Opinion, dtype: int64"
            ]
          },
          "metadata": {
            "tags": []
          },
          "execution_count": 9
        }
      ]
    },
    {
      "cell_type": "code",
      "metadata": {
        "id": "SU4kY7JvWwjt",
        "colab_type": "code",
        "colab": {}
      },
      "source": [
        "from sklearn.model_selection import train_test_split\n",
        "\n",
        "train, test =  train_test_split(train, test_size = 0.2)\n",
        "train, val =  train_test_split(train, test_size = 0.2)"
      ],
      "execution_count": 0,
      "outputs": []
    },
    {
      "cell_type": "code",
      "metadata": {
        "id": "KiUtcNBVWwjw",
        "colab_type": "code",
        "outputId": "f9a00944-b6e0-441c-e8dd-bfa861c6f2ab",
        "colab": {
          "base_uri": "https://localhost:8080/",
          "height": 204
        }
      },
      "source": [
        "#Training set sample\n",
        "train.head(5)"
      ],
      "execution_count": 11,
      "outputs": [
        {
          "output_type": "execute_result",
          "data": {
            "text/html": [
              "<div>\n",
              "<style scoped>\n",
              "    .dataframe tbody tr th:only-of-type {\n",
              "        vertical-align: middle;\n",
              "    }\n",
              "\n",
              "    .dataframe tbody tr th {\n",
              "        vertical-align: top;\n",
              "    }\n",
              "\n",
              "    .dataframe thead th {\n",
              "        text-align: right;\n",
              "    }\n",
              "</style>\n",
              "<table border=\"1\" class=\"dataframe\">\n",
              "  <thead>\n",
              "    <tr style=\"text-align: right;\">\n",
              "      <th></th>\n",
              "      <th>Contents</th>\n",
              "      <th>Opinion</th>\n",
              "    </tr>\n",
              "  </thead>\n",
              "  <tbody>\n",
              "    <tr>\n",
              "      <th>336</th>\n",
              "      <td>I hit the juul and i cant feel my feet rn 😂</td>\n",
              "      <td>0</td>\n",
              "    </tr>\n",
              "    <tr>\n",
              "      <th>130</th>\n",
              "      <td>My vape isn’t charging and my juul is out. Wha...</td>\n",
              "      <td>0</td>\n",
              "    </tr>\n",
              "    <tr>\n",
              "      <th>198</th>\n",
              "      <td>QT @truthorange: Your ads make me wanna start ...</td>\n",
              "      <td>0</td>\n",
              "    </tr>\n",
              "    <tr>\n",
              "      <th>69</th>\n",
              "      <td>if i had all the money back that i’ve spent on...</td>\n",
              "      <td>0</td>\n",
              "    </tr>\n",
              "    <tr>\n",
              "      <th>166</th>\n",
              "      <td>I Love Hookah but that shit be a bitch to clean.</td>\n",
              "      <td>0</td>\n",
              "    </tr>\n",
              "  </tbody>\n",
              "</table>\n",
              "</div>"
            ],
            "text/plain": [
              "                                              Contents  Opinion\n",
              "336        I hit the juul and i cant feel my feet rn 😂        0\n",
              "130  My vape isn’t charging and my juul is out. Wha...        0\n",
              "198  QT @truthorange: Your ads make me wanna start ...        0\n",
              "69   if i had all the money back that i’ve spent on...        0\n",
              "166   I Love Hookah but that shit be a bitch to clean.        0"
            ]
          },
          "metadata": {
            "tags": []
          },
          "execution_count": 11
        }
      ]
    },
    {
      "cell_type": "code",
      "metadata": {
        "id": "I_iU6CAAWwjz",
        "colab_type": "code",
        "outputId": "1b73070c-c09b-4b88-e103-521ccbea2448",
        "colab": {
          "base_uri": "https://localhost:8080/",
          "height": 85
        }
      },
      "source": [
        "train['Opinion'].value_counts()"
      ],
      "execution_count": 12,
      "outputs": [
        {
          "output_type": "execute_result",
          "data": {
            "text/plain": [
              " 0    182\n",
              "-1     40\n",
              " 1     34\n",
              "Name: Opinion, dtype: int64"
            ]
          },
          "metadata": {
            "tags": []
          },
          "execution_count": 12
        }
      ]
    },
    {
      "cell_type": "code",
      "metadata": {
        "id": "H-grS0-EWwj1",
        "colab_type": "code",
        "outputId": "c7db9176-861f-4482-cd50-fc0b83f5f201",
        "colab": {
          "base_uri": "https://localhost:8080/",
          "height": 85
        }
      },
      "source": [
        "val['Opinion'].value_counts()"
      ],
      "execution_count": 13,
      "outputs": [
        {
          "output_type": "execute_result",
          "data": {
            "text/plain": [
              " 0    48\n",
              " 1     9\n",
              "-1     7\n",
              "Name: Opinion, dtype: int64"
            ]
          },
          "metadata": {
            "tags": []
          },
          "execution_count": 13
        }
      ]
    },
    {
      "cell_type": "code",
      "metadata": {
        "id": "kvJHjNXGWwj4",
        "colab_type": "code",
        "outputId": "6e27c5e5-b09d-4eb7-962e-044954dc94ff",
        "colab": {
          "base_uri": "https://localhost:8080/",
          "height": 85
        }
      },
      "source": [
        "test['Opinion'].value_counts()"
      ],
      "execution_count": 14,
      "outputs": [
        {
          "output_type": "execute_result",
          "data": {
            "text/plain": [
              " 0    52\n",
              "-1    16\n",
              " 1    12\n",
              "Name: Opinion, dtype: int64"
            ]
          },
          "metadata": {
            "tags": []
          },
          "execution_count": 14
        }
      ]
    },
    {
      "cell_type": "code",
      "metadata": {
        "id": "v70TVmoxWwj7",
        "colab_type": "code",
        "outputId": "79e798a3-a195-4492-9b03-b12433de1398",
        "colab": {
          "base_uri": "https://localhost:8080/",
          "height": 68
        }
      },
      "source": [
        "print(\"Training Set Shape :\", train.shape)\n",
        "print(\"Validation Set Shape :\", val.shape)\n",
        "print(\"Test Set Shape :\", test.shape)"
      ],
      "execution_count": 15,
      "outputs": [
        {
          "output_type": "stream",
          "text": [
            "Training Set Shape : (256, 2)\n",
            "Validation Set Shape : (64, 2)\n",
            "Test Set Shape : (80, 2)\n"
          ],
          "name": "stdout"
        }
      ]
    },
    {
      "cell_type": "code",
      "metadata": {
        "id": "oOmGBewVWwj-",
        "colab_type": "code",
        "outputId": "02ba9d53-26c5-4095-f678-2748a147bd03",
        "colab": {
          "base_uri": "https://localhost:8080/",
          "height": 34
        }
      },
      "source": [
        "train.columns"
      ],
      "execution_count": 16,
      "outputs": [
        {
          "output_type": "execute_result",
          "data": {
            "text/plain": [
              "Index(['Contents', 'Opinion'], dtype='object')"
            ]
          },
          "metadata": {
            "tags": []
          },
          "execution_count": 16
        }
      ]
    },
    {
      "cell_type": "code",
      "metadata": {
        "id": "PWpdiIJxWwkA",
        "colab_type": "code",
        "colab": {}
      },
      "source": [
        "DATA_COLUMN = 'Contents'\n",
        "LABEL_COLUMN = 'Opinion'\n",
        "# The list containing all the classes (train['SECTION'].unique())\n",
        "label_list = [-1,0,1]"
      ],
      "execution_count": 0,
      "outputs": []
    },
    {
      "cell_type": "code",
      "metadata": {
        "id": "ewhxEzPbWwkD",
        "colab_type": "code",
        "colab": {}
      },
      "source": [
        "train_InputExamples = train.apply(lambda x: bert.run_classifier.InputExample(guid=None,\n",
        "                                                                   text_a = x[DATA_COLUMN], \n",
        "                                                                   text_b = None, \n",
        "                                                                   label = x[LABEL_COLUMN]), axis = 1)\n",
        "\n",
        "val_InputExamples = val.apply(lambda x: bert.run_classifier.InputExample(guid=None, \n",
        "                                                                   text_a = x[DATA_COLUMN], \n",
        "                                                                   text_b = None, \n",
        "                                                                   label = x[LABEL_COLUMN]), axis = 1)"
      ],
      "execution_count": 0,
      "outputs": []
    },
    {
      "cell_type": "code",
      "metadata": {
        "id": "u9Zf8T1JWwkG",
        "colab_type": "code",
        "outputId": "774894d1-d6f8-4acb-e689-4b5376411d5e",
        "colab": {
          "base_uri": "https://localhost:8080/",
          "height": 221
        }
      },
      "source": [
        "train_InputExamples"
      ],
      "execution_count": 19,
      "outputs": [
        {
          "output_type": "execute_result",
          "data": {
            "text/plain": [
              "336    <bert.run_classifier.InputExample object at 0x...\n",
              "130    <bert.run_classifier.InputExample object at 0x...\n",
              "198    <bert.run_classifier.InputExample object at 0x...\n",
              "69     <bert.run_classifier.InputExample object at 0x...\n",
              "166    <bert.run_classifier.InputExample object at 0x...\n",
              "                             ...                        \n",
              "270    <bert.run_classifier.InputExample object at 0x...\n",
              "135    <bert.run_classifier.InputExample object at 0x...\n",
              "56     <bert.run_classifier.InputExample object at 0x...\n",
              "365    <bert.run_classifier.InputExample object at 0x...\n",
              "244    <bert.run_classifier.InputExample object at 0x...\n",
              "Length: 256, dtype: object"
            ]
          },
          "metadata": {
            "tags": []
          },
          "execution_count": 19
        }
      ]
    },
    {
      "cell_type": "code",
      "metadata": {
        "id": "huj0aYnvWwkJ",
        "colab_type": "code",
        "outputId": "b7f797a6-b60a-474a-a016-0c5ca84dca0d",
        "colab": {
          "base_uri": "https://localhost:8080/",
          "height": 187
        }
      },
      "source": [
        "print(\"Row 0 - guid of training set : \", train_InputExamples.iloc[0].guid)\n",
        "print(\"\\n__________\\nRow 0 - text_a of training set : \", train_InputExamples.iloc[0].text_a)\n",
        "print(\"\\n__________\\nRow 0 - text_b of training set : \", train_InputExamples.iloc[0].text_b)\n",
        "print(\"\\n__________\\nRow 0 - label of training set : \", train_InputExamples.iloc[0].label)"
      ],
      "execution_count": 20,
      "outputs": [
        {
          "output_type": "stream",
          "text": [
            "Row 0 - guid of training set :  None\n",
            "\n",
            "__________\n",
            "Row 0 - text_a of training set :  I hit the juul and i cant feel my feet rn 😂\n",
            "\n",
            "__________\n",
            "Row 0 - text_b of training set :  None\n",
            "\n",
            "__________\n",
            "Row 0 - label of training set :  0\n"
          ],
          "name": "stdout"
        }
      ]
    },
    {
      "cell_type": "code",
      "metadata": {
        "id": "Qv1Newk-WwkM",
        "colab_type": "code",
        "outputId": "7bd26feb-9543-4357-b3cd-b6a001744296",
        "colab": {
          "base_uri": "https://localhost:8080/",
          "height": 139
        }
      },
      "source": [
        "# This is a path to an uncased (all lowercase) version of BERT\n",
        "BERT_MODEL_HUB = \"https://tfhub.dev/google/bert_uncased_L-12_H-768_A-12/1\"\n",
        "\n",
        "def create_tokenizer_from_hub_module():\n",
        "  \"\"\"Get the vocab file and casing info from the Hub module.\"\"\"\n",
        "  with tf.Graph().as_default():\n",
        "    bert_module = hub.Module(BERT_MODEL_HUB)\n",
        "    tokenization_info = bert_module(signature=\"tokenization_info\", as_dict=True)\n",
        "    with tf.Session() as sess:\n",
        "      vocab_file, do_lower_case = sess.run([tokenization_info[\"vocab_file\"],\n",
        "                                            tokenization_info[\"do_lower_case\"]])\n",
        "      \n",
        "  return bert.tokenization.FullTokenizer(\n",
        "      vocab_file=vocab_file, do_lower_case=do_lower_case)\n",
        "\n",
        "tokenizer = create_tokenizer_from_hub_module()"
      ],
      "execution_count": 21,
      "outputs": [
        {
          "output_type": "stream",
          "text": [
            "INFO:tensorflow:Saver not created because there are no variables in the graph to restore\n"
          ],
          "name": "stdout"
        },
        {
          "output_type": "stream",
          "text": [
            "INFO:tensorflow:Saver not created because there are no variables in the graph to restore\n"
          ],
          "name": "stderr"
        },
        {
          "output_type": "stream",
          "text": [
            "WARNING:tensorflow:From /usr/local/lib/python3.6/dist-packages/bert/tokenization.py:125: The name tf.gfile.GFile is deprecated. Please use tf.io.gfile.GFile instead.\n",
            "\n"
          ],
          "name": "stdout"
        },
        {
          "output_type": "stream",
          "text": [
            "WARNING:tensorflow:From /usr/local/lib/python3.6/dist-packages/bert/tokenization.py:125: The name tf.gfile.GFile is deprecated. Please use tf.io.gfile.GFile instead.\n",
            "\n"
          ],
          "name": "stderr"
        }
      ]
    },
    {
      "cell_type": "code",
      "metadata": {
        "id": "aB5dljbdWwkO",
        "colab_type": "code",
        "outputId": "1b34bbb8-edd7-42ee-b383-60f825d5010d",
        "colab": {
          "base_uri": "https://localhost:8080/",
          "height": 34
        }
      },
      "source": [
        "#Here is what the tokenised sample of the first training set observation looks like\n",
        "print(tokenizer.tokenize(train_InputExamples.iloc[0].text_a))"
      ],
      "execution_count": 22,
      "outputs": [
        {
          "output_type": "stream",
          "text": [
            "['i', 'hit', 'the', 'ju', '##ul', 'and', 'i', 'can', '##t', 'feel', 'my', 'feet', 'rn', '[UNK]']\n"
          ],
          "name": "stdout"
        }
      ]
    },
    {
      "cell_type": "code",
      "metadata": {
        "id": "xRXMYxFhWwkQ",
        "colab_type": "code",
        "outputId": "404abdec-d052-4650-c472-a8554b5b9cd7",
        "colab": {
          "base_uri": "https://localhost:8080/",
          "height": 1000
        }
      },
      "source": [
        "# We'll set sequences to be at most 128 tokens long.\n",
        "MAX_SEQ_LENGTH = 144\n",
        "\n",
        "# Convert our train and validation features to InputFeatures that BERT understands.\n",
        "train_features = bert.run_classifier.convert_examples_to_features(train_InputExamples, label_list, MAX_SEQ_LENGTH, tokenizer)\n",
        "\n",
        "val_features = bert.run_classifier.convert_examples_to_features(val_InputExamples, label_list, MAX_SEQ_LENGTH, tokenizer)"
      ],
      "execution_count": 23,
      "outputs": [
        {
          "output_type": "stream",
          "text": [
            "WARNING:tensorflow:From /usr/local/lib/python3.6/dist-packages/bert/run_classifier.py:774: The name tf.logging.info is deprecated. Please use tf.compat.v1.logging.info instead.\n",
            "\n"
          ],
          "name": "stdout"
        },
        {
          "output_type": "stream",
          "text": [
            "WARNING:tensorflow:From /usr/local/lib/python3.6/dist-packages/bert/run_classifier.py:774: The name tf.logging.info is deprecated. Please use tf.compat.v1.logging.info instead.\n",
            "\n"
          ],
          "name": "stderr"
        },
        {
          "output_type": "stream",
          "text": [
            "INFO:tensorflow:Writing example 0 of 256\n"
          ],
          "name": "stdout"
        },
        {
          "output_type": "stream",
          "text": [
            "INFO:tensorflow:Writing example 0 of 256\n"
          ],
          "name": "stderr"
        },
        {
          "output_type": "stream",
          "text": [
            "INFO:tensorflow:*** Example ***\n"
          ],
          "name": "stdout"
        },
        {
          "output_type": "stream",
          "text": [
            "INFO:tensorflow:*** Example ***\n"
          ],
          "name": "stderr"
        },
        {
          "output_type": "stream",
          "text": [
            "INFO:tensorflow:guid: None\n"
          ],
          "name": "stdout"
        },
        {
          "output_type": "stream",
          "text": [
            "INFO:tensorflow:guid: None\n"
          ],
          "name": "stderr"
        },
        {
          "output_type": "stream",
          "text": [
            "INFO:tensorflow:tokens: [CLS] i hit the ju ##ul and i can ##t feel my feet rn [UNK] [SEP]\n"
          ],
          "name": "stdout"
        },
        {
          "output_type": "stream",
          "text": [
            "INFO:tensorflow:tokens: [CLS] i hit the ju ##ul and i can ##t feel my feet rn [UNK] [SEP]\n"
          ],
          "name": "stderr"
        },
        {
          "output_type": "stream",
          "text": [
            "INFO:tensorflow:input_ids: 101 1045 2718 1996 18414 5313 1998 1045 2064 2102 2514 2026 2519 29300 100 102 0 0 0 0 0 0 0 0 0 0 0 0 0 0 0 0 0 0 0 0 0 0 0 0 0 0 0 0 0 0 0 0 0 0 0 0 0 0 0 0 0 0 0 0 0 0 0 0 0 0 0 0 0 0 0 0 0 0 0 0 0 0 0 0 0 0 0 0 0 0 0 0 0 0 0 0 0 0 0 0 0 0 0 0 0 0 0 0 0 0 0 0 0 0 0 0 0 0 0 0 0 0 0 0 0 0 0 0 0 0 0 0 0 0 0 0 0 0 0 0 0 0 0 0 0 0 0 0\n"
          ],
          "name": "stdout"
        },
        {
          "output_type": "stream",
          "text": [
            "INFO:tensorflow:input_ids: 101 1045 2718 1996 18414 5313 1998 1045 2064 2102 2514 2026 2519 29300 100 102 0 0 0 0 0 0 0 0 0 0 0 0 0 0 0 0 0 0 0 0 0 0 0 0 0 0 0 0 0 0 0 0 0 0 0 0 0 0 0 0 0 0 0 0 0 0 0 0 0 0 0 0 0 0 0 0 0 0 0 0 0 0 0 0 0 0 0 0 0 0 0 0 0 0 0 0 0 0 0 0 0 0 0 0 0 0 0 0 0 0 0 0 0 0 0 0 0 0 0 0 0 0 0 0 0 0 0 0 0 0 0 0 0 0 0 0 0 0 0 0 0 0 0 0 0 0 0 0\n"
          ],
          "name": "stderr"
        },
        {
          "output_type": "stream",
          "text": [
            "INFO:tensorflow:input_mask: 1 1 1 1 1 1 1 1 1 1 1 1 1 1 1 1 0 0 0 0 0 0 0 0 0 0 0 0 0 0 0 0 0 0 0 0 0 0 0 0 0 0 0 0 0 0 0 0 0 0 0 0 0 0 0 0 0 0 0 0 0 0 0 0 0 0 0 0 0 0 0 0 0 0 0 0 0 0 0 0 0 0 0 0 0 0 0 0 0 0 0 0 0 0 0 0 0 0 0 0 0 0 0 0 0 0 0 0 0 0 0 0 0 0 0 0 0 0 0 0 0 0 0 0 0 0 0 0 0 0 0 0 0 0 0 0 0 0 0 0 0 0 0 0\n"
          ],
          "name": "stdout"
        },
        {
          "output_type": "stream",
          "text": [
            "INFO:tensorflow:input_mask: 1 1 1 1 1 1 1 1 1 1 1 1 1 1 1 1 0 0 0 0 0 0 0 0 0 0 0 0 0 0 0 0 0 0 0 0 0 0 0 0 0 0 0 0 0 0 0 0 0 0 0 0 0 0 0 0 0 0 0 0 0 0 0 0 0 0 0 0 0 0 0 0 0 0 0 0 0 0 0 0 0 0 0 0 0 0 0 0 0 0 0 0 0 0 0 0 0 0 0 0 0 0 0 0 0 0 0 0 0 0 0 0 0 0 0 0 0 0 0 0 0 0 0 0 0 0 0 0 0 0 0 0 0 0 0 0 0 0 0 0 0 0 0 0\n"
          ],
          "name": "stderr"
        },
        {
          "output_type": "stream",
          "text": [
            "INFO:tensorflow:segment_ids: 0 0 0 0 0 0 0 0 0 0 0 0 0 0 0 0 0 0 0 0 0 0 0 0 0 0 0 0 0 0 0 0 0 0 0 0 0 0 0 0 0 0 0 0 0 0 0 0 0 0 0 0 0 0 0 0 0 0 0 0 0 0 0 0 0 0 0 0 0 0 0 0 0 0 0 0 0 0 0 0 0 0 0 0 0 0 0 0 0 0 0 0 0 0 0 0 0 0 0 0 0 0 0 0 0 0 0 0 0 0 0 0 0 0 0 0 0 0 0 0 0 0 0 0 0 0 0 0 0 0 0 0 0 0 0 0 0 0 0 0 0 0 0 0\n"
          ],
          "name": "stdout"
        },
        {
          "output_type": "stream",
          "text": [
            "INFO:tensorflow:segment_ids: 0 0 0 0 0 0 0 0 0 0 0 0 0 0 0 0 0 0 0 0 0 0 0 0 0 0 0 0 0 0 0 0 0 0 0 0 0 0 0 0 0 0 0 0 0 0 0 0 0 0 0 0 0 0 0 0 0 0 0 0 0 0 0 0 0 0 0 0 0 0 0 0 0 0 0 0 0 0 0 0 0 0 0 0 0 0 0 0 0 0 0 0 0 0 0 0 0 0 0 0 0 0 0 0 0 0 0 0 0 0 0 0 0 0 0 0 0 0 0 0 0 0 0 0 0 0 0 0 0 0 0 0 0 0 0 0 0 0 0 0 0 0 0 0\n"
          ],
          "name": "stderr"
        },
        {
          "output_type": "stream",
          "text": [
            "INFO:tensorflow:label: 0 (id = 1)\n"
          ],
          "name": "stdout"
        },
        {
          "output_type": "stream",
          "text": [
            "INFO:tensorflow:label: 0 (id = 1)\n"
          ],
          "name": "stderr"
        },
        {
          "output_type": "stream",
          "text": [
            "INFO:tensorflow:*** Example ***\n"
          ],
          "name": "stdout"
        },
        {
          "output_type": "stream",
          "text": [
            "INFO:tensorflow:*** Example ***\n"
          ],
          "name": "stderr"
        },
        {
          "output_type": "stream",
          "text": [
            "INFO:tensorflow:guid: None\n"
          ],
          "name": "stdout"
        },
        {
          "output_type": "stream",
          "text": [
            "INFO:tensorflow:guid: None\n"
          ],
          "name": "stderr"
        },
        {
          "output_type": "stream",
          "text": [
            "INFO:tensorflow:tokens: [CLS] my va ##pe isn ’ t charging and my ju ##ul is out . what ever did i do to deserve this shit [SEP]\n"
          ],
          "name": "stdout"
        },
        {
          "output_type": "stream",
          "text": [
            "INFO:tensorflow:tokens: [CLS] my va ##pe isn ’ t charging and my ju ##ul is out . what ever did i do to deserve this shit [SEP]\n"
          ],
          "name": "stderr"
        },
        {
          "output_type": "stream",
          "text": [
            "INFO:tensorflow:input_ids: 101 2026 12436 5051 3475 1521 1056 13003 1998 2026 18414 5313 2003 2041 1012 2054 2412 2106 1045 2079 2000 10107 2023 4485 102 0 0 0 0 0 0 0 0 0 0 0 0 0 0 0 0 0 0 0 0 0 0 0 0 0 0 0 0 0 0 0 0 0 0 0 0 0 0 0 0 0 0 0 0 0 0 0 0 0 0 0 0 0 0 0 0 0 0 0 0 0 0 0 0 0 0 0 0 0 0 0 0 0 0 0 0 0 0 0 0 0 0 0 0 0 0 0 0 0 0 0 0 0 0 0 0 0 0 0 0 0 0 0 0 0 0 0 0 0 0 0 0 0 0 0 0 0 0 0\n"
          ],
          "name": "stdout"
        },
        {
          "output_type": "stream",
          "text": [
            "INFO:tensorflow:input_ids: 101 2026 12436 5051 3475 1521 1056 13003 1998 2026 18414 5313 2003 2041 1012 2054 2412 2106 1045 2079 2000 10107 2023 4485 102 0 0 0 0 0 0 0 0 0 0 0 0 0 0 0 0 0 0 0 0 0 0 0 0 0 0 0 0 0 0 0 0 0 0 0 0 0 0 0 0 0 0 0 0 0 0 0 0 0 0 0 0 0 0 0 0 0 0 0 0 0 0 0 0 0 0 0 0 0 0 0 0 0 0 0 0 0 0 0 0 0 0 0 0 0 0 0 0 0 0 0 0 0 0 0 0 0 0 0 0 0 0 0 0 0 0 0 0 0 0 0 0 0 0 0 0 0 0 0\n"
          ],
          "name": "stderr"
        },
        {
          "output_type": "stream",
          "text": [
            "INFO:tensorflow:input_mask: 1 1 1 1 1 1 1 1 1 1 1 1 1 1 1 1 1 1 1 1 1 1 1 1 1 0 0 0 0 0 0 0 0 0 0 0 0 0 0 0 0 0 0 0 0 0 0 0 0 0 0 0 0 0 0 0 0 0 0 0 0 0 0 0 0 0 0 0 0 0 0 0 0 0 0 0 0 0 0 0 0 0 0 0 0 0 0 0 0 0 0 0 0 0 0 0 0 0 0 0 0 0 0 0 0 0 0 0 0 0 0 0 0 0 0 0 0 0 0 0 0 0 0 0 0 0 0 0 0 0 0 0 0 0 0 0 0 0 0 0 0 0 0 0\n"
          ],
          "name": "stdout"
        },
        {
          "output_type": "stream",
          "text": [
            "INFO:tensorflow:input_mask: 1 1 1 1 1 1 1 1 1 1 1 1 1 1 1 1 1 1 1 1 1 1 1 1 1 0 0 0 0 0 0 0 0 0 0 0 0 0 0 0 0 0 0 0 0 0 0 0 0 0 0 0 0 0 0 0 0 0 0 0 0 0 0 0 0 0 0 0 0 0 0 0 0 0 0 0 0 0 0 0 0 0 0 0 0 0 0 0 0 0 0 0 0 0 0 0 0 0 0 0 0 0 0 0 0 0 0 0 0 0 0 0 0 0 0 0 0 0 0 0 0 0 0 0 0 0 0 0 0 0 0 0 0 0 0 0 0 0 0 0 0 0 0 0\n"
          ],
          "name": "stderr"
        },
        {
          "output_type": "stream",
          "text": [
            "INFO:tensorflow:segment_ids: 0 0 0 0 0 0 0 0 0 0 0 0 0 0 0 0 0 0 0 0 0 0 0 0 0 0 0 0 0 0 0 0 0 0 0 0 0 0 0 0 0 0 0 0 0 0 0 0 0 0 0 0 0 0 0 0 0 0 0 0 0 0 0 0 0 0 0 0 0 0 0 0 0 0 0 0 0 0 0 0 0 0 0 0 0 0 0 0 0 0 0 0 0 0 0 0 0 0 0 0 0 0 0 0 0 0 0 0 0 0 0 0 0 0 0 0 0 0 0 0 0 0 0 0 0 0 0 0 0 0 0 0 0 0 0 0 0 0 0 0 0 0 0 0\n"
          ],
          "name": "stdout"
        },
        {
          "output_type": "stream",
          "text": [
            "INFO:tensorflow:segment_ids: 0 0 0 0 0 0 0 0 0 0 0 0 0 0 0 0 0 0 0 0 0 0 0 0 0 0 0 0 0 0 0 0 0 0 0 0 0 0 0 0 0 0 0 0 0 0 0 0 0 0 0 0 0 0 0 0 0 0 0 0 0 0 0 0 0 0 0 0 0 0 0 0 0 0 0 0 0 0 0 0 0 0 0 0 0 0 0 0 0 0 0 0 0 0 0 0 0 0 0 0 0 0 0 0 0 0 0 0 0 0 0 0 0 0 0 0 0 0 0 0 0 0 0 0 0 0 0 0 0 0 0 0 0 0 0 0 0 0 0 0 0 0 0 0\n"
          ],
          "name": "stderr"
        },
        {
          "output_type": "stream",
          "text": [
            "INFO:tensorflow:label: 0 (id = 1)\n"
          ],
          "name": "stdout"
        },
        {
          "output_type": "stream",
          "text": [
            "INFO:tensorflow:label: 0 (id = 1)\n"
          ],
          "name": "stderr"
        },
        {
          "output_type": "stream",
          "text": [
            "INFO:tensorflow:*** Example ***\n"
          ],
          "name": "stdout"
        },
        {
          "output_type": "stream",
          "text": [
            "INFO:tensorflow:*** Example ***\n"
          ],
          "name": "stderr"
        },
        {
          "output_type": "stream",
          "text": [
            "INFO:tensorflow:guid: None\n"
          ],
          "name": "stdout"
        },
        {
          "output_type": "stream",
          "text": [
            "INFO:tensorflow:guid: None\n"
          ],
          "name": "stderr"
        },
        {
          "output_type": "stream",
          "text": [
            "INFO:tensorflow:tokens: [CLS] q ##t @ truth ##oran ##ge : your ads make me wanna start va ##ping out of spite ; let ' s just say it ' s a lot harder to keep that inside stuff inside of you when you va ##pe . [SEP]\n"
          ],
          "name": "stdout"
        },
        {
          "output_type": "stream",
          "text": [
            "INFO:tensorflow:tokens: [CLS] q ##t @ truth ##oran ##ge : your ads make me wanna start va ##ping out of spite ; let ' s just say it ' s a lot harder to keep that inside stuff inside of you when you va ##pe . [SEP]\n"
          ],
          "name": "stderr"
        },
        {
          "output_type": "stream",
          "text": [
            "INFO:tensorflow:input_ids: 101 1053 2102 1030 3606 18842 3351 1024 2115 14997 2191 2033 10587 2707 12436 4691 2041 1997 8741 1025 2292 1005 1055 2074 2360 2009 1005 1055 1037 2843 6211 2000 2562 2008 2503 4933 2503 1997 2017 2043 2017 12436 5051 1012 102 0 0 0 0 0 0 0 0 0 0 0 0 0 0 0 0 0 0 0 0 0 0 0 0 0 0 0 0 0 0 0 0 0 0 0 0 0 0 0 0 0 0 0 0 0 0 0 0 0 0 0 0 0 0 0 0 0 0 0 0 0 0 0 0 0 0 0 0 0 0 0 0 0 0 0 0 0 0 0 0 0 0 0 0 0 0 0 0 0 0 0 0 0 0 0 0 0 0 0\n"
          ],
          "name": "stdout"
        },
        {
          "output_type": "stream",
          "text": [
            "INFO:tensorflow:input_ids: 101 1053 2102 1030 3606 18842 3351 1024 2115 14997 2191 2033 10587 2707 12436 4691 2041 1997 8741 1025 2292 1005 1055 2074 2360 2009 1005 1055 1037 2843 6211 2000 2562 2008 2503 4933 2503 1997 2017 2043 2017 12436 5051 1012 102 0 0 0 0 0 0 0 0 0 0 0 0 0 0 0 0 0 0 0 0 0 0 0 0 0 0 0 0 0 0 0 0 0 0 0 0 0 0 0 0 0 0 0 0 0 0 0 0 0 0 0 0 0 0 0 0 0 0 0 0 0 0 0 0 0 0 0 0 0 0 0 0 0 0 0 0 0 0 0 0 0 0 0 0 0 0 0 0 0 0 0 0 0 0 0 0 0 0 0\n"
          ],
          "name": "stderr"
        },
        {
          "output_type": "stream",
          "text": [
            "INFO:tensorflow:input_mask: 1 1 1 1 1 1 1 1 1 1 1 1 1 1 1 1 1 1 1 1 1 1 1 1 1 1 1 1 1 1 1 1 1 1 1 1 1 1 1 1 1 1 1 1 1 0 0 0 0 0 0 0 0 0 0 0 0 0 0 0 0 0 0 0 0 0 0 0 0 0 0 0 0 0 0 0 0 0 0 0 0 0 0 0 0 0 0 0 0 0 0 0 0 0 0 0 0 0 0 0 0 0 0 0 0 0 0 0 0 0 0 0 0 0 0 0 0 0 0 0 0 0 0 0 0 0 0 0 0 0 0 0 0 0 0 0 0 0 0 0 0 0 0 0\n"
          ],
          "name": "stdout"
        },
        {
          "output_type": "stream",
          "text": [
            "INFO:tensorflow:input_mask: 1 1 1 1 1 1 1 1 1 1 1 1 1 1 1 1 1 1 1 1 1 1 1 1 1 1 1 1 1 1 1 1 1 1 1 1 1 1 1 1 1 1 1 1 1 0 0 0 0 0 0 0 0 0 0 0 0 0 0 0 0 0 0 0 0 0 0 0 0 0 0 0 0 0 0 0 0 0 0 0 0 0 0 0 0 0 0 0 0 0 0 0 0 0 0 0 0 0 0 0 0 0 0 0 0 0 0 0 0 0 0 0 0 0 0 0 0 0 0 0 0 0 0 0 0 0 0 0 0 0 0 0 0 0 0 0 0 0 0 0 0 0 0 0\n"
          ],
          "name": "stderr"
        },
        {
          "output_type": "stream",
          "text": [
            "INFO:tensorflow:segment_ids: 0 0 0 0 0 0 0 0 0 0 0 0 0 0 0 0 0 0 0 0 0 0 0 0 0 0 0 0 0 0 0 0 0 0 0 0 0 0 0 0 0 0 0 0 0 0 0 0 0 0 0 0 0 0 0 0 0 0 0 0 0 0 0 0 0 0 0 0 0 0 0 0 0 0 0 0 0 0 0 0 0 0 0 0 0 0 0 0 0 0 0 0 0 0 0 0 0 0 0 0 0 0 0 0 0 0 0 0 0 0 0 0 0 0 0 0 0 0 0 0 0 0 0 0 0 0 0 0 0 0 0 0 0 0 0 0 0 0 0 0 0 0 0 0\n"
          ],
          "name": "stdout"
        },
        {
          "output_type": "stream",
          "text": [
            "INFO:tensorflow:segment_ids: 0 0 0 0 0 0 0 0 0 0 0 0 0 0 0 0 0 0 0 0 0 0 0 0 0 0 0 0 0 0 0 0 0 0 0 0 0 0 0 0 0 0 0 0 0 0 0 0 0 0 0 0 0 0 0 0 0 0 0 0 0 0 0 0 0 0 0 0 0 0 0 0 0 0 0 0 0 0 0 0 0 0 0 0 0 0 0 0 0 0 0 0 0 0 0 0 0 0 0 0 0 0 0 0 0 0 0 0 0 0 0 0 0 0 0 0 0 0 0 0 0 0 0 0 0 0 0 0 0 0 0 0 0 0 0 0 0 0 0 0 0 0 0 0\n"
          ],
          "name": "stderr"
        },
        {
          "output_type": "stream",
          "text": [
            "INFO:tensorflow:label: 0 (id = 1)\n"
          ],
          "name": "stdout"
        },
        {
          "output_type": "stream",
          "text": [
            "INFO:tensorflow:label: 0 (id = 1)\n"
          ],
          "name": "stderr"
        },
        {
          "output_type": "stream",
          "text": [
            "INFO:tensorflow:*** Example ***\n"
          ],
          "name": "stdout"
        },
        {
          "output_type": "stream",
          "text": [
            "INFO:tensorflow:*** Example ***\n"
          ],
          "name": "stderr"
        },
        {
          "output_type": "stream",
          "text": [
            "INFO:tensorflow:guid: None\n"
          ],
          "name": "stdout"
        },
        {
          "output_type": "stream",
          "text": [
            "INFO:tensorflow:guid: None\n"
          ],
          "name": "stderr"
        },
        {
          "output_type": "stream",
          "text": [
            "INFO:tensorflow:tokens: [CLS] if i had all the money back that i ’ ve spent on ju ##ul pods i ’ d be paper ##ed up [UNK] [SEP]\n"
          ],
          "name": "stdout"
        },
        {
          "output_type": "stream",
          "text": [
            "INFO:tensorflow:tokens: [CLS] if i had all the money back that i ’ ve spent on ju ##ul pods i ’ d be paper ##ed up [UNK] [SEP]\n"
          ],
          "name": "stderr"
        },
        {
          "output_type": "stream",
          "text": [
            "INFO:tensorflow:input_ids: 101 2065 1045 2018 2035 1996 2769 2067 2008 1045 1521 2310 2985 2006 18414 5313 26723 1045 1521 1040 2022 3259 2098 2039 100 102 0 0 0 0 0 0 0 0 0 0 0 0 0 0 0 0 0 0 0 0 0 0 0 0 0 0 0 0 0 0 0 0 0 0 0 0 0 0 0 0 0 0 0 0 0 0 0 0 0 0 0 0 0 0 0 0 0 0 0 0 0 0 0 0 0 0 0 0 0 0 0 0 0 0 0 0 0 0 0 0 0 0 0 0 0 0 0 0 0 0 0 0 0 0 0 0 0 0 0 0 0 0 0 0 0 0 0 0 0 0 0 0 0 0 0 0 0 0\n"
          ],
          "name": "stdout"
        },
        {
          "output_type": "stream",
          "text": [
            "INFO:tensorflow:input_ids: 101 2065 1045 2018 2035 1996 2769 2067 2008 1045 1521 2310 2985 2006 18414 5313 26723 1045 1521 1040 2022 3259 2098 2039 100 102 0 0 0 0 0 0 0 0 0 0 0 0 0 0 0 0 0 0 0 0 0 0 0 0 0 0 0 0 0 0 0 0 0 0 0 0 0 0 0 0 0 0 0 0 0 0 0 0 0 0 0 0 0 0 0 0 0 0 0 0 0 0 0 0 0 0 0 0 0 0 0 0 0 0 0 0 0 0 0 0 0 0 0 0 0 0 0 0 0 0 0 0 0 0 0 0 0 0 0 0 0 0 0 0 0 0 0 0 0 0 0 0 0 0 0 0 0 0\n"
          ],
          "name": "stderr"
        },
        {
          "output_type": "stream",
          "text": [
            "INFO:tensorflow:input_mask: 1 1 1 1 1 1 1 1 1 1 1 1 1 1 1 1 1 1 1 1 1 1 1 1 1 1 0 0 0 0 0 0 0 0 0 0 0 0 0 0 0 0 0 0 0 0 0 0 0 0 0 0 0 0 0 0 0 0 0 0 0 0 0 0 0 0 0 0 0 0 0 0 0 0 0 0 0 0 0 0 0 0 0 0 0 0 0 0 0 0 0 0 0 0 0 0 0 0 0 0 0 0 0 0 0 0 0 0 0 0 0 0 0 0 0 0 0 0 0 0 0 0 0 0 0 0 0 0 0 0 0 0 0 0 0 0 0 0 0 0 0 0 0 0\n"
          ],
          "name": "stdout"
        },
        {
          "output_type": "stream",
          "text": [
            "INFO:tensorflow:input_mask: 1 1 1 1 1 1 1 1 1 1 1 1 1 1 1 1 1 1 1 1 1 1 1 1 1 1 0 0 0 0 0 0 0 0 0 0 0 0 0 0 0 0 0 0 0 0 0 0 0 0 0 0 0 0 0 0 0 0 0 0 0 0 0 0 0 0 0 0 0 0 0 0 0 0 0 0 0 0 0 0 0 0 0 0 0 0 0 0 0 0 0 0 0 0 0 0 0 0 0 0 0 0 0 0 0 0 0 0 0 0 0 0 0 0 0 0 0 0 0 0 0 0 0 0 0 0 0 0 0 0 0 0 0 0 0 0 0 0 0 0 0 0 0 0\n"
          ],
          "name": "stderr"
        },
        {
          "output_type": "stream",
          "text": [
            "INFO:tensorflow:segment_ids: 0 0 0 0 0 0 0 0 0 0 0 0 0 0 0 0 0 0 0 0 0 0 0 0 0 0 0 0 0 0 0 0 0 0 0 0 0 0 0 0 0 0 0 0 0 0 0 0 0 0 0 0 0 0 0 0 0 0 0 0 0 0 0 0 0 0 0 0 0 0 0 0 0 0 0 0 0 0 0 0 0 0 0 0 0 0 0 0 0 0 0 0 0 0 0 0 0 0 0 0 0 0 0 0 0 0 0 0 0 0 0 0 0 0 0 0 0 0 0 0 0 0 0 0 0 0 0 0 0 0 0 0 0 0 0 0 0 0 0 0 0 0 0 0\n"
          ],
          "name": "stdout"
        },
        {
          "output_type": "stream",
          "text": [
            "INFO:tensorflow:segment_ids: 0 0 0 0 0 0 0 0 0 0 0 0 0 0 0 0 0 0 0 0 0 0 0 0 0 0 0 0 0 0 0 0 0 0 0 0 0 0 0 0 0 0 0 0 0 0 0 0 0 0 0 0 0 0 0 0 0 0 0 0 0 0 0 0 0 0 0 0 0 0 0 0 0 0 0 0 0 0 0 0 0 0 0 0 0 0 0 0 0 0 0 0 0 0 0 0 0 0 0 0 0 0 0 0 0 0 0 0 0 0 0 0 0 0 0 0 0 0 0 0 0 0 0 0 0 0 0 0 0 0 0 0 0 0 0 0 0 0 0 0 0 0 0 0\n"
          ],
          "name": "stderr"
        },
        {
          "output_type": "stream",
          "text": [
            "INFO:tensorflow:label: 0 (id = 1)\n"
          ],
          "name": "stdout"
        },
        {
          "output_type": "stream",
          "text": [
            "INFO:tensorflow:label: 0 (id = 1)\n"
          ],
          "name": "stderr"
        },
        {
          "output_type": "stream",
          "text": [
            "INFO:tensorflow:*** Example ***\n"
          ],
          "name": "stdout"
        },
        {
          "output_type": "stream",
          "text": [
            "INFO:tensorflow:*** Example ***\n"
          ],
          "name": "stderr"
        },
        {
          "output_type": "stream",
          "text": [
            "INFO:tensorflow:guid: None\n"
          ],
          "name": "stdout"
        },
        {
          "output_type": "stream",
          "text": [
            "INFO:tensorflow:guid: None\n"
          ],
          "name": "stderr"
        },
        {
          "output_type": "stream",
          "text": [
            "INFO:tensorflow:tokens: [CLS] i love hook ##ah but that shit be a bitch to clean . [SEP]\n"
          ],
          "name": "stdout"
        },
        {
          "output_type": "stream",
          "text": [
            "INFO:tensorflow:tokens: [CLS] i love hook ##ah but that shit be a bitch to clean . [SEP]\n"
          ],
          "name": "stderr"
        },
        {
          "output_type": "stream",
          "text": [
            "INFO:tensorflow:input_ids: 101 1045 2293 8103 4430 2021 2008 4485 2022 1037 7743 2000 4550 1012 102 0 0 0 0 0 0 0 0 0 0 0 0 0 0 0 0 0 0 0 0 0 0 0 0 0 0 0 0 0 0 0 0 0 0 0 0 0 0 0 0 0 0 0 0 0 0 0 0 0 0 0 0 0 0 0 0 0 0 0 0 0 0 0 0 0 0 0 0 0 0 0 0 0 0 0 0 0 0 0 0 0 0 0 0 0 0 0 0 0 0 0 0 0 0 0 0 0 0 0 0 0 0 0 0 0 0 0 0 0 0 0 0 0 0 0 0 0 0 0 0 0 0 0 0 0 0 0 0 0\n"
          ],
          "name": "stdout"
        },
        {
          "output_type": "stream",
          "text": [
            "INFO:tensorflow:input_ids: 101 1045 2293 8103 4430 2021 2008 4485 2022 1037 7743 2000 4550 1012 102 0 0 0 0 0 0 0 0 0 0 0 0 0 0 0 0 0 0 0 0 0 0 0 0 0 0 0 0 0 0 0 0 0 0 0 0 0 0 0 0 0 0 0 0 0 0 0 0 0 0 0 0 0 0 0 0 0 0 0 0 0 0 0 0 0 0 0 0 0 0 0 0 0 0 0 0 0 0 0 0 0 0 0 0 0 0 0 0 0 0 0 0 0 0 0 0 0 0 0 0 0 0 0 0 0 0 0 0 0 0 0 0 0 0 0 0 0 0 0 0 0 0 0 0 0 0 0 0 0\n"
          ],
          "name": "stderr"
        },
        {
          "output_type": "stream",
          "text": [
            "INFO:tensorflow:input_mask: 1 1 1 1 1 1 1 1 1 1 1 1 1 1 1 0 0 0 0 0 0 0 0 0 0 0 0 0 0 0 0 0 0 0 0 0 0 0 0 0 0 0 0 0 0 0 0 0 0 0 0 0 0 0 0 0 0 0 0 0 0 0 0 0 0 0 0 0 0 0 0 0 0 0 0 0 0 0 0 0 0 0 0 0 0 0 0 0 0 0 0 0 0 0 0 0 0 0 0 0 0 0 0 0 0 0 0 0 0 0 0 0 0 0 0 0 0 0 0 0 0 0 0 0 0 0 0 0 0 0 0 0 0 0 0 0 0 0 0 0 0 0 0 0\n"
          ],
          "name": "stdout"
        },
        {
          "output_type": "stream",
          "text": [
            "INFO:tensorflow:input_mask: 1 1 1 1 1 1 1 1 1 1 1 1 1 1 1 0 0 0 0 0 0 0 0 0 0 0 0 0 0 0 0 0 0 0 0 0 0 0 0 0 0 0 0 0 0 0 0 0 0 0 0 0 0 0 0 0 0 0 0 0 0 0 0 0 0 0 0 0 0 0 0 0 0 0 0 0 0 0 0 0 0 0 0 0 0 0 0 0 0 0 0 0 0 0 0 0 0 0 0 0 0 0 0 0 0 0 0 0 0 0 0 0 0 0 0 0 0 0 0 0 0 0 0 0 0 0 0 0 0 0 0 0 0 0 0 0 0 0 0 0 0 0 0 0\n"
          ],
          "name": "stderr"
        },
        {
          "output_type": "stream",
          "text": [
            "INFO:tensorflow:segment_ids: 0 0 0 0 0 0 0 0 0 0 0 0 0 0 0 0 0 0 0 0 0 0 0 0 0 0 0 0 0 0 0 0 0 0 0 0 0 0 0 0 0 0 0 0 0 0 0 0 0 0 0 0 0 0 0 0 0 0 0 0 0 0 0 0 0 0 0 0 0 0 0 0 0 0 0 0 0 0 0 0 0 0 0 0 0 0 0 0 0 0 0 0 0 0 0 0 0 0 0 0 0 0 0 0 0 0 0 0 0 0 0 0 0 0 0 0 0 0 0 0 0 0 0 0 0 0 0 0 0 0 0 0 0 0 0 0 0 0 0 0 0 0 0 0\n"
          ],
          "name": "stdout"
        },
        {
          "output_type": "stream",
          "text": [
            "INFO:tensorflow:segment_ids: 0 0 0 0 0 0 0 0 0 0 0 0 0 0 0 0 0 0 0 0 0 0 0 0 0 0 0 0 0 0 0 0 0 0 0 0 0 0 0 0 0 0 0 0 0 0 0 0 0 0 0 0 0 0 0 0 0 0 0 0 0 0 0 0 0 0 0 0 0 0 0 0 0 0 0 0 0 0 0 0 0 0 0 0 0 0 0 0 0 0 0 0 0 0 0 0 0 0 0 0 0 0 0 0 0 0 0 0 0 0 0 0 0 0 0 0 0 0 0 0 0 0 0 0 0 0 0 0 0 0 0 0 0 0 0 0 0 0 0 0 0 0 0 0\n"
          ],
          "name": "stderr"
        },
        {
          "output_type": "stream",
          "text": [
            "INFO:tensorflow:label: 0 (id = 1)\n"
          ],
          "name": "stdout"
        },
        {
          "output_type": "stream",
          "text": [
            "INFO:tensorflow:label: 0 (id = 1)\n"
          ],
          "name": "stderr"
        },
        {
          "output_type": "stream",
          "text": [
            "INFO:tensorflow:Writing example 0 of 64\n"
          ],
          "name": "stdout"
        },
        {
          "output_type": "stream",
          "text": [
            "INFO:tensorflow:Writing example 0 of 64\n"
          ],
          "name": "stderr"
        },
        {
          "output_type": "stream",
          "text": [
            "INFO:tensorflow:*** Example ***\n"
          ],
          "name": "stdout"
        },
        {
          "output_type": "stream",
          "text": [
            "INFO:tensorflow:*** Example ***\n"
          ],
          "name": "stderr"
        },
        {
          "output_type": "stream",
          "text": [
            "INFO:tensorflow:guid: None\n"
          ],
          "name": "stdout"
        },
        {
          "output_type": "stream",
          "text": [
            "INFO:tensorflow:guid: None\n"
          ],
          "name": "stderr"
        },
        {
          "output_type": "stream",
          "text": [
            "INFO:tensorflow:tokens: [CLS] @ hillary ##cl ##inton anyone here into guns ? va ##ping ? [SEP]\n"
          ],
          "name": "stdout"
        },
        {
          "output_type": "stream",
          "text": [
            "INFO:tensorflow:tokens: [CLS] @ hillary ##cl ##inton anyone here into guns ? va ##ping ? [SEP]\n"
          ],
          "name": "stderr"
        },
        {
          "output_type": "stream",
          "text": [
            "INFO:tensorflow:input_ids: 101 1030 18520 20464 27028 3087 2182 2046 4409 1029 12436 4691 1029 102 0 0 0 0 0 0 0 0 0 0 0 0 0 0 0 0 0 0 0 0 0 0 0 0 0 0 0 0 0 0 0 0 0 0 0 0 0 0 0 0 0 0 0 0 0 0 0 0 0 0 0 0 0 0 0 0 0 0 0 0 0 0 0 0 0 0 0 0 0 0 0 0 0 0 0 0 0 0 0 0 0 0 0 0 0 0 0 0 0 0 0 0 0 0 0 0 0 0 0 0 0 0 0 0 0 0 0 0 0 0 0 0 0 0 0 0 0 0 0 0 0 0 0 0 0 0 0 0 0 0\n"
          ],
          "name": "stdout"
        },
        {
          "output_type": "stream",
          "text": [
            "INFO:tensorflow:input_ids: 101 1030 18520 20464 27028 3087 2182 2046 4409 1029 12436 4691 1029 102 0 0 0 0 0 0 0 0 0 0 0 0 0 0 0 0 0 0 0 0 0 0 0 0 0 0 0 0 0 0 0 0 0 0 0 0 0 0 0 0 0 0 0 0 0 0 0 0 0 0 0 0 0 0 0 0 0 0 0 0 0 0 0 0 0 0 0 0 0 0 0 0 0 0 0 0 0 0 0 0 0 0 0 0 0 0 0 0 0 0 0 0 0 0 0 0 0 0 0 0 0 0 0 0 0 0 0 0 0 0 0 0 0 0 0 0 0 0 0 0 0 0 0 0 0 0 0 0 0 0\n"
          ],
          "name": "stderr"
        },
        {
          "output_type": "stream",
          "text": [
            "INFO:tensorflow:input_mask: 1 1 1 1 1 1 1 1 1 1 1 1 1 1 0 0 0 0 0 0 0 0 0 0 0 0 0 0 0 0 0 0 0 0 0 0 0 0 0 0 0 0 0 0 0 0 0 0 0 0 0 0 0 0 0 0 0 0 0 0 0 0 0 0 0 0 0 0 0 0 0 0 0 0 0 0 0 0 0 0 0 0 0 0 0 0 0 0 0 0 0 0 0 0 0 0 0 0 0 0 0 0 0 0 0 0 0 0 0 0 0 0 0 0 0 0 0 0 0 0 0 0 0 0 0 0 0 0 0 0 0 0 0 0 0 0 0 0 0 0 0 0 0 0\n"
          ],
          "name": "stdout"
        },
        {
          "output_type": "stream",
          "text": [
            "INFO:tensorflow:input_mask: 1 1 1 1 1 1 1 1 1 1 1 1 1 1 0 0 0 0 0 0 0 0 0 0 0 0 0 0 0 0 0 0 0 0 0 0 0 0 0 0 0 0 0 0 0 0 0 0 0 0 0 0 0 0 0 0 0 0 0 0 0 0 0 0 0 0 0 0 0 0 0 0 0 0 0 0 0 0 0 0 0 0 0 0 0 0 0 0 0 0 0 0 0 0 0 0 0 0 0 0 0 0 0 0 0 0 0 0 0 0 0 0 0 0 0 0 0 0 0 0 0 0 0 0 0 0 0 0 0 0 0 0 0 0 0 0 0 0 0 0 0 0 0 0\n"
          ],
          "name": "stderr"
        },
        {
          "output_type": "stream",
          "text": [
            "INFO:tensorflow:segment_ids: 0 0 0 0 0 0 0 0 0 0 0 0 0 0 0 0 0 0 0 0 0 0 0 0 0 0 0 0 0 0 0 0 0 0 0 0 0 0 0 0 0 0 0 0 0 0 0 0 0 0 0 0 0 0 0 0 0 0 0 0 0 0 0 0 0 0 0 0 0 0 0 0 0 0 0 0 0 0 0 0 0 0 0 0 0 0 0 0 0 0 0 0 0 0 0 0 0 0 0 0 0 0 0 0 0 0 0 0 0 0 0 0 0 0 0 0 0 0 0 0 0 0 0 0 0 0 0 0 0 0 0 0 0 0 0 0 0 0 0 0 0 0 0 0\n"
          ],
          "name": "stdout"
        },
        {
          "output_type": "stream",
          "text": [
            "INFO:tensorflow:segment_ids: 0 0 0 0 0 0 0 0 0 0 0 0 0 0 0 0 0 0 0 0 0 0 0 0 0 0 0 0 0 0 0 0 0 0 0 0 0 0 0 0 0 0 0 0 0 0 0 0 0 0 0 0 0 0 0 0 0 0 0 0 0 0 0 0 0 0 0 0 0 0 0 0 0 0 0 0 0 0 0 0 0 0 0 0 0 0 0 0 0 0 0 0 0 0 0 0 0 0 0 0 0 0 0 0 0 0 0 0 0 0 0 0 0 0 0 0 0 0 0 0 0 0 0 0 0 0 0 0 0 0 0 0 0 0 0 0 0 0 0 0 0 0 0 0\n"
          ],
          "name": "stderr"
        },
        {
          "output_type": "stream",
          "text": [
            "INFO:tensorflow:label: 0 (id = 1)\n"
          ],
          "name": "stdout"
        },
        {
          "output_type": "stream",
          "text": [
            "INFO:tensorflow:label: 0 (id = 1)\n"
          ],
          "name": "stderr"
        },
        {
          "output_type": "stream",
          "text": [
            "INFO:tensorflow:*** Example ***\n"
          ],
          "name": "stdout"
        },
        {
          "output_type": "stream",
          "text": [
            "INFO:tensorflow:*** Example ***\n"
          ],
          "name": "stderr"
        },
        {
          "output_type": "stream",
          "text": [
            "INFO:tensorflow:guid: None\n"
          ],
          "name": "stdout"
        },
        {
          "output_type": "stream",
          "text": [
            "INFO:tensorflow:guid: None\n"
          ],
          "name": "stderr"
        },
        {
          "output_type": "stream",
          "text": [
            "INFO:tensorflow:tokens: [CLS] @ blunt ##x ##burn ##er ##42 ##0 [UNK] fuck drinking al ##cho ##hol when we can va ##pe it ! ! ! [SEP]\n"
          ],
          "name": "stdout"
        },
        {
          "output_type": "stream",
          "text": [
            "INFO:tensorflow:tokens: [CLS] @ blunt ##x ##burn ##er ##42 ##0 [UNK] fuck drinking al ##cho ##hol when we can va ##pe it ! ! ! [SEP]\n"
          ],
          "name": "stderr"
        },
        {
          "output_type": "stream",
          "text": [
            "INFO:tensorflow:input_ids: 101 1030 14969 2595 8022 2121 20958 2692 100 6616 5948 2632 9905 14854 2043 2057 2064 12436 5051 2009 999 999 999 102 0 0 0 0 0 0 0 0 0 0 0 0 0 0 0 0 0 0 0 0 0 0 0 0 0 0 0 0 0 0 0 0 0 0 0 0 0 0 0 0 0 0 0 0 0 0 0 0 0 0 0 0 0 0 0 0 0 0 0 0 0 0 0 0 0 0 0 0 0 0 0 0 0 0 0 0 0 0 0 0 0 0 0 0 0 0 0 0 0 0 0 0 0 0 0 0 0 0 0 0 0 0 0 0 0 0 0 0 0 0 0 0 0 0 0 0 0 0 0 0\n"
          ],
          "name": "stdout"
        },
        {
          "output_type": "stream",
          "text": [
            "INFO:tensorflow:input_ids: 101 1030 14969 2595 8022 2121 20958 2692 100 6616 5948 2632 9905 14854 2043 2057 2064 12436 5051 2009 999 999 999 102 0 0 0 0 0 0 0 0 0 0 0 0 0 0 0 0 0 0 0 0 0 0 0 0 0 0 0 0 0 0 0 0 0 0 0 0 0 0 0 0 0 0 0 0 0 0 0 0 0 0 0 0 0 0 0 0 0 0 0 0 0 0 0 0 0 0 0 0 0 0 0 0 0 0 0 0 0 0 0 0 0 0 0 0 0 0 0 0 0 0 0 0 0 0 0 0 0 0 0 0 0 0 0 0 0 0 0 0 0 0 0 0 0 0 0 0 0 0 0 0\n"
          ],
          "name": "stderr"
        },
        {
          "output_type": "stream",
          "text": [
            "INFO:tensorflow:input_mask: 1 1 1 1 1 1 1 1 1 1 1 1 1 1 1 1 1 1 1 1 1 1 1 1 0 0 0 0 0 0 0 0 0 0 0 0 0 0 0 0 0 0 0 0 0 0 0 0 0 0 0 0 0 0 0 0 0 0 0 0 0 0 0 0 0 0 0 0 0 0 0 0 0 0 0 0 0 0 0 0 0 0 0 0 0 0 0 0 0 0 0 0 0 0 0 0 0 0 0 0 0 0 0 0 0 0 0 0 0 0 0 0 0 0 0 0 0 0 0 0 0 0 0 0 0 0 0 0 0 0 0 0 0 0 0 0 0 0 0 0 0 0 0 0\n"
          ],
          "name": "stdout"
        },
        {
          "output_type": "stream",
          "text": [
            "INFO:tensorflow:input_mask: 1 1 1 1 1 1 1 1 1 1 1 1 1 1 1 1 1 1 1 1 1 1 1 1 0 0 0 0 0 0 0 0 0 0 0 0 0 0 0 0 0 0 0 0 0 0 0 0 0 0 0 0 0 0 0 0 0 0 0 0 0 0 0 0 0 0 0 0 0 0 0 0 0 0 0 0 0 0 0 0 0 0 0 0 0 0 0 0 0 0 0 0 0 0 0 0 0 0 0 0 0 0 0 0 0 0 0 0 0 0 0 0 0 0 0 0 0 0 0 0 0 0 0 0 0 0 0 0 0 0 0 0 0 0 0 0 0 0 0 0 0 0 0 0\n"
          ],
          "name": "stderr"
        },
        {
          "output_type": "stream",
          "text": [
            "INFO:tensorflow:segment_ids: 0 0 0 0 0 0 0 0 0 0 0 0 0 0 0 0 0 0 0 0 0 0 0 0 0 0 0 0 0 0 0 0 0 0 0 0 0 0 0 0 0 0 0 0 0 0 0 0 0 0 0 0 0 0 0 0 0 0 0 0 0 0 0 0 0 0 0 0 0 0 0 0 0 0 0 0 0 0 0 0 0 0 0 0 0 0 0 0 0 0 0 0 0 0 0 0 0 0 0 0 0 0 0 0 0 0 0 0 0 0 0 0 0 0 0 0 0 0 0 0 0 0 0 0 0 0 0 0 0 0 0 0 0 0 0 0 0 0 0 0 0 0 0 0\n"
          ],
          "name": "stdout"
        },
        {
          "output_type": "stream",
          "text": [
            "INFO:tensorflow:segment_ids: 0 0 0 0 0 0 0 0 0 0 0 0 0 0 0 0 0 0 0 0 0 0 0 0 0 0 0 0 0 0 0 0 0 0 0 0 0 0 0 0 0 0 0 0 0 0 0 0 0 0 0 0 0 0 0 0 0 0 0 0 0 0 0 0 0 0 0 0 0 0 0 0 0 0 0 0 0 0 0 0 0 0 0 0 0 0 0 0 0 0 0 0 0 0 0 0 0 0 0 0 0 0 0 0 0 0 0 0 0 0 0 0 0 0 0 0 0 0 0 0 0 0 0 0 0 0 0 0 0 0 0 0 0 0 0 0 0 0 0 0 0 0 0 0\n"
          ],
          "name": "stderr"
        },
        {
          "output_type": "stream",
          "text": [
            "INFO:tensorflow:label: 0 (id = 1)\n"
          ],
          "name": "stdout"
        },
        {
          "output_type": "stream",
          "text": [
            "INFO:tensorflow:label: 0 (id = 1)\n"
          ],
          "name": "stderr"
        },
        {
          "output_type": "stream",
          "text": [
            "INFO:tensorflow:*** Example ***\n"
          ],
          "name": "stdout"
        },
        {
          "output_type": "stream",
          "text": [
            "INFO:tensorflow:*** Example ***\n"
          ],
          "name": "stderr"
        },
        {
          "output_type": "stream",
          "text": [
            "INFO:tensorflow:guid: None\n"
          ],
          "name": "stdout"
        },
        {
          "output_type": "stream",
          "text": [
            "INFO:tensorflow:guid: None\n"
          ],
          "name": "stderr"
        },
        {
          "output_type": "stream",
          "text": [
            "INFO:tensorflow:tokens: [CLS] @ mar ##lena ##rod ##ri ##g ##z i have 3 half empty cartridges and nothing to help me heat them up and suck smoke out of it . i ordered a nice big va ##pe pen so i won ’ t keep losing them but i ’ m sober and ir ##rita ##ble . ar ##g . [SEP]\n"
          ],
          "name": "stdout"
        },
        {
          "output_type": "stream",
          "text": [
            "INFO:tensorflow:tokens: [CLS] @ mar ##lena ##rod ##ri ##g ##z i have 3 half empty cartridges and nothing to help me heat them up and suck smoke out of it . i ordered a nice big va ##pe pen so i won ’ t keep losing them but i ’ m sober and ir ##rita ##ble . ar ##g . [SEP]\n"
          ],
          "name": "stderr"
        },
        {
          "output_type": "stream",
          "text": [
            "INFO:tensorflow:input_ids: 101 1030 9388 20844 14127 3089 2290 2480 1045 2031 1017 2431 4064 22998 1998 2498 2000 2393 2033 3684 2068 2039 1998 11891 5610 2041 1997 2009 1012 1045 3641 1037 3835 2502 12436 5051 7279 2061 1045 2180 1521 1056 2562 3974 2068 2021 1045 1521 1049 17358 1998 20868 17728 3468 1012 12098 2290 1012 102 0 0 0 0 0 0 0 0 0 0 0 0 0 0 0 0 0 0 0 0 0 0 0 0 0 0 0 0 0 0 0 0 0 0 0 0 0 0 0 0 0 0 0 0 0 0 0 0 0 0 0 0 0 0 0 0 0 0 0 0 0 0 0 0 0 0 0 0 0 0 0 0 0 0 0 0 0 0 0 0 0 0 0 0 0\n"
          ],
          "name": "stdout"
        },
        {
          "output_type": "stream",
          "text": [
            "INFO:tensorflow:input_ids: 101 1030 9388 20844 14127 3089 2290 2480 1045 2031 1017 2431 4064 22998 1998 2498 2000 2393 2033 3684 2068 2039 1998 11891 5610 2041 1997 2009 1012 1045 3641 1037 3835 2502 12436 5051 7279 2061 1045 2180 1521 1056 2562 3974 2068 2021 1045 1521 1049 17358 1998 20868 17728 3468 1012 12098 2290 1012 102 0 0 0 0 0 0 0 0 0 0 0 0 0 0 0 0 0 0 0 0 0 0 0 0 0 0 0 0 0 0 0 0 0 0 0 0 0 0 0 0 0 0 0 0 0 0 0 0 0 0 0 0 0 0 0 0 0 0 0 0 0 0 0 0 0 0 0 0 0 0 0 0 0 0 0 0 0 0 0 0 0 0 0 0 0\n"
          ],
          "name": "stderr"
        },
        {
          "output_type": "stream",
          "text": [
            "INFO:tensorflow:input_mask: 1 1 1 1 1 1 1 1 1 1 1 1 1 1 1 1 1 1 1 1 1 1 1 1 1 1 1 1 1 1 1 1 1 1 1 1 1 1 1 1 1 1 1 1 1 1 1 1 1 1 1 1 1 1 1 1 1 1 1 0 0 0 0 0 0 0 0 0 0 0 0 0 0 0 0 0 0 0 0 0 0 0 0 0 0 0 0 0 0 0 0 0 0 0 0 0 0 0 0 0 0 0 0 0 0 0 0 0 0 0 0 0 0 0 0 0 0 0 0 0 0 0 0 0 0 0 0 0 0 0 0 0 0 0 0 0 0 0 0 0 0 0 0 0\n"
          ],
          "name": "stdout"
        },
        {
          "output_type": "stream",
          "text": [
            "INFO:tensorflow:input_mask: 1 1 1 1 1 1 1 1 1 1 1 1 1 1 1 1 1 1 1 1 1 1 1 1 1 1 1 1 1 1 1 1 1 1 1 1 1 1 1 1 1 1 1 1 1 1 1 1 1 1 1 1 1 1 1 1 1 1 1 0 0 0 0 0 0 0 0 0 0 0 0 0 0 0 0 0 0 0 0 0 0 0 0 0 0 0 0 0 0 0 0 0 0 0 0 0 0 0 0 0 0 0 0 0 0 0 0 0 0 0 0 0 0 0 0 0 0 0 0 0 0 0 0 0 0 0 0 0 0 0 0 0 0 0 0 0 0 0 0 0 0 0 0 0\n"
          ],
          "name": "stderr"
        },
        {
          "output_type": "stream",
          "text": [
            "INFO:tensorflow:segment_ids: 0 0 0 0 0 0 0 0 0 0 0 0 0 0 0 0 0 0 0 0 0 0 0 0 0 0 0 0 0 0 0 0 0 0 0 0 0 0 0 0 0 0 0 0 0 0 0 0 0 0 0 0 0 0 0 0 0 0 0 0 0 0 0 0 0 0 0 0 0 0 0 0 0 0 0 0 0 0 0 0 0 0 0 0 0 0 0 0 0 0 0 0 0 0 0 0 0 0 0 0 0 0 0 0 0 0 0 0 0 0 0 0 0 0 0 0 0 0 0 0 0 0 0 0 0 0 0 0 0 0 0 0 0 0 0 0 0 0 0 0 0 0 0 0\n"
          ],
          "name": "stdout"
        },
        {
          "output_type": "stream",
          "text": [
            "INFO:tensorflow:segment_ids: 0 0 0 0 0 0 0 0 0 0 0 0 0 0 0 0 0 0 0 0 0 0 0 0 0 0 0 0 0 0 0 0 0 0 0 0 0 0 0 0 0 0 0 0 0 0 0 0 0 0 0 0 0 0 0 0 0 0 0 0 0 0 0 0 0 0 0 0 0 0 0 0 0 0 0 0 0 0 0 0 0 0 0 0 0 0 0 0 0 0 0 0 0 0 0 0 0 0 0 0 0 0 0 0 0 0 0 0 0 0 0 0 0 0 0 0 0 0 0 0 0 0 0 0 0 0 0 0 0 0 0 0 0 0 0 0 0 0 0 0 0 0 0 0\n"
          ],
          "name": "stderr"
        },
        {
          "output_type": "stream",
          "text": [
            "INFO:tensorflow:label: 0 (id = 1)\n"
          ],
          "name": "stdout"
        },
        {
          "output_type": "stream",
          "text": [
            "INFO:tensorflow:label: 0 (id = 1)\n"
          ],
          "name": "stderr"
        },
        {
          "output_type": "stream",
          "text": [
            "INFO:tensorflow:*** Example ***\n"
          ],
          "name": "stdout"
        },
        {
          "output_type": "stream",
          "text": [
            "INFO:tensorflow:*** Example ***\n"
          ],
          "name": "stderr"
        },
        {
          "output_type": "stream",
          "text": [
            "INFO:tensorflow:guid: None\n"
          ],
          "name": "stdout"
        },
        {
          "output_type": "stream",
          "text": [
            "INFO:tensorflow:guid: None\n"
          ],
          "name": "stderr"
        },
        {
          "output_type": "stream",
          "text": [
            "INFO:tensorflow:tokens: [CLS] in canada they call cr ##eme br ##ule ##e ju ##ul pods just \" vanilla . \" truly the land time forgot . [SEP]\n"
          ],
          "name": "stdout"
        },
        {
          "output_type": "stream",
          "text": [
            "INFO:tensorflow:tokens: [CLS] in canada they call cr ##eme br ##ule ##e ju ##ul pods just \" vanilla . \" truly the land time forgot . [SEP]\n"
          ],
          "name": "stderr"
        },
        {
          "output_type": "stream",
          "text": [
            "INFO:tensorflow:input_ids: 101 1999 2710 2027 2655 13675 21382 7987 9307 2063 18414 5313 26723 2074 1000 21161 1012 1000 5621 1996 2455 2051 9471 1012 102 0 0 0 0 0 0 0 0 0 0 0 0 0 0 0 0 0 0 0 0 0 0 0 0 0 0 0 0 0 0 0 0 0 0 0 0 0 0 0 0 0 0 0 0 0 0 0 0 0 0 0 0 0 0 0 0 0 0 0 0 0 0 0 0 0 0 0 0 0 0 0 0 0 0 0 0 0 0 0 0 0 0 0 0 0 0 0 0 0 0 0 0 0 0 0 0 0 0 0 0 0 0 0 0 0 0 0 0 0 0 0 0 0 0 0 0 0 0 0\n"
          ],
          "name": "stdout"
        },
        {
          "output_type": "stream",
          "text": [
            "INFO:tensorflow:input_ids: 101 1999 2710 2027 2655 13675 21382 7987 9307 2063 18414 5313 26723 2074 1000 21161 1012 1000 5621 1996 2455 2051 9471 1012 102 0 0 0 0 0 0 0 0 0 0 0 0 0 0 0 0 0 0 0 0 0 0 0 0 0 0 0 0 0 0 0 0 0 0 0 0 0 0 0 0 0 0 0 0 0 0 0 0 0 0 0 0 0 0 0 0 0 0 0 0 0 0 0 0 0 0 0 0 0 0 0 0 0 0 0 0 0 0 0 0 0 0 0 0 0 0 0 0 0 0 0 0 0 0 0 0 0 0 0 0 0 0 0 0 0 0 0 0 0 0 0 0 0 0 0 0 0 0 0\n"
          ],
          "name": "stderr"
        },
        {
          "output_type": "stream",
          "text": [
            "INFO:tensorflow:input_mask: 1 1 1 1 1 1 1 1 1 1 1 1 1 1 1 1 1 1 1 1 1 1 1 1 1 0 0 0 0 0 0 0 0 0 0 0 0 0 0 0 0 0 0 0 0 0 0 0 0 0 0 0 0 0 0 0 0 0 0 0 0 0 0 0 0 0 0 0 0 0 0 0 0 0 0 0 0 0 0 0 0 0 0 0 0 0 0 0 0 0 0 0 0 0 0 0 0 0 0 0 0 0 0 0 0 0 0 0 0 0 0 0 0 0 0 0 0 0 0 0 0 0 0 0 0 0 0 0 0 0 0 0 0 0 0 0 0 0 0 0 0 0 0 0\n"
          ],
          "name": "stdout"
        },
        {
          "output_type": "stream",
          "text": [
            "INFO:tensorflow:input_mask: 1 1 1 1 1 1 1 1 1 1 1 1 1 1 1 1 1 1 1 1 1 1 1 1 1 0 0 0 0 0 0 0 0 0 0 0 0 0 0 0 0 0 0 0 0 0 0 0 0 0 0 0 0 0 0 0 0 0 0 0 0 0 0 0 0 0 0 0 0 0 0 0 0 0 0 0 0 0 0 0 0 0 0 0 0 0 0 0 0 0 0 0 0 0 0 0 0 0 0 0 0 0 0 0 0 0 0 0 0 0 0 0 0 0 0 0 0 0 0 0 0 0 0 0 0 0 0 0 0 0 0 0 0 0 0 0 0 0 0 0 0 0 0 0\n"
          ],
          "name": "stderr"
        },
        {
          "output_type": "stream",
          "text": [
            "INFO:tensorflow:segment_ids: 0 0 0 0 0 0 0 0 0 0 0 0 0 0 0 0 0 0 0 0 0 0 0 0 0 0 0 0 0 0 0 0 0 0 0 0 0 0 0 0 0 0 0 0 0 0 0 0 0 0 0 0 0 0 0 0 0 0 0 0 0 0 0 0 0 0 0 0 0 0 0 0 0 0 0 0 0 0 0 0 0 0 0 0 0 0 0 0 0 0 0 0 0 0 0 0 0 0 0 0 0 0 0 0 0 0 0 0 0 0 0 0 0 0 0 0 0 0 0 0 0 0 0 0 0 0 0 0 0 0 0 0 0 0 0 0 0 0 0 0 0 0 0 0\n"
          ],
          "name": "stdout"
        },
        {
          "output_type": "stream",
          "text": [
            "INFO:tensorflow:segment_ids: 0 0 0 0 0 0 0 0 0 0 0 0 0 0 0 0 0 0 0 0 0 0 0 0 0 0 0 0 0 0 0 0 0 0 0 0 0 0 0 0 0 0 0 0 0 0 0 0 0 0 0 0 0 0 0 0 0 0 0 0 0 0 0 0 0 0 0 0 0 0 0 0 0 0 0 0 0 0 0 0 0 0 0 0 0 0 0 0 0 0 0 0 0 0 0 0 0 0 0 0 0 0 0 0 0 0 0 0 0 0 0 0 0 0 0 0 0 0 0 0 0 0 0 0 0 0 0 0 0 0 0 0 0 0 0 0 0 0 0 0 0 0 0 0\n"
          ],
          "name": "stderr"
        },
        {
          "output_type": "stream",
          "text": [
            "INFO:tensorflow:label: 0 (id = 1)\n"
          ],
          "name": "stdout"
        },
        {
          "output_type": "stream",
          "text": [
            "INFO:tensorflow:label: 0 (id = 1)\n"
          ],
          "name": "stderr"
        },
        {
          "output_type": "stream",
          "text": [
            "INFO:tensorflow:*** Example ***\n"
          ],
          "name": "stdout"
        },
        {
          "output_type": "stream",
          "text": [
            "INFO:tensorflow:*** Example ***\n"
          ],
          "name": "stderr"
        },
        {
          "output_type": "stream",
          "text": [
            "INFO:tensorflow:guid: None\n"
          ],
          "name": "stdout"
        },
        {
          "output_type": "stream",
          "text": [
            "INFO:tensorflow:guid: None\n"
          ],
          "name": "stderr"
        },
        {
          "output_type": "stream",
          "text": [
            "INFO:tensorflow:tokens: [CLS] @ as ##v ##p ##x ##pa ##trick @ faith ##yang ##el ##z just va ##pe l ##ma ##o no nico ##tine [SEP]\n"
          ],
          "name": "stdout"
        },
        {
          "output_type": "stream",
          "text": [
            "INFO:tensorflow:tokens: [CLS] @ as ##v ##p ##x ##pa ##trick @ faith ##yang ##el ##z just va ##pe l ##ma ##o no nico ##tine [SEP]\n"
          ],
          "name": "stderr"
        },
        {
          "output_type": "stream",
          "text": [
            "INFO:tensorflow:input_ids: 101 1030 2004 2615 2361 2595 4502 22881 1030 4752 12198 2884 2480 2074 12436 5051 1048 2863 2080 2053 19332 10196 102 0 0 0 0 0 0 0 0 0 0 0 0 0 0 0 0 0 0 0 0 0 0 0 0 0 0 0 0 0 0 0 0 0 0 0 0 0 0 0 0 0 0 0 0 0 0 0 0 0 0 0 0 0 0 0 0 0 0 0 0 0 0 0 0 0 0 0 0 0 0 0 0 0 0 0 0 0 0 0 0 0 0 0 0 0 0 0 0 0 0 0 0 0 0 0 0 0 0 0 0 0 0 0 0 0 0 0 0 0 0 0 0 0 0 0 0 0 0 0 0 0\n"
          ],
          "name": "stdout"
        },
        {
          "output_type": "stream",
          "text": [
            "INFO:tensorflow:input_ids: 101 1030 2004 2615 2361 2595 4502 22881 1030 4752 12198 2884 2480 2074 12436 5051 1048 2863 2080 2053 19332 10196 102 0 0 0 0 0 0 0 0 0 0 0 0 0 0 0 0 0 0 0 0 0 0 0 0 0 0 0 0 0 0 0 0 0 0 0 0 0 0 0 0 0 0 0 0 0 0 0 0 0 0 0 0 0 0 0 0 0 0 0 0 0 0 0 0 0 0 0 0 0 0 0 0 0 0 0 0 0 0 0 0 0 0 0 0 0 0 0 0 0 0 0 0 0 0 0 0 0 0 0 0 0 0 0 0 0 0 0 0 0 0 0 0 0 0 0 0 0 0 0 0 0\n"
          ],
          "name": "stderr"
        },
        {
          "output_type": "stream",
          "text": [
            "INFO:tensorflow:input_mask: 1 1 1 1 1 1 1 1 1 1 1 1 1 1 1 1 1 1 1 1 1 1 1 0 0 0 0 0 0 0 0 0 0 0 0 0 0 0 0 0 0 0 0 0 0 0 0 0 0 0 0 0 0 0 0 0 0 0 0 0 0 0 0 0 0 0 0 0 0 0 0 0 0 0 0 0 0 0 0 0 0 0 0 0 0 0 0 0 0 0 0 0 0 0 0 0 0 0 0 0 0 0 0 0 0 0 0 0 0 0 0 0 0 0 0 0 0 0 0 0 0 0 0 0 0 0 0 0 0 0 0 0 0 0 0 0 0 0 0 0 0 0 0 0\n"
          ],
          "name": "stdout"
        },
        {
          "output_type": "stream",
          "text": [
            "INFO:tensorflow:input_mask: 1 1 1 1 1 1 1 1 1 1 1 1 1 1 1 1 1 1 1 1 1 1 1 0 0 0 0 0 0 0 0 0 0 0 0 0 0 0 0 0 0 0 0 0 0 0 0 0 0 0 0 0 0 0 0 0 0 0 0 0 0 0 0 0 0 0 0 0 0 0 0 0 0 0 0 0 0 0 0 0 0 0 0 0 0 0 0 0 0 0 0 0 0 0 0 0 0 0 0 0 0 0 0 0 0 0 0 0 0 0 0 0 0 0 0 0 0 0 0 0 0 0 0 0 0 0 0 0 0 0 0 0 0 0 0 0 0 0 0 0 0 0 0 0\n"
          ],
          "name": "stderr"
        },
        {
          "output_type": "stream",
          "text": [
            "INFO:tensorflow:segment_ids: 0 0 0 0 0 0 0 0 0 0 0 0 0 0 0 0 0 0 0 0 0 0 0 0 0 0 0 0 0 0 0 0 0 0 0 0 0 0 0 0 0 0 0 0 0 0 0 0 0 0 0 0 0 0 0 0 0 0 0 0 0 0 0 0 0 0 0 0 0 0 0 0 0 0 0 0 0 0 0 0 0 0 0 0 0 0 0 0 0 0 0 0 0 0 0 0 0 0 0 0 0 0 0 0 0 0 0 0 0 0 0 0 0 0 0 0 0 0 0 0 0 0 0 0 0 0 0 0 0 0 0 0 0 0 0 0 0 0 0 0 0 0 0 0\n"
          ],
          "name": "stdout"
        },
        {
          "output_type": "stream",
          "text": [
            "INFO:tensorflow:segment_ids: 0 0 0 0 0 0 0 0 0 0 0 0 0 0 0 0 0 0 0 0 0 0 0 0 0 0 0 0 0 0 0 0 0 0 0 0 0 0 0 0 0 0 0 0 0 0 0 0 0 0 0 0 0 0 0 0 0 0 0 0 0 0 0 0 0 0 0 0 0 0 0 0 0 0 0 0 0 0 0 0 0 0 0 0 0 0 0 0 0 0 0 0 0 0 0 0 0 0 0 0 0 0 0 0 0 0 0 0 0 0 0 0 0 0 0 0 0 0 0 0 0 0 0 0 0 0 0 0 0 0 0 0 0 0 0 0 0 0 0 0 0 0 0 0\n"
          ],
          "name": "stderr"
        },
        {
          "output_type": "stream",
          "text": [
            "INFO:tensorflow:label: 0 (id = 1)\n"
          ],
          "name": "stdout"
        },
        {
          "output_type": "stream",
          "text": [
            "INFO:tensorflow:label: 0 (id = 1)\n"
          ],
          "name": "stderr"
        }
      ]
    },
    {
      "cell_type": "code",
      "metadata": {
        "id": "osQczOXIWwkS",
        "colab_type": "code",
        "outputId": "71b39079-24c7-40d0-e88f-121bb6f53bc4",
        "colab": {
          "base_uri": "https://localhost:8080/",
          "height": 190
        }
      },
      "source": [
        "#Example on first observation in the training set\n",
        "print(\"Sentence : \", train_InputExamples.iloc[0].text_a)\n",
        "print(\"-\"*30)\n",
        "print(\"Tokens : \", tokenizer.tokenize(train_InputExamples.iloc[0].text_a))\n",
        "print(\"-\"*30)\n",
        "print(\"Input IDs : \", train_features[0].input_ids)\n",
        "print(\"-\"*30)\n",
        "print(\"Input Masks : \", train_features[0].input_mask)\n",
        "print(\"-\"*30)\n",
        "print(\"Segment IDs : \", train_features[0].segment_ids)"
      ],
      "execution_count": 24,
      "outputs": [
        {
          "output_type": "stream",
          "text": [
            "Sentence :  I hit the juul and i cant feel my feet rn 😂\n",
            "------------------------------\n",
            "Tokens :  ['i', 'hit', 'the', 'ju', '##ul', 'and', 'i', 'can', '##t', 'feel', 'my', 'feet', 'rn', '[UNK]']\n",
            "------------------------------\n",
            "Input IDs :  [101, 1045, 2718, 1996, 18414, 5313, 1998, 1045, 2064, 2102, 2514, 2026, 2519, 29300, 100, 102, 0, 0, 0, 0, 0, 0, 0, 0, 0, 0, 0, 0, 0, 0, 0, 0, 0, 0, 0, 0, 0, 0, 0, 0, 0, 0, 0, 0, 0, 0, 0, 0, 0, 0, 0, 0, 0, 0, 0, 0, 0, 0, 0, 0, 0, 0, 0, 0, 0, 0, 0, 0, 0, 0, 0, 0, 0, 0, 0, 0, 0, 0, 0, 0, 0, 0, 0, 0, 0, 0, 0, 0, 0, 0, 0, 0, 0, 0, 0, 0, 0, 0, 0, 0, 0, 0, 0, 0, 0, 0, 0, 0, 0, 0, 0, 0, 0, 0, 0, 0, 0, 0, 0, 0, 0, 0, 0, 0, 0, 0, 0, 0, 0, 0, 0, 0, 0, 0, 0, 0, 0, 0, 0, 0, 0, 0, 0, 0]\n",
            "------------------------------\n",
            "Input Masks :  [1, 1, 1, 1, 1, 1, 1, 1, 1, 1, 1, 1, 1, 1, 1, 1, 0, 0, 0, 0, 0, 0, 0, 0, 0, 0, 0, 0, 0, 0, 0, 0, 0, 0, 0, 0, 0, 0, 0, 0, 0, 0, 0, 0, 0, 0, 0, 0, 0, 0, 0, 0, 0, 0, 0, 0, 0, 0, 0, 0, 0, 0, 0, 0, 0, 0, 0, 0, 0, 0, 0, 0, 0, 0, 0, 0, 0, 0, 0, 0, 0, 0, 0, 0, 0, 0, 0, 0, 0, 0, 0, 0, 0, 0, 0, 0, 0, 0, 0, 0, 0, 0, 0, 0, 0, 0, 0, 0, 0, 0, 0, 0, 0, 0, 0, 0, 0, 0, 0, 0, 0, 0, 0, 0, 0, 0, 0, 0, 0, 0, 0, 0, 0, 0, 0, 0, 0, 0, 0, 0, 0, 0, 0, 0]\n",
            "------------------------------\n",
            "Segment IDs :  [0, 0, 0, 0, 0, 0, 0, 0, 0, 0, 0, 0, 0, 0, 0, 0, 0, 0, 0, 0, 0, 0, 0, 0, 0, 0, 0, 0, 0, 0, 0, 0, 0, 0, 0, 0, 0, 0, 0, 0, 0, 0, 0, 0, 0, 0, 0, 0, 0, 0, 0, 0, 0, 0, 0, 0, 0, 0, 0, 0, 0, 0, 0, 0, 0, 0, 0, 0, 0, 0, 0, 0, 0, 0, 0, 0, 0, 0, 0, 0, 0, 0, 0, 0, 0, 0, 0, 0, 0, 0, 0, 0, 0, 0, 0, 0, 0, 0, 0, 0, 0, 0, 0, 0, 0, 0, 0, 0, 0, 0, 0, 0, 0, 0, 0, 0, 0, 0, 0, 0, 0, 0, 0, 0, 0, 0, 0, 0, 0, 0, 0, 0, 0, 0, 0, 0, 0, 0, 0, 0, 0, 0, 0, 0]\n"
          ],
          "name": "stdout"
        }
      ]
    },
    {
      "cell_type": "code",
      "metadata": {
        "id": "1ZQzB7ALWwkX",
        "colab_type": "code",
        "colab": {}
      },
      "source": [
        "def create_model(is_predicting, input_ids, input_mask, segment_ids, labels):\n",
        "  \n",
        "  bert_module = hub.Module(\n",
        "      BERT_MODEL_HUB,\n",
        "      trainable=True)\n",
        "  bert_inputs = dict(\n",
        "      input_ids=input_ids,\n",
        "      input_mask=input_mask,\n",
        "      segment_ids=segment_ids)\n",
        "  bert_outputs = bert_module(\n",
        "      inputs=bert_inputs,\n",
        "      signature=\"tokens\",\n",
        "      as_dict=True)\n",
        "\n",
        "  # Use \"pooled_output\" for classification tasks on an entire sentence.\n",
        "  # Use \"sequence_outputs\" for token-level output.\n",
        "  output_layer = bert_outputs[\"pooled_output\"]\n",
        "\n",
        "  hidden_size = output_layer.shape[-1].value\n",
        "\n",
        "  # Create our own layer to tune for politeness data.\n",
        "  output_weights = tf.get_variable(\n",
        "      \"output_weights\", [1, hidden_size], # <-------------- output one value\n",
        "      initializer=tf.truncated_normal_initializer(stddev=0.02))\n",
        "\n",
        "  output_bias = tf.get_variable(\n",
        "      \"output_bias\", [1], initializer=tf.zeros_initializer())\n",
        "\n",
        "  with tf.variable_scope(\"loss\"):\n",
        "\n",
        "    # Dropout helps prevent overfitting\n",
        "    output_layer = tf.nn.dropout(output_layer, keep_prob=0.9)\n",
        "\n",
        "    logits = tf.matmul(output_layer, output_weights, transpose_b=True)\n",
        "\n",
        "    # regression, MSE <-----------------------------------------------\n",
        "    predicted_labels = tf.nn.bias_add(logits, output_bias)\n",
        "\n",
        "    # If we're predicting, we want predicted labels\n",
        "    if is_predicting:\n",
        "      return predicted_labels\n",
        "\n",
        "    # If we're train/eval, compute loss between predicted and actual label\n",
        "    per_example_loss = tf.square(predicted_labels - tf.cast(labels, dtype=tf.float32))\n",
        "    loss = tf.reduce_mean(per_example_loss)\n",
        "    return (loss, predicted_labels)"
      ],
      "execution_count": 0,
      "outputs": []
    },
    {
      "cell_type": "code",
      "metadata": {
        "id": "kBnAhvDcWwka",
        "colab_type": "code",
        "colab": {}
      },
      "source": [
        "#A function that adapts our model to work for training, evaluation, and prediction.\n",
        "\n",
        "# model_fn_builder actually creates our model function\n",
        "# using the passed parameters for learning_rate, etc.\n",
        "def model_fn_builder(learning_rate, num_train_steps,\n",
        "                     num_warmup_steps):\n",
        "  \"\"\"Returns `model_fn` closure for TPUEstimator.\"\"\"\n",
        "  def model_fn(features, labels, mode, params):  # pylint: disable=unused-argument\n",
        "    \"\"\"The `model_fn` for TPUEstimator.\"\"\"\n",
        "\n",
        "    input_ids = features[\"input_ids\"]\n",
        "    input_mask = features[\"input_mask\"]\n",
        "    segment_ids = features[\"segment_ids\"]\n",
        "    label_ids = features[\"label_ids\"]\n",
        "\n",
        "    is_predicting = (mode == tf.estimator.ModeKeys.PREDICT)\n",
        "    \n",
        "    # TRAIN and EVAL\n",
        "    if not is_predicting:\n",
        "\n",
        "      (loss, predicted_labels) = create_model(\n",
        "        is_predicting, input_ids, input_mask, segment_ids, label_ids)\n",
        "\n",
        "      train_op = bert.optimization.create_optimizer(\n",
        "          loss, learning_rate, num_train_steps, num_warmup_steps, use_tpu=False)\n",
        "\n",
        "      # Calculate evaluation metrics. \n",
        "      def metric_fn(label_ids, predicted_labels):\n",
        "        accuracy = tf.metrics.accuracy(label_ids, predicted_labels)\n",
        "        true_pos = tf.metrics.true_positives(\n",
        "            label_ids,\n",
        "            predicted_labels)\n",
        "        true_neg = tf.metrics.true_negatives(\n",
        "            label_ids,\n",
        "            predicted_labels)   \n",
        "        false_pos = tf.metrics.false_positives(\n",
        "            label_ids,\n",
        "            predicted_labels)  \n",
        "        false_neg = tf.metrics.false_negatives(\n",
        "            label_ids,\n",
        "            predicted_labels)\n",
        "        \n",
        "        return {\n",
        "            \"eval_accuracy\": accuracy,\n",
        "            \"true_positives\": true_pos,\n",
        "            \"true_negatives\": true_neg,\n",
        "            \"false_positives\": false_pos,\n",
        "            \"false_negatives\": false_neg\n",
        "            }\n",
        "\n",
        "      eval_metrics = metric_fn(label_ids, predicted_labels)\n",
        "\n",
        "      if mode == tf.estimator.ModeKeys.TRAIN:\n",
        "        return tf.estimator.EstimatorSpec(mode=mode,\n",
        "          loss=loss,\n",
        "          train_op=train_op)\n",
        "      else:\n",
        "          return tf.estimator.EstimatorSpec(mode=mode,\n",
        "            loss=loss,\n",
        "            eval_metric_ops=eval_metrics)\n",
        "    else:\n",
        "      predicted_labels = create_model(\n",
        "        is_predicting, input_ids, input_mask, segment_ids, label_ids)\n",
        "\n",
        "      predictions = {\n",
        "          'labels': predicted_labels\n",
        "      }\n",
        "      return tf.estimator.EstimatorSpec(mode, predictions=predictions)\n",
        "\n",
        "  # Return the actual model function in the closure\n",
        "  return model_fn"
      ],
      "execution_count": 0,
      "outputs": []
    },
    {
      "cell_type": "code",
      "metadata": {
        "id": "gbic8Z3mWwkc",
        "colab_type": "code",
        "colab": {}
      },
      "source": [
        "# Compute train and warmup steps from batch size\n",
        "# These hyperparameters are copied from this colab notebook (https://colab.sandbox.google.com/github/tensorflow/tpu/blob/master/tools/colab/bert_finetuning_with_cloud_tpus.ipynb)\n",
        "BATCH_SIZE = 32\n",
        "LEARNING_RATE = 1e-4\n",
        "NUM_TRAIN_EPOCHS = 20\n",
        "# Warmup is a period of time where the learning rate is small and gradually increases--usually helps training.\n",
        "WARMUP_PROPORTION = 0.1\n",
        "# Model configs\n",
        "SAVE_CHECKPOINTS_STEPS = 30\n",
        "SAVE_SUMMARY_STEPS = 10\n",
        "\n",
        "# Compute train and warmup steps from batch size\n",
        "num_train_steps = int(len(train_features) / BATCH_SIZE * NUM_TRAIN_EPOCHS)\n",
        "num_warmup_steps = int(num_train_steps * WARMUP_PROPORTION)\n",
        "\n",
        "# Specify output directory and number of checkpoint steps to save\n",
        "run_config = tf.estimator.RunConfig(\n",
        "    model_dir=OUTPUT_DIR,\n",
        "    save_summary_steps=SAVE_SUMMARY_STEPS,\n",
        "    save_checkpoints_steps=SAVE_CHECKPOINTS_STEPS)\n",
        "\n",
        "# Specify output directory and number of checkpoint steps to save\n",
        "run_config = tf.estimator.RunConfig(\n",
        "    model_dir=OUTPUT_DIR,\n",
        "    save_summary_steps=SAVE_SUMMARY_STEPS,\n",
        "    save_checkpoints_steps=SAVE_CHECKPOINTS_STEPS)"
      ],
      "execution_count": 0,
      "outputs": []
    },
    {
      "cell_type": "code",
      "metadata": {
        "id": "aY1SpoWtWwke",
        "colab_type": "code",
        "outputId": "2257d818-b632-4839-d58d-aea8700b3554",
        "colab": {
          "base_uri": "https://localhost:8080/",
          "height": 275
        }
      },
      "source": [
        "#Initializing the model and the estimator\n",
        "model_fn = model_fn_builder(\n",
        "  learning_rate=LEARNING_RATE,\n",
        "  num_train_steps=num_train_steps,\n",
        "  num_warmup_steps=num_warmup_steps)\n",
        "\n",
        "estimator = tf.estimator.Estimator(\n",
        "  model_fn=model_fn,\n",
        "  config=run_config,\n",
        "  params={\"batch_size\": BATCH_SIZE})"
      ],
      "execution_count": 56,
      "outputs": [
        {
          "output_type": "stream",
          "text": [
            "INFO:tensorflow:Using config: {'_model_dir': 'model', '_tf_random_seed': None, '_save_summary_steps': 10, '_save_checkpoints_steps': 30, '_save_checkpoints_secs': None, '_session_config': allow_soft_placement: true\n",
            "graph_options {\n",
            "  rewrite_options {\n",
            "    meta_optimizer_iterations: ONE\n",
            "  }\n",
            "}\n",
            ", '_keep_checkpoint_max': 5, '_keep_checkpoint_every_n_hours': 10000, '_log_step_count_steps': 100, '_train_distribute': None, '_device_fn': None, '_protocol': None, '_eval_distribute': None, '_experimental_distribute': None, '_experimental_max_worker_delay_secs': None, '_session_creation_timeout_secs': 7200, '_service': None, '_cluster_spec': <tensorflow.python.training.server_lib.ClusterSpec object at 0x7efbe0a1a400>, '_task_type': 'worker', '_task_id': 0, '_global_id_in_cluster': 0, '_master': '', '_evaluation_master': '', '_is_chief': True, '_num_ps_replicas': 0, '_num_worker_replicas': 1}\n"
          ],
          "name": "stdout"
        },
        {
          "output_type": "stream",
          "text": [
            "INFO:tensorflow:Using config: {'_model_dir': 'model', '_tf_random_seed': None, '_save_summary_steps': 10, '_save_checkpoints_steps': 30, '_save_checkpoints_secs': None, '_session_config': allow_soft_placement: true\n",
            "graph_options {\n",
            "  rewrite_options {\n",
            "    meta_optimizer_iterations: ONE\n",
            "  }\n",
            "}\n",
            ", '_keep_checkpoint_max': 5, '_keep_checkpoint_every_n_hours': 10000, '_log_step_count_steps': 100, '_train_distribute': None, '_device_fn': None, '_protocol': None, '_eval_distribute': None, '_experimental_distribute': None, '_experimental_max_worker_delay_secs': None, '_session_creation_timeout_secs': 7200, '_service': None, '_cluster_spec': <tensorflow.python.training.server_lib.ClusterSpec object at 0x7efbe0a1a400>, '_task_type': 'worker', '_task_id': 0, '_global_id_in_cluster': 0, '_master': '', '_evaluation_master': '', '_is_chief': True, '_num_ps_replicas': 0, '_num_worker_replicas': 1}\n"
          ],
          "name": "stderr"
        }
      ]
    },
    {
      "cell_type": "code",
      "metadata": {
        "id": "w_n6J6UxWwkg",
        "colab_type": "code",
        "colab": {}
      },
      "source": [
        "# Create an input function for training. drop_remainder = True for using TPUs.\n",
        "train_input_fn = bert.run_classifier.input_fn_builder(\n",
        "    features=train_features,\n",
        "    seq_length=MAX_SEQ_LENGTH,\n",
        "    is_training=True,\n",
        "    drop_remainder=False)\n",
        "\n",
        "# Create an input function for validating. drop_remainder = True for using TPUs.\n",
        "val_input_fn = run_classifier.input_fn_builder(\n",
        "    features=val_features,\n",
        "    seq_length=MAX_SEQ_LENGTH,\n",
        "    is_training=False,\n",
        "    drop_remainder=False)"
      ],
      "execution_count": 0,
      "outputs": []
    },
    {
      "cell_type": "code",
      "metadata": {
        "id": "UoxCBm1WWwki",
        "colab_type": "code",
        "outputId": "084025e4-7483-4a7e-d9d1-3392bab51ec4",
        "colab": {
          "base_uri": "https://localhost:8080/",
          "height": 887
        }
      },
      "source": [
        "#Training the model\n",
        "print(f'Beginning Training!')\n",
        "current_time = datetime.now()\n",
        "estimator.train(input_fn=train_input_fn, max_steps=num_train_steps)\n",
        "print(\"Training took time \", datetime.now() - current_time)"
      ],
      "execution_count": 58,
      "outputs": [
        {
          "output_type": "stream",
          "text": [
            "Beginning Training!\n",
            "WARNING:tensorflow:From /usr/local/lib/python3.6/dist-packages/tensorflow_core/python/training/training_util.py:236: Variable.initialized_value (from tensorflow.python.ops.variables) is deprecated and will be removed in a future version.\n",
            "Instructions for updating:\n",
            "Use Variable.read_value. Variables in 2.X are initialized automatically both in eager and graph (inside tf.defun) contexts.\n"
          ],
          "name": "stdout"
        },
        {
          "output_type": "stream",
          "text": [
            "WARNING:tensorflow:From /usr/local/lib/python3.6/dist-packages/tensorflow_core/python/training/training_util.py:236: Variable.initialized_value (from tensorflow.python.ops.variables) is deprecated and will be removed in a future version.\n",
            "Instructions for updating:\n",
            "Use Variable.read_value. Variables in 2.X are initialized automatically both in eager and graph (inside tf.defun) contexts.\n"
          ],
          "name": "stderr"
        },
        {
          "output_type": "stream",
          "text": [
            "INFO:tensorflow:Calling model_fn.\n"
          ],
          "name": "stdout"
        },
        {
          "output_type": "stream",
          "text": [
            "INFO:tensorflow:Calling model_fn.\n"
          ],
          "name": "stderr"
        },
        {
          "output_type": "stream",
          "text": [
            "INFO:tensorflow:Saver not created because there are no variables in the graph to restore\n"
          ],
          "name": "stdout"
        },
        {
          "output_type": "stream",
          "text": [
            "INFO:tensorflow:Saver not created because there are no variables in the graph to restore\n",
            "/usr/local/lib/python3.6/dist-packages/tensorflow_core/python/framework/indexed_slices.py:424: UserWarning: Converting sparse IndexedSlices to a dense Tensor of unknown shape. This may consume a large amount of memory.\n",
            "  \"Converting sparse IndexedSlices to a dense Tensor of unknown shape. \"\n"
          ],
          "name": "stderr"
        },
        {
          "output_type": "stream",
          "text": [
            "INFO:tensorflow:Done calling model_fn.\n"
          ],
          "name": "stdout"
        },
        {
          "output_type": "stream",
          "text": [
            "INFO:tensorflow:Done calling model_fn.\n"
          ],
          "name": "stderr"
        },
        {
          "output_type": "stream",
          "text": [
            "INFO:tensorflow:Create CheckpointSaverHook.\n"
          ],
          "name": "stdout"
        },
        {
          "output_type": "stream",
          "text": [
            "INFO:tensorflow:Create CheckpointSaverHook.\n"
          ],
          "name": "stderr"
        },
        {
          "output_type": "stream",
          "text": [
            "INFO:tensorflow:Graph was finalized.\n"
          ],
          "name": "stdout"
        },
        {
          "output_type": "stream",
          "text": [
            "INFO:tensorflow:Graph was finalized.\n"
          ],
          "name": "stderr"
        },
        {
          "output_type": "stream",
          "text": [
            "INFO:tensorflow:Restoring parameters from model/model.ckpt-90\n"
          ],
          "name": "stdout"
        },
        {
          "output_type": "stream",
          "text": [
            "INFO:tensorflow:Restoring parameters from model/model.ckpt-90\n"
          ],
          "name": "stderr"
        },
        {
          "output_type": "stream",
          "text": [
            "WARNING:tensorflow:From /usr/local/lib/python3.6/dist-packages/tensorflow_core/python/training/saver.py:1069: get_checkpoint_mtimes (from tensorflow.python.training.checkpoint_management) is deprecated and will be removed in a future version.\n",
            "Instructions for updating:\n",
            "Use standard file utilities to get mtimes.\n"
          ],
          "name": "stdout"
        },
        {
          "output_type": "stream",
          "text": [
            "WARNING:tensorflow:From /usr/local/lib/python3.6/dist-packages/tensorflow_core/python/training/saver.py:1069: get_checkpoint_mtimes (from tensorflow.python.training.checkpoint_management) is deprecated and will be removed in a future version.\n",
            "Instructions for updating:\n",
            "Use standard file utilities to get mtimes.\n"
          ],
          "name": "stderr"
        },
        {
          "output_type": "stream",
          "text": [
            "INFO:tensorflow:Running local_init_op.\n"
          ],
          "name": "stdout"
        },
        {
          "output_type": "stream",
          "text": [
            "INFO:tensorflow:Running local_init_op.\n"
          ],
          "name": "stderr"
        },
        {
          "output_type": "stream",
          "text": [
            "INFO:tensorflow:Done running local_init_op.\n"
          ],
          "name": "stdout"
        },
        {
          "output_type": "stream",
          "text": [
            "INFO:tensorflow:Done running local_init_op.\n"
          ],
          "name": "stderr"
        },
        {
          "output_type": "stream",
          "text": [
            "INFO:tensorflow:Saving checkpoints for 90 into model/model.ckpt.\n"
          ],
          "name": "stdout"
        },
        {
          "output_type": "stream",
          "text": [
            "INFO:tensorflow:Saving checkpoints for 90 into model/model.ckpt.\n"
          ],
          "name": "stderr"
        },
        {
          "output_type": "stream",
          "text": [
            "INFO:tensorflow:loss = 0.34564465, step = 91\n"
          ],
          "name": "stdout"
        },
        {
          "output_type": "stream",
          "text": [
            "INFO:tensorflow:loss = 0.34564465, step = 91\n"
          ],
          "name": "stderr"
        },
        {
          "output_type": "stream",
          "text": [
            "INFO:tensorflow:Saving checkpoints for 120 into model/model.ckpt.\n"
          ],
          "name": "stdout"
        },
        {
          "output_type": "stream",
          "text": [
            "INFO:tensorflow:Saving checkpoints for 120 into model/model.ckpt.\n"
          ],
          "name": "stderr"
        },
        {
          "output_type": "stream",
          "text": [
            "INFO:tensorflow:Saving checkpoints for 150 into model/model.ckpt.\n"
          ],
          "name": "stdout"
        },
        {
          "output_type": "stream",
          "text": [
            "INFO:tensorflow:Saving checkpoints for 150 into model/model.ckpt.\n"
          ],
          "name": "stderr"
        },
        {
          "output_type": "stream",
          "text": [
            "WARNING:tensorflow:From /usr/local/lib/python3.6/dist-packages/tensorflow_core/python/training/saver.py:963: remove_checkpoint (from tensorflow.python.training.checkpoint_management) is deprecated and will be removed in a future version.\n",
            "Instructions for updating:\n",
            "Use standard file APIs to delete files with this prefix.\n"
          ],
          "name": "stdout"
        },
        {
          "output_type": "stream",
          "text": [
            "WARNING:tensorflow:From /usr/local/lib/python3.6/dist-packages/tensorflow_core/python/training/saver.py:963: remove_checkpoint (from tensorflow.python.training.checkpoint_management) is deprecated and will be removed in a future version.\n",
            "Instructions for updating:\n",
            "Use standard file APIs to delete files with this prefix.\n"
          ],
          "name": "stderr"
        },
        {
          "output_type": "stream",
          "text": [
            "INFO:tensorflow:Saving checkpoints for 160 into model/model.ckpt.\n"
          ],
          "name": "stdout"
        },
        {
          "output_type": "stream",
          "text": [
            "INFO:tensorflow:Saving checkpoints for 160 into model/model.ckpt.\n"
          ],
          "name": "stderr"
        },
        {
          "output_type": "stream",
          "text": [
            "INFO:tensorflow:Loss for final step: 0.27974555.\n"
          ],
          "name": "stdout"
        },
        {
          "output_type": "stream",
          "text": [
            "INFO:tensorflow:Loss for final step: 0.27974555.\n"
          ],
          "name": "stderr"
        },
        {
          "output_type": "stream",
          "text": [
            "Training took time  0:56:01.520849\n"
          ],
          "name": "stdout"
        }
      ]
    },
    {
      "cell_type": "code",
      "metadata": {
        "id": "RYOB5VeQWwkm",
        "colab_type": "code",
        "colab": {
          "base_uri": "https://localhost:8080/",
          "height": 564
        },
        "outputId": "0cdbd563-b015-4917-8c4d-32e51db6b7db"
      },
      "source": [
        "#Evaluating the model with Validation set\n",
        "estimator.evaluate(input_fn=val_input_fn, steps=None)"
      ],
      "execution_count": 59,
      "outputs": [
        {
          "output_type": "stream",
          "text": [
            "INFO:tensorflow:Calling model_fn.\n"
          ],
          "name": "stdout"
        },
        {
          "output_type": "stream",
          "text": [
            "INFO:tensorflow:Calling model_fn.\n"
          ],
          "name": "stderr"
        },
        {
          "output_type": "stream",
          "text": [
            "INFO:tensorflow:Saver not created because there are no variables in the graph to restore\n"
          ],
          "name": "stdout"
        },
        {
          "output_type": "stream",
          "text": [
            "INFO:tensorflow:Saver not created because there are no variables in the graph to restore\n",
            "/usr/local/lib/python3.6/dist-packages/tensorflow_core/python/framework/indexed_slices.py:424: UserWarning: Converting sparse IndexedSlices to a dense Tensor of unknown shape. This may consume a large amount of memory.\n",
            "  \"Converting sparse IndexedSlices to a dense Tensor of unknown shape. \"\n"
          ],
          "name": "stderr"
        },
        {
          "output_type": "stream",
          "text": [
            "INFO:tensorflow:Done calling model_fn.\n"
          ],
          "name": "stdout"
        },
        {
          "output_type": "stream",
          "text": [
            "INFO:tensorflow:Done calling model_fn.\n"
          ],
          "name": "stderr"
        },
        {
          "output_type": "stream",
          "text": [
            "INFO:tensorflow:Starting evaluation at 2020-03-15T16:45:15Z\n"
          ],
          "name": "stdout"
        },
        {
          "output_type": "stream",
          "text": [
            "INFO:tensorflow:Starting evaluation at 2020-03-15T16:45:15Z\n"
          ],
          "name": "stderr"
        },
        {
          "output_type": "stream",
          "text": [
            "INFO:tensorflow:Graph was finalized.\n"
          ],
          "name": "stdout"
        },
        {
          "output_type": "stream",
          "text": [
            "INFO:tensorflow:Graph was finalized.\n"
          ],
          "name": "stderr"
        },
        {
          "output_type": "stream",
          "text": [
            "INFO:tensorflow:Restoring parameters from model/model.ckpt-160\n"
          ],
          "name": "stdout"
        },
        {
          "output_type": "stream",
          "text": [
            "INFO:tensorflow:Restoring parameters from model/model.ckpt-160\n"
          ],
          "name": "stderr"
        },
        {
          "output_type": "stream",
          "text": [
            "INFO:tensorflow:Running local_init_op.\n"
          ],
          "name": "stdout"
        },
        {
          "output_type": "stream",
          "text": [
            "INFO:tensorflow:Running local_init_op.\n"
          ],
          "name": "stderr"
        },
        {
          "output_type": "stream",
          "text": [
            "INFO:tensorflow:Done running local_init_op.\n"
          ],
          "name": "stdout"
        },
        {
          "output_type": "stream",
          "text": [
            "INFO:tensorflow:Done running local_init_op.\n"
          ],
          "name": "stderr"
        },
        {
          "output_type": "stream",
          "text": [
            "INFO:tensorflow:Finished evaluation at 2020-03-15-16:45:52\n"
          ],
          "name": "stdout"
        },
        {
          "output_type": "stream",
          "text": [
            "INFO:tensorflow:Finished evaluation at 2020-03-15-16:45:52\n"
          ],
          "name": "stderr"
        },
        {
          "output_type": "stream",
          "text": [
            "INFO:tensorflow:Saving dict for global step 160: eval_accuracy = 0.40625, false_negatives = 0.0, false_positives = 7.0, global_step = 160, loss = 0.25261706, true_negatives = 0.0, true_positives = 57.0\n"
          ],
          "name": "stdout"
        },
        {
          "output_type": "stream",
          "text": [
            "INFO:tensorflow:Saving dict for global step 160: eval_accuracy = 0.40625, false_negatives = 0.0, false_positives = 7.0, global_step = 160, loss = 0.25261706, true_negatives = 0.0, true_positives = 57.0\n"
          ],
          "name": "stderr"
        },
        {
          "output_type": "stream",
          "text": [
            "INFO:tensorflow:Saving 'checkpoint_path' summary for global step 160: model/model.ckpt-160\n"
          ],
          "name": "stdout"
        },
        {
          "output_type": "stream",
          "text": [
            "INFO:tensorflow:Saving 'checkpoint_path' summary for global step 160: model/model.ckpt-160\n"
          ],
          "name": "stderr"
        },
        {
          "output_type": "execute_result",
          "data": {
            "text/plain": [
              "{'eval_accuracy': 0.40625,\n",
              " 'false_negatives': 0.0,\n",
              " 'false_positives': 7.0,\n",
              " 'global_step': 160,\n",
              " 'loss': 0.25261706,\n",
              " 'true_negatives': 0.0,\n",
              " 'true_positives': 57.0}"
            ]
          },
          "metadata": {
            "tags": []
          },
          "execution_count": 59
        }
      ]
    },
    {
      "cell_type": "code",
      "metadata": {
        "id": "22iOGqyUWwkp",
        "colab_type": "code",
        "colab": {}
      },
      "source": [
        "# A method to get predictions\n",
        "def getPrediction(in_sentences):\n",
        "  # Transforming the test data into BERT accepted form\n",
        "  input_examples = [run_classifier.InputExample(guid=\"\", text_a = x, text_b = None, label = 0) for x in in_sentences] \n",
        "  \n",
        "  # Creating input features for Test data\n",
        "  input_features = run_classifier.convert_examples_to_features(input_examples, label_list, MAX_SEQ_LENGTH, tokenizer)\n",
        "\n",
        "  # Predicting the classes \n",
        "  predict_input_fn = run_classifier.input_fn_builder(features=input_features, seq_length=MAX_SEQ_LENGTH, is_training=False, drop_remainder=False)\n",
        "  predictions = estimator.predict(predict_input_fn)\n",
        "  return [(sentence, prediction['labels']) for sentence, prediction in zip(in_sentences, predictions)]"
      ],
      "execution_count": 0,
      "outputs": []
    },
    {
      "cell_type": "code",
      "metadata": {
        "id": "X5e2SBYUWwkr",
        "colab_type": "code",
        "colab": {
          "base_uri": "https://localhost:8080/",
          "height": 1000
        },
        "outputId": "0640d331-e465-44e1-f890-eae5f609a6db"
      },
      "source": [
        "pred_sentences = list(test['Contents'])\n",
        "predictions = getPrediction(pred_sentences)\n",
        "predictions[0]"
      ],
      "execution_count": 61,
      "outputs": [
        {
          "output_type": "stream",
          "text": [
            "INFO:tensorflow:Writing example 0 of 80\n"
          ],
          "name": "stdout"
        },
        {
          "output_type": "stream",
          "text": [
            "INFO:tensorflow:Writing example 0 of 80\n"
          ],
          "name": "stderr"
        },
        {
          "output_type": "stream",
          "text": [
            "INFO:tensorflow:*** Example ***\n"
          ],
          "name": "stdout"
        },
        {
          "output_type": "stream",
          "text": [
            "INFO:tensorflow:*** Example ***\n"
          ],
          "name": "stderr"
        },
        {
          "output_type": "stream",
          "text": [
            "INFO:tensorflow:guid: \n"
          ],
          "name": "stdout"
        },
        {
          "output_type": "stream",
          "text": [
            "INFO:tensorflow:guid: \n"
          ],
          "name": "stderr"
        },
        {
          "output_type": "stream",
          "text": [
            "INFO:tensorflow:tokens: [CLS] @ va ##pins ##qui ##rre ##l @ j ##sum ##mers ##7 ##1 # va ##pe # va ##ping ##sa ##ves ##li ##ves # va ##pe ##fa ##m well put ivan ##na [UNK] [SEP]\n"
          ],
          "name": "stdout"
        },
        {
          "output_type": "stream",
          "text": [
            "INFO:tensorflow:tokens: [CLS] @ va ##pins ##qui ##rre ##l @ j ##sum ##mers ##7 ##1 # va ##pe # va ##ping ##sa ##ves ##li ##ves # va ##pe ##fa ##m well put ivan ##na [UNK] [SEP]\n"
          ],
          "name": "stderr"
        },
        {
          "output_type": "stream",
          "text": [
            "INFO:tensorflow:input_ids: 101 1030 12436 27915 15549 14343 2140 1030 1046 17421 16862 2581 2487 1001 12436 5051 1001 12436 4691 3736 6961 3669 6961 1001 12436 5051 7011 2213 2092 2404 7332 2532 100 102 0 0 0 0 0 0 0 0 0 0 0 0 0 0 0 0 0 0 0 0 0 0 0 0 0 0 0 0 0 0 0 0 0 0 0 0 0 0 0 0 0 0 0 0 0 0 0 0 0 0 0 0 0 0 0 0 0 0 0 0 0 0 0 0 0 0 0 0 0 0 0 0 0 0 0 0 0 0 0 0 0 0 0 0 0 0 0 0 0 0 0 0 0 0 0 0 0 0 0 0 0 0 0 0 0 0 0 0 0 0\n"
          ],
          "name": "stdout"
        },
        {
          "output_type": "stream",
          "text": [
            "INFO:tensorflow:input_ids: 101 1030 12436 27915 15549 14343 2140 1030 1046 17421 16862 2581 2487 1001 12436 5051 1001 12436 4691 3736 6961 3669 6961 1001 12436 5051 7011 2213 2092 2404 7332 2532 100 102 0 0 0 0 0 0 0 0 0 0 0 0 0 0 0 0 0 0 0 0 0 0 0 0 0 0 0 0 0 0 0 0 0 0 0 0 0 0 0 0 0 0 0 0 0 0 0 0 0 0 0 0 0 0 0 0 0 0 0 0 0 0 0 0 0 0 0 0 0 0 0 0 0 0 0 0 0 0 0 0 0 0 0 0 0 0 0 0 0 0 0 0 0 0 0 0 0 0 0 0 0 0 0 0 0 0 0 0 0 0\n"
          ],
          "name": "stderr"
        },
        {
          "output_type": "stream",
          "text": [
            "INFO:tensorflow:input_mask: 1 1 1 1 1 1 1 1 1 1 1 1 1 1 1 1 1 1 1 1 1 1 1 1 1 1 1 1 1 1 1 1 1 1 0 0 0 0 0 0 0 0 0 0 0 0 0 0 0 0 0 0 0 0 0 0 0 0 0 0 0 0 0 0 0 0 0 0 0 0 0 0 0 0 0 0 0 0 0 0 0 0 0 0 0 0 0 0 0 0 0 0 0 0 0 0 0 0 0 0 0 0 0 0 0 0 0 0 0 0 0 0 0 0 0 0 0 0 0 0 0 0 0 0 0 0 0 0 0 0 0 0 0 0 0 0 0 0 0 0 0 0 0 0\n"
          ],
          "name": "stdout"
        },
        {
          "output_type": "stream",
          "text": [
            "INFO:tensorflow:input_mask: 1 1 1 1 1 1 1 1 1 1 1 1 1 1 1 1 1 1 1 1 1 1 1 1 1 1 1 1 1 1 1 1 1 1 0 0 0 0 0 0 0 0 0 0 0 0 0 0 0 0 0 0 0 0 0 0 0 0 0 0 0 0 0 0 0 0 0 0 0 0 0 0 0 0 0 0 0 0 0 0 0 0 0 0 0 0 0 0 0 0 0 0 0 0 0 0 0 0 0 0 0 0 0 0 0 0 0 0 0 0 0 0 0 0 0 0 0 0 0 0 0 0 0 0 0 0 0 0 0 0 0 0 0 0 0 0 0 0 0 0 0 0 0 0\n"
          ],
          "name": "stderr"
        },
        {
          "output_type": "stream",
          "text": [
            "INFO:tensorflow:segment_ids: 0 0 0 0 0 0 0 0 0 0 0 0 0 0 0 0 0 0 0 0 0 0 0 0 0 0 0 0 0 0 0 0 0 0 0 0 0 0 0 0 0 0 0 0 0 0 0 0 0 0 0 0 0 0 0 0 0 0 0 0 0 0 0 0 0 0 0 0 0 0 0 0 0 0 0 0 0 0 0 0 0 0 0 0 0 0 0 0 0 0 0 0 0 0 0 0 0 0 0 0 0 0 0 0 0 0 0 0 0 0 0 0 0 0 0 0 0 0 0 0 0 0 0 0 0 0 0 0 0 0 0 0 0 0 0 0 0 0 0 0 0 0 0 0\n"
          ],
          "name": "stdout"
        },
        {
          "output_type": "stream",
          "text": [
            "INFO:tensorflow:segment_ids: 0 0 0 0 0 0 0 0 0 0 0 0 0 0 0 0 0 0 0 0 0 0 0 0 0 0 0 0 0 0 0 0 0 0 0 0 0 0 0 0 0 0 0 0 0 0 0 0 0 0 0 0 0 0 0 0 0 0 0 0 0 0 0 0 0 0 0 0 0 0 0 0 0 0 0 0 0 0 0 0 0 0 0 0 0 0 0 0 0 0 0 0 0 0 0 0 0 0 0 0 0 0 0 0 0 0 0 0 0 0 0 0 0 0 0 0 0 0 0 0 0 0 0 0 0 0 0 0 0 0 0 0 0 0 0 0 0 0 0 0 0 0 0 0\n"
          ],
          "name": "stderr"
        },
        {
          "output_type": "stream",
          "text": [
            "INFO:tensorflow:label: 0 (id = 1)\n"
          ],
          "name": "stdout"
        },
        {
          "output_type": "stream",
          "text": [
            "INFO:tensorflow:label: 0 (id = 1)\n"
          ],
          "name": "stderr"
        },
        {
          "output_type": "stream",
          "text": [
            "INFO:tensorflow:*** Example ***\n"
          ],
          "name": "stdout"
        },
        {
          "output_type": "stream",
          "text": [
            "INFO:tensorflow:*** Example ***\n"
          ],
          "name": "stderr"
        },
        {
          "output_type": "stream",
          "text": [
            "INFO:tensorflow:guid: \n"
          ],
          "name": "stdout"
        },
        {
          "output_type": "stream",
          "text": [
            "INFO:tensorflow:guid: \n"
          ],
          "name": "stderr"
        },
        {
          "output_type": "stream",
          "text": [
            "INFO:tensorflow:tokens: [CLS] @ bret ##wei ##nstein you mean va ##ping round ##up is bad for me ? thanks california ! [SEP]\n"
          ],
          "name": "stdout"
        },
        {
          "output_type": "stream",
          "text": [
            "INFO:tensorflow:tokens: [CLS] @ bret ##wei ##nstein you mean va ##ping round ##up is bad for me ? thanks california ! [SEP]\n"
          ],
          "name": "stderr"
        },
        {
          "output_type": "stream",
          "text": [
            "INFO:tensorflow:input_ids: 101 1030 25626 19845 15493 2017 2812 12436 4691 2461 6279 2003 2919 2005 2033 1029 4283 2662 999 102 0 0 0 0 0 0 0 0 0 0 0 0 0 0 0 0 0 0 0 0 0 0 0 0 0 0 0 0 0 0 0 0 0 0 0 0 0 0 0 0 0 0 0 0 0 0 0 0 0 0 0 0 0 0 0 0 0 0 0 0 0 0 0 0 0 0 0 0 0 0 0 0 0 0 0 0 0 0 0 0 0 0 0 0 0 0 0 0 0 0 0 0 0 0 0 0 0 0 0 0 0 0 0 0 0 0 0 0 0 0 0 0 0 0 0 0 0 0 0 0 0 0 0 0\n"
          ],
          "name": "stdout"
        },
        {
          "output_type": "stream",
          "text": [
            "INFO:tensorflow:input_ids: 101 1030 25626 19845 15493 2017 2812 12436 4691 2461 6279 2003 2919 2005 2033 1029 4283 2662 999 102 0 0 0 0 0 0 0 0 0 0 0 0 0 0 0 0 0 0 0 0 0 0 0 0 0 0 0 0 0 0 0 0 0 0 0 0 0 0 0 0 0 0 0 0 0 0 0 0 0 0 0 0 0 0 0 0 0 0 0 0 0 0 0 0 0 0 0 0 0 0 0 0 0 0 0 0 0 0 0 0 0 0 0 0 0 0 0 0 0 0 0 0 0 0 0 0 0 0 0 0 0 0 0 0 0 0 0 0 0 0 0 0 0 0 0 0 0 0 0 0 0 0 0 0\n"
          ],
          "name": "stderr"
        },
        {
          "output_type": "stream",
          "text": [
            "INFO:tensorflow:input_mask: 1 1 1 1 1 1 1 1 1 1 1 1 1 1 1 1 1 1 1 1 0 0 0 0 0 0 0 0 0 0 0 0 0 0 0 0 0 0 0 0 0 0 0 0 0 0 0 0 0 0 0 0 0 0 0 0 0 0 0 0 0 0 0 0 0 0 0 0 0 0 0 0 0 0 0 0 0 0 0 0 0 0 0 0 0 0 0 0 0 0 0 0 0 0 0 0 0 0 0 0 0 0 0 0 0 0 0 0 0 0 0 0 0 0 0 0 0 0 0 0 0 0 0 0 0 0 0 0 0 0 0 0 0 0 0 0 0 0 0 0 0 0 0 0\n"
          ],
          "name": "stdout"
        },
        {
          "output_type": "stream",
          "text": [
            "INFO:tensorflow:input_mask: 1 1 1 1 1 1 1 1 1 1 1 1 1 1 1 1 1 1 1 1 0 0 0 0 0 0 0 0 0 0 0 0 0 0 0 0 0 0 0 0 0 0 0 0 0 0 0 0 0 0 0 0 0 0 0 0 0 0 0 0 0 0 0 0 0 0 0 0 0 0 0 0 0 0 0 0 0 0 0 0 0 0 0 0 0 0 0 0 0 0 0 0 0 0 0 0 0 0 0 0 0 0 0 0 0 0 0 0 0 0 0 0 0 0 0 0 0 0 0 0 0 0 0 0 0 0 0 0 0 0 0 0 0 0 0 0 0 0 0 0 0 0 0 0\n"
          ],
          "name": "stderr"
        },
        {
          "output_type": "stream",
          "text": [
            "INFO:tensorflow:segment_ids: 0 0 0 0 0 0 0 0 0 0 0 0 0 0 0 0 0 0 0 0 0 0 0 0 0 0 0 0 0 0 0 0 0 0 0 0 0 0 0 0 0 0 0 0 0 0 0 0 0 0 0 0 0 0 0 0 0 0 0 0 0 0 0 0 0 0 0 0 0 0 0 0 0 0 0 0 0 0 0 0 0 0 0 0 0 0 0 0 0 0 0 0 0 0 0 0 0 0 0 0 0 0 0 0 0 0 0 0 0 0 0 0 0 0 0 0 0 0 0 0 0 0 0 0 0 0 0 0 0 0 0 0 0 0 0 0 0 0 0 0 0 0 0 0\n"
          ],
          "name": "stdout"
        },
        {
          "output_type": "stream",
          "text": [
            "INFO:tensorflow:segment_ids: 0 0 0 0 0 0 0 0 0 0 0 0 0 0 0 0 0 0 0 0 0 0 0 0 0 0 0 0 0 0 0 0 0 0 0 0 0 0 0 0 0 0 0 0 0 0 0 0 0 0 0 0 0 0 0 0 0 0 0 0 0 0 0 0 0 0 0 0 0 0 0 0 0 0 0 0 0 0 0 0 0 0 0 0 0 0 0 0 0 0 0 0 0 0 0 0 0 0 0 0 0 0 0 0 0 0 0 0 0 0 0 0 0 0 0 0 0 0 0 0 0 0 0 0 0 0 0 0 0 0 0 0 0 0 0 0 0 0 0 0 0 0 0 0\n"
          ],
          "name": "stderr"
        },
        {
          "output_type": "stream",
          "text": [
            "INFO:tensorflow:label: 0 (id = 1)\n"
          ],
          "name": "stdout"
        },
        {
          "output_type": "stream",
          "text": [
            "INFO:tensorflow:label: 0 (id = 1)\n"
          ],
          "name": "stderr"
        },
        {
          "output_type": "stream",
          "text": [
            "INFO:tensorflow:*** Example ***\n"
          ],
          "name": "stdout"
        },
        {
          "output_type": "stream",
          "text": [
            "INFO:tensorflow:*** Example ***\n"
          ],
          "name": "stderr"
        },
        {
          "output_type": "stream",
          "text": [
            "INFO:tensorflow:guid: \n"
          ],
          "name": "stdout"
        },
        {
          "output_type": "stream",
          "text": [
            "INFO:tensorflow:guid: \n"
          ],
          "name": "stderr"
        },
        {
          "output_type": "stream",
          "text": [
            "INFO:tensorflow:tokens: [CLS] guys im coming at u with very sad news . i lost my jesus ju ##ul yesterday and i wanted everyone to know i will be mourning for a while . would appreciate some time to heal . thank u have a blessed day [SEP]\n"
          ],
          "name": "stdout"
        },
        {
          "output_type": "stream",
          "text": [
            "INFO:tensorflow:tokens: [CLS] guys im coming at u with very sad news . i lost my jesus ju ##ul yesterday and i wanted everyone to know i will be mourning for a while . would appreciate some time to heal . thank u have a blessed day [SEP]\n"
          ],
          "name": "stderr"
        },
        {
          "output_type": "stream",
          "text": [
            "INFO:tensorflow:input_ids: 101 4364 10047 2746 2012 1057 2007 2200 6517 2739 1012 1045 2439 2026 4441 18414 5313 7483 1998 1045 2359 3071 2000 2113 1045 2097 2022 16236 2005 1037 2096 1012 2052 9120 2070 2051 2000 11005 1012 4067 1057 2031 1037 10190 2154 102 0 0 0 0 0 0 0 0 0 0 0 0 0 0 0 0 0 0 0 0 0 0 0 0 0 0 0 0 0 0 0 0 0 0 0 0 0 0 0 0 0 0 0 0 0 0 0 0 0 0 0 0 0 0 0 0 0 0 0 0 0 0 0 0 0 0 0 0 0 0 0 0 0 0 0 0 0 0 0 0 0 0 0 0 0 0 0 0 0 0 0 0 0 0 0 0 0 0\n"
          ],
          "name": "stdout"
        },
        {
          "output_type": "stream",
          "text": [
            "INFO:tensorflow:input_ids: 101 4364 10047 2746 2012 1057 2007 2200 6517 2739 1012 1045 2439 2026 4441 18414 5313 7483 1998 1045 2359 3071 2000 2113 1045 2097 2022 16236 2005 1037 2096 1012 2052 9120 2070 2051 2000 11005 1012 4067 1057 2031 1037 10190 2154 102 0 0 0 0 0 0 0 0 0 0 0 0 0 0 0 0 0 0 0 0 0 0 0 0 0 0 0 0 0 0 0 0 0 0 0 0 0 0 0 0 0 0 0 0 0 0 0 0 0 0 0 0 0 0 0 0 0 0 0 0 0 0 0 0 0 0 0 0 0 0 0 0 0 0 0 0 0 0 0 0 0 0 0 0 0 0 0 0 0 0 0 0 0 0 0 0 0 0\n"
          ],
          "name": "stderr"
        },
        {
          "output_type": "stream",
          "text": [
            "INFO:tensorflow:input_mask: 1 1 1 1 1 1 1 1 1 1 1 1 1 1 1 1 1 1 1 1 1 1 1 1 1 1 1 1 1 1 1 1 1 1 1 1 1 1 1 1 1 1 1 1 1 1 0 0 0 0 0 0 0 0 0 0 0 0 0 0 0 0 0 0 0 0 0 0 0 0 0 0 0 0 0 0 0 0 0 0 0 0 0 0 0 0 0 0 0 0 0 0 0 0 0 0 0 0 0 0 0 0 0 0 0 0 0 0 0 0 0 0 0 0 0 0 0 0 0 0 0 0 0 0 0 0 0 0 0 0 0 0 0 0 0 0 0 0 0 0 0 0 0 0\n"
          ],
          "name": "stdout"
        },
        {
          "output_type": "stream",
          "text": [
            "INFO:tensorflow:input_mask: 1 1 1 1 1 1 1 1 1 1 1 1 1 1 1 1 1 1 1 1 1 1 1 1 1 1 1 1 1 1 1 1 1 1 1 1 1 1 1 1 1 1 1 1 1 1 0 0 0 0 0 0 0 0 0 0 0 0 0 0 0 0 0 0 0 0 0 0 0 0 0 0 0 0 0 0 0 0 0 0 0 0 0 0 0 0 0 0 0 0 0 0 0 0 0 0 0 0 0 0 0 0 0 0 0 0 0 0 0 0 0 0 0 0 0 0 0 0 0 0 0 0 0 0 0 0 0 0 0 0 0 0 0 0 0 0 0 0 0 0 0 0 0 0\n"
          ],
          "name": "stderr"
        },
        {
          "output_type": "stream",
          "text": [
            "INFO:tensorflow:segment_ids: 0 0 0 0 0 0 0 0 0 0 0 0 0 0 0 0 0 0 0 0 0 0 0 0 0 0 0 0 0 0 0 0 0 0 0 0 0 0 0 0 0 0 0 0 0 0 0 0 0 0 0 0 0 0 0 0 0 0 0 0 0 0 0 0 0 0 0 0 0 0 0 0 0 0 0 0 0 0 0 0 0 0 0 0 0 0 0 0 0 0 0 0 0 0 0 0 0 0 0 0 0 0 0 0 0 0 0 0 0 0 0 0 0 0 0 0 0 0 0 0 0 0 0 0 0 0 0 0 0 0 0 0 0 0 0 0 0 0 0 0 0 0 0 0\n"
          ],
          "name": "stdout"
        },
        {
          "output_type": "stream",
          "text": [
            "INFO:tensorflow:segment_ids: 0 0 0 0 0 0 0 0 0 0 0 0 0 0 0 0 0 0 0 0 0 0 0 0 0 0 0 0 0 0 0 0 0 0 0 0 0 0 0 0 0 0 0 0 0 0 0 0 0 0 0 0 0 0 0 0 0 0 0 0 0 0 0 0 0 0 0 0 0 0 0 0 0 0 0 0 0 0 0 0 0 0 0 0 0 0 0 0 0 0 0 0 0 0 0 0 0 0 0 0 0 0 0 0 0 0 0 0 0 0 0 0 0 0 0 0 0 0 0 0 0 0 0 0 0 0 0 0 0 0 0 0 0 0 0 0 0 0 0 0 0 0 0 0\n"
          ],
          "name": "stderr"
        },
        {
          "output_type": "stream",
          "text": [
            "INFO:tensorflow:label: 0 (id = 1)\n"
          ],
          "name": "stdout"
        },
        {
          "output_type": "stream",
          "text": [
            "INFO:tensorflow:label: 0 (id = 1)\n"
          ],
          "name": "stderr"
        },
        {
          "output_type": "stream",
          "text": [
            "INFO:tensorflow:*** Example ***\n"
          ],
          "name": "stdout"
        },
        {
          "output_type": "stream",
          "text": [
            "INFO:tensorflow:*** Example ***\n"
          ],
          "name": "stderr"
        },
        {
          "output_type": "stream",
          "text": [
            "INFO:tensorflow:guid: \n"
          ],
          "name": "stdout"
        },
        {
          "output_type": "stream",
          "text": [
            "INFO:tensorflow:guid: \n"
          ],
          "name": "stderr"
        },
        {
          "output_type": "stream",
          "text": [
            "INFO:tensorflow:tokens: [CLS] it works good but i hate that it doesn ’ t match [UNK] i swear i ’ m never letting anyone borrow my va ##pe again [SEP]\n"
          ],
          "name": "stdout"
        },
        {
          "output_type": "stream",
          "text": [
            "INFO:tensorflow:tokens: [CLS] it works good but i hate that it doesn ’ t match [UNK] i swear i ’ m never letting anyone borrow my va ##pe again [SEP]\n"
          ],
          "name": "stderr"
        },
        {
          "output_type": "stream",
          "text": [
            "INFO:tensorflow:input_ids: 101 2009 2573 2204 2021 1045 5223 2008 2009 2987 1521 1056 2674 100 1045 8415 1045 1521 1049 2196 5599 3087 17781 2026 12436 5051 2153 102 0 0 0 0 0 0 0 0 0 0 0 0 0 0 0 0 0 0 0 0 0 0 0 0 0 0 0 0 0 0 0 0 0 0 0 0 0 0 0 0 0 0 0 0 0 0 0 0 0 0 0 0 0 0 0 0 0 0 0 0 0 0 0 0 0 0 0 0 0 0 0 0 0 0 0 0 0 0 0 0 0 0 0 0 0 0 0 0 0 0 0 0 0 0 0 0 0 0 0 0 0 0 0 0 0 0 0 0 0 0 0 0 0 0 0 0\n"
          ],
          "name": "stdout"
        },
        {
          "output_type": "stream",
          "text": [
            "INFO:tensorflow:input_ids: 101 2009 2573 2204 2021 1045 5223 2008 2009 2987 1521 1056 2674 100 1045 8415 1045 1521 1049 2196 5599 3087 17781 2026 12436 5051 2153 102 0 0 0 0 0 0 0 0 0 0 0 0 0 0 0 0 0 0 0 0 0 0 0 0 0 0 0 0 0 0 0 0 0 0 0 0 0 0 0 0 0 0 0 0 0 0 0 0 0 0 0 0 0 0 0 0 0 0 0 0 0 0 0 0 0 0 0 0 0 0 0 0 0 0 0 0 0 0 0 0 0 0 0 0 0 0 0 0 0 0 0 0 0 0 0 0 0 0 0 0 0 0 0 0 0 0 0 0 0 0 0 0 0 0 0 0\n"
          ],
          "name": "stderr"
        },
        {
          "output_type": "stream",
          "text": [
            "INFO:tensorflow:input_mask: 1 1 1 1 1 1 1 1 1 1 1 1 1 1 1 1 1 1 1 1 1 1 1 1 1 1 1 1 0 0 0 0 0 0 0 0 0 0 0 0 0 0 0 0 0 0 0 0 0 0 0 0 0 0 0 0 0 0 0 0 0 0 0 0 0 0 0 0 0 0 0 0 0 0 0 0 0 0 0 0 0 0 0 0 0 0 0 0 0 0 0 0 0 0 0 0 0 0 0 0 0 0 0 0 0 0 0 0 0 0 0 0 0 0 0 0 0 0 0 0 0 0 0 0 0 0 0 0 0 0 0 0 0 0 0 0 0 0 0 0 0 0 0 0\n"
          ],
          "name": "stdout"
        },
        {
          "output_type": "stream",
          "text": [
            "INFO:tensorflow:input_mask: 1 1 1 1 1 1 1 1 1 1 1 1 1 1 1 1 1 1 1 1 1 1 1 1 1 1 1 1 0 0 0 0 0 0 0 0 0 0 0 0 0 0 0 0 0 0 0 0 0 0 0 0 0 0 0 0 0 0 0 0 0 0 0 0 0 0 0 0 0 0 0 0 0 0 0 0 0 0 0 0 0 0 0 0 0 0 0 0 0 0 0 0 0 0 0 0 0 0 0 0 0 0 0 0 0 0 0 0 0 0 0 0 0 0 0 0 0 0 0 0 0 0 0 0 0 0 0 0 0 0 0 0 0 0 0 0 0 0 0 0 0 0 0 0\n"
          ],
          "name": "stderr"
        },
        {
          "output_type": "stream",
          "text": [
            "INFO:tensorflow:segment_ids: 0 0 0 0 0 0 0 0 0 0 0 0 0 0 0 0 0 0 0 0 0 0 0 0 0 0 0 0 0 0 0 0 0 0 0 0 0 0 0 0 0 0 0 0 0 0 0 0 0 0 0 0 0 0 0 0 0 0 0 0 0 0 0 0 0 0 0 0 0 0 0 0 0 0 0 0 0 0 0 0 0 0 0 0 0 0 0 0 0 0 0 0 0 0 0 0 0 0 0 0 0 0 0 0 0 0 0 0 0 0 0 0 0 0 0 0 0 0 0 0 0 0 0 0 0 0 0 0 0 0 0 0 0 0 0 0 0 0 0 0 0 0 0 0\n"
          ],
          "name": "stdout"
        },
        {
          "output_type": "stream",
          "text": [
            "INFO:tensorflow:segment_ids: 0 0 0 0 0 0 0 0 0 0 0 0 0 0 0 0 0 0 0 0 0 0 0 0 0 0 0 0 0 0 0 0 0 0 0 0 0 0 0 0 0 0 0 0 0 0 0 0 0 0 0 0 0 0 0 0 0 0 0 0 0 0 0 0 0 0 0 0 0 0 0 0 0 0 0 0 0 0 0 0 0 0 0 0 0 0 0 0 0 0 0 0 0 0 0 0 0 0 0 0 0 0 0 0 0 0 0 0 0 0 0 0 0 0 0 0 0 0 0 0 0 0 0 0 0 0 0 0 0 0 0 0 0 0 0 0 0 0 0 0 0 0 0 0\n"
          ],
          "name": "stderr"
        },
        {
          "output_type": "stream",
          "text": [
            "INFO:tensorflow:label: 0 (id = 1)\n"
          ],
          "name": "stdout"
        },
        {
          "output_type": "stream",
          "text": [
            "INFO:tensorflow:label: 0 (id = 1)\n"
          ],
          "name": "stderr"
        },
        {
          "output_type": "stream",
          "text": [
            "INFO:tensorflow:*** Example ***\n"
          ],
          "name": "stdout"
        },
        {
          "output_type": "stream",
          "text": [
            "INFO:tensorflow:*** Example ***\n"
          ],
          "name": "stderr"
        },
        {
          "output_type": "stream",
          "text": [
            "INFO:tensorflow:guid: \n"
          ],
          "name": "stdout"
        },
        {
          "output_type": "stream",
          "text": [
            "INFO:tensorflow:guid: \n"
          ],
          "name": "stderr"
        },
        {
          "output_type": "stream",
          "text": [
            "INFO:tensorflow:tokens: [CLS] q ##t @ ms ##meo ##wk ##in ##z : l ##m ##fa ##aa ##oo ##oo ##oo ##oo yoo ##oo i remember the days ; smoked mad hook ##ah this weekend , i sound like tracy morgan today [SEP]\n"
          ],
          "name": "stdout"
        },
        {
          "output_type": "stream",
          "text": [
            "INFO:tensorflow:tokens: [CLS] q ##t @ ms ##meo ##wk ##in ##z : l ##m ##fa ##aa ##oo ##oo ##oo ##oo yoo ##oo i remember the days ; smoked mad hook ##ah this weekend , i sound like tracy morgan today [SEP]\n"
          ],
          "name": "stderr"
        },
        {
          "output_type": "stream",
          "text": [
            "INFO:tensorflow:input_ids: 101 1053 2102 1030 5796 26247 26291 2378 2480 1024 1048 2213 7011 11057 9541 9541 9541 9541 26823 9541 1045 3342 1996 2420 1025 20482 5506 8103 4430 2023 5353 1010 1045 2614 2066 10555 5253 2651 102 0 0 0 0 0 0 0 0 0 0 0 0 0 0 0 0 0 0 0 0 0 0 0 0 0 0 0 0 0 0 0 0 0 0 0 0 0 0 0 0 0 0 0 0 0 0 0 0 0 0 0 0 0 0 0 0 0 0 0 0 0 0 0 0 0 0 0 0 0 0 0 0 0 0 0 0 0 0 0 0 0 0 0 0 0 0 0 0 0 0 0 0 0 0 0 0 0 0 0 0 0 0 0 0 0\n"
          ],
          "name": "stdout"
        },
        {
          "output_type": "stream",
          "text": [
            "INFO:tensorflow:input_ids: 101 1053 2102 1030 5796 26247 26291 2378 2480 1024 1048 2213 7011 11057 9541 9541 9541 9541 26823 9541 1045 3342 1996 2420 1025 20482 5506 8103 4430 2023 5353 1010 1045 2614 2066 10555 5253 2651 102 0 0 0 0 0 0 0 0 0 0 0 0 0 0 0 0 0 0 0 0 0 0 0 0 0 0 0 0 0 0 0 0 0 0 0 0 0 0 0 0 0 0 0 0 0 0 0 0 0 0 0 0 0 0 0 0 0 0 0 0 0 0 0 0 0 0 0 0 0 0 0 0 0 0 0 0 0 0 0 0 0 0 0 0 0 0 0 0 0 0 0 0 0 0 0 0 0 0 0 0 0 0 0 0 0\n"
          ],
          "name": "stderr"
        },
        {
          "output_type": "stream",
          "text": [
            "INFO:tensorflow:input_mask: 1 1 1 1 1 1 1 1 1 1 1 1 1 1 1 1 1 1 1 1 1 1 1 1 1 1 1 1 1 1 1 1 1 1 1 1 1 1 1 0 0 0 0 0 0 0 0 0 0 0 0 0 0 0 0 0 0 0 0 0 0 0 0 0 0 0 0 0 0 0 0 0 0 0 0 0 0 0 0 0 0 0 0 0 0 0 0 0 0 0 0 0 0 0 0 0 0 0 0 0 0 0 0 0 0 0 0 0 0 0 0 0 0 0 0 0 0 0 0 0 0 0 0 0 0 0 0 0 0 0 0 0 0 0 0 0 0 0 0 0 0 0 0 0\n"
          ],
          "name": "stdout"
        },
        {
          "output_type": "stream",
          "text": [
            "INFO:tensorflow:input_mask: 1 1 1 1 1 1 1 1 1 1 1 1 1 1 1 1 1 1 1 1 1 1 1 1 1 1 1 1 1 1 1 1 1 1 1 1 1 1 1 0 0 0 0 0 0 0 0 0 0 0 0 0 0 0 0 0 0 0 0 0 0 0 0 0 0 0 0 0 0 0 0 0 0 0 0 0 0 0 0 0 0 0 0 0 0 0 0 0 0 0 0 0 0 0 0 0 0 0 0 0 0 0 0 0 0 0 0 0 0 0 0 0 0 0 0 0 0 0 0 0 0 0 0 0 0 0 0 0 0 0 0 0 0 0 0 0 0 0 0 0 0 0 0 0\n"
          ],
          "name": "stderr"
        },
        {
          "output_type": "stream",
          "text": [
            "INFO:tensorflow:segment_ids: 0 0 0 0 0 0 0 0 0 0 0 0 0 0 0 0 0 0 0 0 0 0 0 0 0 0 0 0 0 0 0 0 0 0 0 0 0 0 0 0 0 0 0 0 0 0 0 0 0 0 0 0 0 0 0 0 0 0 0 0 0 0 0 0 0 0 0 0 0 0 0 0 0 0 0 0 0 0 0 0 0 0 0 0 0 0 0 0 0 0 0 0 0 0 0 0 0 0 0 0 0 0 0 0 0 0 0 0 0 0 0 0 0 0 0 0 0 0 0 0 0 0 0 0 0 0 0 0 0 0 0 0 0 0 0 0 0 0 0 0 0 0 0 0\n"
          ],
          "name": "stdout"
        },
        {
          "output_type": "stream",
          "text": [
            "INFO:tensorflow:segment_ids: 0 0 0 0 0 0 0 0 0 0 0 0 0 0 0 0 0 0 0 0 0 0 0 0 0 0 0 0 0 0 0 0 0 0 0 0 0 0 0 0 0 0 0 0 0 0 0 0 0 0 0 0 0 0 0 0 0 0 0 0 0 0 0 0 0 0 0 0 0 0 0 0 0 0 0 0 0 0 0 0 0 0 0 0 0 0 0 0 0 0 0 0 0 0 0 0 0 0 0 0 0 0 0 0 0 0 0 0 0 0 0 0 0 0 0 0 0 0 0 0 0 0 0 0 0 0 0 0 0 0 0 0 0 0 0 0 0 0 0 0 0 0 0 0\n"
          ],
          "name": "stderr"
        },
        {
          "output_type": "stream",
          "text": [
            "INFO:tensorflow:label: 0 (id = 1)\n"
          ],
          "name": "stdout"
        },
        {
          "output_type": "stream",
          "text": [
            "INFO:tensorflow:label: 0 (id = 1)\n"
          ],
          "name": "stderr"
        },
        {
          "output_type": "stream",
          "text": [
            "INFO:tensorflow:Calling model_fn.\n"
          ],
          "name": "stdout"
        },
        {
          "output_type": "stream",
          "text": [
            "INFO:tensorflow:Calling model_fn.\n"
          ],
          "name": "stderr"
        },
        {
          "output_type": "stream",
          "text": [
            "INFO:tensorflow:Saver not created because there are no variables in the graph to restore\n"
          ],
          "name": "stdout"
        },
        {
          "output_type": "stream",
          "text": [
            "INFO:tensorflow:Saver not created because there are no variables in the graph to restore\n"
          ],
          "name": "stderr"
        },
        {
          "output_type": "stream",
          "text": [
            "INFO:tensorflow:Done calling model_fn.\n"
          ],
          "name": "stdout"
        },
        {
          "output_type": "stream",
          "text": [
            "INFO:tensorflow:Done calling model_fn.\n"
          ],
          "name": "stderr"
        },
        {
          "output_type": "stream",
          "text": [
            "INFO:tensorflow:Graph was finalized.\n"
          ],
          "name": "stdout"
        },
        {
          "output_type": "stream",
          "text": [
            "INFO:tensorflow:Graph was finalized.\n"
          ],
          "name": "stderr"
        },
        {
          "output_type": "stream",
          "text": [
            "INFO:tensorflow:Restoring parameters from model/model.ckpt-160\n"
          ],
          "name": "stdout"
        },
        {
          "output_type": "stream",
          "text": [
            "INFO:tensorflow:Restoring parameters from model/model.ckpt-160\n"
          ],
          "name": "stderr"
        },
        {
          "output_type": "stream",
          "text": [
            "INFO:tensorflow:Running local_init_op.\n"
          ],
          "name": "stdout"
        },
        {
          "output_type": "stream",
          "text": [
            "INFO:tensorflow:Running local_init_op.\n"
          ],
          "name": "stderr"
        },
        {
          "output_type": "stream",
          "text": [
            "INFO:tensorflow:Done running local_init_op.\n"
          ],
          "name": "stdout"
        },
        {
          "output_type": "stream",
          "text": [
            "INFO:tensorflow:Done running local_init_op.\n"
          ],
          "name": "stderr"
        },
        {
          "output_type": "execute_result",
          "data": {
            "text/plain": [
              "('@VapinSquirrel @jsummers71 #vape #vapingsaveslives #vapefam Well put Ivanna 👈👏👏',\n",
              " array([0.9378829], dtype=float32))"
            ]
          },
          "metadata": {
            "tags": []
          },
          "execution_count": 61
        }
      ]
    },
    {
      "cell_type": "code",
      "metadata": {
        "id": "rNxl_OphWwku",
        "colab_type": "code",
        "colab": {}
      },
      "source": [
        "enc_labels = []\n",
        "texts = []\n",
        "for i in range(len(predictions)):\n",
        "  enc_labels.append(predictions[i][1] - 1) # [0, 1, 2] => [-1, 0, 1]\n",
        "  texts.append(predictions[i][0].replace('\\n', ' '))\n",
        "\n",
        "import numpy as np\n",
        "table = pd.DataFrame(np.array([texts, enc_labels, test['Opinion']]).T, columns = ['Text', 'Label', 'True'])\n",
        "table.to_csv('submission_bert.csv', sep = '\\n', index = False)"
      ],
      "execution_count": 0,
      "outputs": []
    },
    {
      "cell_type": "code",
      "metadata": {
        "id": "GQdMMQ2q15J9",
        "colab_type": "code",
        "colab": {
          "base_uri": "https://localhost:8080/",
          "height": 419
        },
        "outputId": "b804cf6b-d0ab-4622-f032-3fdc89fef689"
      },
      "source": [
        "table"
      ],
      "execution_count": 63,
      "outputs": [
        {
          "output_type": "execute_result",
          "data": {
            "text/html": [
              "<div>\n",
              "<style scoped>\n",
              "    .dataframe tbody tr th:only-of-type {\n",
              "        vertical-align: middle;\n",
              "    }\n",
              "\n",
              "    .dataframe tbody tr th {\n",
              "        vertical-align: top;\n",
              "    }\n",
              "\n",
              "    .dataframe thead th {\n",
              "        text-align: right;\n",
              "    }\n",
              "</style>\n",
              "<table border=\"1\" class=\"dataframe\">\n",
              "  <thead>\n",
              "    <tr style=\"text-align: right;\">\n",
              "      <th></th>\n",
              "      <th>Text</th>\n",
              "      <th>Label</th>\n",
              "      <th>True</th>\n",
              "    </tr>\n",
              "  </thead>\n",
              "  <tbody>\n",
              "    <tr>\n",
              "      <th>0</th>\n",
              "      <td>@VapinSquirrel @jsummers71 #vape #vapingsavesl...</td>\n",
              "      <td>[-0.0621171]</td>\n",
              "      <td>1</td>\n",
              "    </tr>\n",
              "    <tr>\n",
              "      <th>1</th>\n",
              "      <td>@BretWeinstein You mean vaping Roundup is bad ...</td>\n",
              "      <td>[0.032911897]</td>\n",
              "      <td>0</td>\n",
              "    </tr>\n",
              "    <tr>\n",
              "      <th>2</th>\n",
              "      <td>guys im coming at u with very sad news. i lost...</td>\n",
              "      <td>[0.0013533831]</td>\n",
              "      <td>0</td>\n",
              "    </tr>\n",
              "    <tr>\n",
              "      <th>3</th>\n",
              "      <td>It works good but I hate that it doesn’t match...</td>\n",
              "      <td>[-0.034660935]</td>\n",
              "      <td>0</td>\n",
              "    </tr>\n",
              "    <tr>\n",
              "      <th>4</th>\n",
              "      <td>QT @MsMeowkinz: Lmfaaaoooooooo yoooo I remembe...</td>\n",
              "      <td>[-0.04455775]</td>\n",
              "      <td>0</td>\n",
              "    </tr>\n",
              "    <tr>\n",
              "      <th>...</th>\n",
              "      <td>...</td>\n",
              "      <td>...</td>\n",
              "      <td>...</td>\n",
              "    </tr>\n",
              "    <tr>\n",
              "      <th>75</th>\n",
              "      <td>You, a peasant: Vape Mod My girlfriend’s mothe...</td>\n",
              "      <td>[-0.010536671]</td>\n",
              "      <td>0</td>\n",
              "    </tr>\n",
              "    <tr>\n",
              "      <th>76</th>\n",
              "      <td>i made fun of people who vape for so long unti...</td>\n",
              "      <td>[0.025931954]</td>\n",
              "      <td>-1</td>\n",
              "    </tr>\n",
              "    <tr>\n",
              "      <th>77</th>\n",
              "      <td>@ISDM27 Me after a cbd vape hit</td>\n",
              "      <td>[6.914139e-05]</td>\n",
              "      <td>0</td>\n",
              "    </tr>\n",
              "    <tr>\n",
              "      <th>78</th>\n",
              "      <td>‘Guy who smokes his juul and asks you if you’v...</td>\n",
              "      <td>[-0.005303383]</td>\n",
              "      <td>0</td>\n",
              "    </tr>\n",
              "    <tr>\n",
              "      <th>79</th>\n",
              "      <td>QT @FreshOj24: LMFAOOOOOOOOOO Im glad you know...</td>\n",
              "      <td>[-0.08438057]</td>\n",
              "      <td>0</td>\n",
              "    </tr>\n",
              "  </tbody>\n",
              "</table>\n",
              "<p>80 rows × 3 columns</p>\n",
              "</div>"
            ],
            "text/plain": [
              "                                                 Text           Label True\n",
              "0   @VapinSquirrel @jsummers71 #vape #vapingsavesl...    [-0.0621171]    1\n",
              "1   @BretWeinstein You mean vaping Roundup is bad ...   [0.032911897]    0\n",
              "2   guys im coming at u with very sad news. i lost...  [0.0013533831]    0\n",
              "3   It works good but I hate that it doesn’t match...  [-0.034660935]    0\n",
              "4   QT @MsMeowkinz: Lmfaaaoooooooo yoooo I remembe...   [-0.04455775]    0\n",
              "..                                                ...             ...  ...\n",
              "75  You, a peasant: Vape Mod My girlfriend’s mothe...  [-0.010536671]    0\n",
              "76  i made fun of people who vape for so long unti...   [0.025931954]   -1\n",
              "77                    @ISDM27 Me after a cbd vape hit  [6.914139e-05]    0\n",
              "78  ‘Guy who smokes his juul and asks you if you’v...  [-0.005303383]    0\n",
              "79  QT @FreshOj24: LMFAOOOOOOOOOO Im glad you know...   [-0.08438057]    0\n",
              "\n",
              "[80 rows x 3 columns]"
            ]
          },
          "metadata": {
            "tags": []
          },
          "execution_count": 63
        }
      ]
    },
    {
      "cell_type": "code",
      "metadata": {
        "id": "vZEcatMyWwkx",
        "colab_type": "code",
        "colab": {
          "base_uri": "https://localhost:8080/",
          "height": 1000
        },
        "outputId": "ec5a87a3-c535-4441-ba8e-fb7d05958142"
      },
      "source": [
        "!cat submission_bert.csv"
      ],
      "execution_count": 64,
      "outputs": [
        {
          "output_type": "stream",
          "text": [
            "Text\n",
            "Label\n",
            "True\n",
            "@VapinSquirrel @jsummers71 #vape #vapingsaveslives #vapefam Well put Ivanna 👈👏👏\n",
            "[-0.0621171]\n",
            "1\n",
            "@BretWeinstein You mean vaping Roundup is bad for me? Thanks California!\n",
            "[0.0329119]\n",
            "0\n",
            "guys im coming at u with very sad news. i lost my jesus juul yesterday and i wanted everyone to know i will be mourning for a while. would appreciate some time to heal. thank u have a blessed day\n",
            "[0.00135338]\n",
            "0\n",
            "It works good but I hate that it doesn’t match 🙄 I swear I’m never letting anyone borrow my vape again\n",
            "[-0.03466094]\n",
            "0\n",
            "QT @MsMeowkinz: Lmfaaaoooooooo yoooo I remember the days🥴🥴🥴 ; smoked mad hookah this weekend, I sound like Tracy Morgan today 🥴\n",
            "[-0.04455775]\n",
            "0\n",
            "Female bathroom attendants generally don’t seem to yell at you for vaping so based on that I believe we need more women in office\n",
            "[-0.02680308]\n",
            "0\n",
            "@SwaggerSouls Swags your gonna died with the next 2 weeks an kill everyone in that house for your juul In other words.. You fucking weak cunt give up now before its too late\n",
            "[-0.08688122]\n",
            "-1\n",
            "@lovemyman_ San Francisco outlaws vaping and plastic straws however permits heroin use, public defecation , and public sex displays. Taxes up 40% and highest gas tax in NATION. Wow..someone still lives there?\n",
            "[-0.03779703]\n",
            "0\n",
            "had juul and a bang for breakfast 🤪✌🏼\n",
            "[-0.07031208]\n",
            "1\n",
            "I’ve had the same juul pod for two days you can tell @Crow_boi hasn’t been around much 🤷🏼‍♀️😂\n",
            "[-0.05455464]\n",
            "0\n",
            "“I go to the bathroom every 2 hours so I can hit my juul”\n",
            "[-0.03592116]\n",
            "0\n",
            "hookah and drinks errday\n",
            "[-0.03206277]\n",
            "0\n",
            "Smoking a juul is not better than smoking cigarettes if you’re pregnant you shouldn’t be smoking. Not sorry. Your child being healthy should mean more than feeding a habit 🤷🏼‍♀️.\n",
            "[-0.00076759]\n",
            "-1\n",
            "@PatriotMichaelO Hey Michael, Yes we’re so sorry for the delay we should have these kinks worked out very soon. Thanks so so much for your support. What MG do you vape?\n",
            "[-0.03088301]\n",
            "0\n",
            "QT @ayyebabygirl_: On God fr fr ; A paint and sip class, poetry slams, picnics in the park, cooking classes, wine tasting, hookah lounges, hiking, camping, road trips... ALL DATE IDEAS ID LOVE TO EXPERIENCE ❤️\n",
            "[-0.15849036]\n",
            "1\n",
            "If cigarette companies can't advertise on TV I truly believe Vape companies should be barred as well... Just because you added a battery doesn't make it any less dangerous....\n",
            "[-0.08942318]\n",
            "-1\n",
            "yang better hit a fuckin vape on stage I swear to got\n",
            "[-0.03978032]\n",
            "0\n",
            "it has been 24 hours since my lungs have had precious juul vapor in them. keep me in your thots & prayers\n",
            "[-0.00035471]\n",
            "0\n",
            "Wasn't paying attention while filling my top-fill vape tank and squirted an entire tanks worth of juice down the chimney.\n",
            "[-0.04216534]\n",
            "0\n",
            "If you juul, I will think lesser of you and make no apologies\n",
            "[-0.04166895]\n",
            "-1\n",
            "Ion smoke vapes that aint come from a dispensary\n",
            "[0.00031209]\n",
            "0\n",
            "Nigga said “the port taste better that the hookah “ 😭😭😭\n",
            "[-0.03410631]\n",
            "0\n",
            "@CNN @AngelusMerula There was a young man in NJ who was found slumped over in his car. His vape apparatus exploded and a small sliver of metal went through is carotid artery and he died before he could open the car door.\n",
            "[0.00101399]\n",
            "-1\n",
            "@johnaarellano I found your juul\n",
            "[-0.02644473]\n",
            "0\n",
            "QT @EwdatsGROSS: please stop i’m calling the police ; A juul My pussy 🤝 You can hit it\n",
            "[0.01752138]\n",
            "0\n",
            "“Keeley you got $30 I can borrow?” “No, why?” “oh someone’s selling their JUUL & I thought about buying it”-@KendalQuillen\n",
            "[0.00719738]\n",
            "0\n",
            "forbidden lovers: lip gloss, my vape\n",
            "[-0.07303685]\n",
            "0\n",
            "QT @donnicholass: 🗣🗣🗣🗣🗣 ; • DAY PARTY AT ZONA • NO COVER | $100 REG BOTTLES | $15 HOOKAH | $5 REFILLS | OUTSIDE PATIO | KITCHEN AVAILABLE ALL DAY! FMI CONTACT ME! Sounds by @DJDymand x @Deeejaybebo 🙌🏾\n",
            "[-0.04031986]\n",
            "0\n",
            "@twentyfourzz I bought a juul charger today ($10.95)\n",
            "[0.03898287]\n",
            "0\n",
            "QT @sardashhhhhhhhh: I don't juul but love the optimism ; if the juul doth crackle...big problems we tackle\n",
            "[-0.04364437]\n",
            "-1\n",
            "Bold of you to assume I wanna smell your vape cloud\n",
            "[-0.07234973]\n",
            "0\n",
            "nobody: my brain: hit ur juul\n",
            "[-0.03628445]\n",
            "0\n",
            "@ARBryant4 Vape smells are gross\n",
            "[-0.04385728]\n",
            "-1\n",
            "@Simonee_99 ian never smokin on hookah again\n",
            "[-0.04423618]\n",
            "-1\n",
            "@LivinginWhy Gotta go what ever creature you are, like me all trump supporters have businesses jobs etc , So it's time to go to bed and get up and work now go vape take some money out of your mom's wallet and go buy a pop good night loser\n",
            "[-0.01279914]\n",
            "0\n",
            "@StoneHamlin If I ever compliment vaping, call the police because I’ve been kidnapped\n",
            "[-0.02550817]\n",
            "-1\n",
            "@TweetsbyMontyy Hookah smoke\n",
            "[-0.03770548]\n",
            "0\n",
            "All this talk about banning Juul while cigarettes are still legal😷\n",
            "[0.00694501]\n",
            "1\n",
            "@TREESVlNYL *blows vape smoke trying to be cool* *brother ruins it by blowing it away* “ADAM”\n",
            "[-0.02678031]\n",
            "0\n",
            "QT @_anettt_: Anet after taking 5 hits ; I think I’ve had enough hookah for the rest of my life\n",
            "[-0.02834505]\n",
            "0\n",
            "Broke my phone so I have to go get a new one, popped my tire, lost my vape in a field, lost my charger, cut my body all up because I fell on a rock, called many people I shouldn’t have, lost my clothes.. all last night. Don’t drink\n",
            "[-0.07028246]\n",
            "0\n",
            "me a year ago: we GET IT you VAPE me now: *buys a vape pen*\n",
            "[0.00141585]\n",
            "1\n",
            "i lost my fucking juul, my nail is messed up, its hot, AND im broke as fuck now so happy friday to me lol\n",
            "[-0.03959996]\n",
            "0\n",
            "Just like in the movies, sitting up with a pillow against the headboard after incredible sex, smoking a Juul\n",
            "[-0.05617815]\n",
            "1\n",
            "QT @AddieMarieP: Me tries to hangout with someone... Skinny girl with a nice smile: I’ve got my juul Me: ; Fucking cunt\n",
            "[0.02255511]\n",
            "0\n",
            "i completely HATE when people try to one up you on a shitty home life or bad situations. I’ve SEEN bad home lives and I’ve witnessed the conscious and subconscious trauma and pain a child goes through and trust me your mom taking away your juul isn’t the same\n",
            "[0.00137007]\n",
            "-1\n",
            "@thedrunkpenguin I know a few that have quit using vaping they say the trick is to reduce the nicotine over time. I just never really enjoyed it that much, could never seem to find one that replicated actual cigarettes.\n",
            "[-0.01083505]\n",
            "-1\n",
            "@_Simbasworld I can't believe in this day and age people are still smoking cancer sticks when they could be smoking or vaping trees 🤷‍♀️\n",
            "[0.00961924]\n",
            "1\n",
            "@zookepermusic @DillonFrancis Now u can’t be vaping enough😤\n",
            "[-0.05152345]\n",
            "0\n",
            "@Hiiiiii74 @projectxpatriot @greshstart @CDCTobaccoFree Please name the “chemicals.” Vaping 10 years and making my own eliquid for 9 of those, I’d like to compare my ingredients with what you have down\n",
            "[0.00695693]\n",
            "1\n",
            "@stelIhudg you have a juul addiction & i am glad i don’t have a juul addiction 😀\n",
            "[-0.03302222]\n",
            "-1\n",
            "Just saw ray walking to St. Thomas holding and smoking a whole hookah. Man it’s good to be back in Waterford\n",
            "[0.00688052]\n",
            "0\n",
            "@thisisbrookeb we’re literally vape hot boxing your car\n",
            "[-0.06806439]\n",
            "0\n",
            "10 min into cleaning my room and I found my juul charger 💅\n",
            "[0.00964808]\n",
            "0\n",
            "juul pods are 21 dollars in Tampa they’re 17 in Cleveland this is sum bullshit\n",
            "[0.02980471]\n",
            "0\n",
            "why any of y'all vape when it's probably killing you is beyond me. I'll only fill my lungs with what god intended me to: latex paint and oxygen 👋👋👋\n",
            "[-0.01649559]\n",
            "-1\n",
            "me: *doesn’t eat a meal until 5pm* also me: *chain smokes juul and black iced coffees* also also me: *is slut* also also also me: “why do i keep getting sick??”\n",
            "[-0.00896102]\n",
            "0\n",
            "that juul buzz be hittin my feet more than anything no cap\n",
            "[0.04755902]\n",
            "0\n",
            "Dropped my juul in the toilet... bought a new one. Two days later did the same thing... fml\n",
            "[-0.02450025]\n",
            "0\n",
            "@yessiebabyyy Juul’s are horrible, go to a vape shop and get a real mod\n",
            "[0.01314306]\n",
            "1\n",
            "@kkillah_x nobody goes outside so even if you did try to go to a bar or a hookah lounge they’re EMPTY so it’s still not fun 😂😂😂😂\n",
            "[-0.0354858]\n",
            "0\n",
            "He put Essentia in the hookah 😂 is that’s not love I don’t know what is\n",
            "[-0.08012247]\n",
            "0\n",
            "gunna setup outside my old high school and sell juul pods to students out of my 2004 VW Jetta like the entrepreneur I am\n",
            "[0.02870536]\n",
            "0\n",
            "The family that vapes together stays together, clearly.\n",
            "[-0.14954054]\n",
            "1\n",
            "Someone buy this damn juul since i can’t use it anymore ☹️\n",
            "[-0.02102482]\n",
            "0\n",
            "QT @scottbudman: WTF San Francisco? You fascist demagogues just might wanna do bans on feces, urine, hypodermic needles & typhus in the streets. ; The first major city in the country to ban the sale of electronic cigarettes, San Francisco, is the home of Juul. SF also recently approved a ban on the sale of flavored tobacco and a tax on sugar-sweetened drinks.\n",
            "[-0.06234586]\n",
            "0\n",
            "@DrThomasWhite @Mathews_Archery Glad you clarified what that pipe was. Originally thought you accidentaly left your vape stick in the picture 😂\n",
            "[-0.03353006]\n",
            "0\n",
            "QT @DylDuplechain: This right here !!! ; why you gonna waste you money on juul pods of you cant even inhale the juul?\n",
            "[-0.03823847]\n",
            "1\n",
            "some of you have never experienced getting anxiety ab asking if u can hit ur friends juul and its SHOWS.\n",
            "[-0.08034456]\n",
            "0\n",
            "new vape 😁😍😋\n",
            "[-0.02827704]\n",
            "1\n",
            "Vape rig that looks like an AirPod case™\n",
            "[-0.03698659]\n",
            "0\n",
            "I wanna b as passionate about something like people that stay up to date on the latest vape tech and shit\n",
            "[-0.05053145]\n",
            "0\n",
            "QT @johngraycpa: Dumbest tweet of the day? ; Wait a minute. Muslims in NE who own “Hookah” bars are NOT required to sell alcohol because alcohol is against their religious beliefs but Christian bakers in NE must bake cakes for LGBTQ even though it’s against THEIR religious beliefs? No dbl standard or discrimination there?\n",
            "[-0.0464676]\n",
            "0\n",
            "@neamhrialta If you own a juul this birthday should probably be your last\n",
            "[0.00572157]\n",
            "-1\n",
            "I think I just heard my husband ask “what is your favorite vape” in the other room so I guess I don’t know who he is anymore.\n",
            "[-0.00843894]\n",
            "-1\n",
            "You, a peasant: Vape Mod My girlfriend’s mother, a god: Wireless Hookah 😈😈\n",
            "[-0.01053667]\n",
            "0\n",
            "i made fun of people who vape for so long until they made a usb stick that curbs my desire to eat toothpaste\n",
            "[0.02593195]\n",
            "-1\n",
            "@ISDM27 Me after a cbd vape hit\n",
            "[6.914139e-05]\n",
            "0\n",
            "‘Guy who smokes his juul and asks you if you’ve ever had white claw’ is the new ‘girl with a teal Hydroflask telling you she still has ice in there since the day before’\n",
            "[-0.00530338]\n",
            "0\n",
            "QT @FreshOj24: LMFAOOOOOOOOOO Im glad you know ; Dominican niggas from DR don’t know how to pass the hookah.\n",
            "[-0.08438057]\n",
            "0\n"
          ],
          "name": "stdout"
        }
      ]
    },
    {
      "cell_type": "code",
      "metadata": {
        "id": "W8EsA2UBWwk0",
        "colab_type": "code",
        "colab": {}
      },
      "source": [
        "# The END"
      ],
      "execution_count": 0,
      "outputs": []
    }
  ]
}